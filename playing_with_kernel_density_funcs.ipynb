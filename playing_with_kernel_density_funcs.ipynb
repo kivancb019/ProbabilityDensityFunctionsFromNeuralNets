{
 "cells": [
  {
   "cell_type": "markdown",
   "id": "0b97a424",
   "metadata": {},
   "source": [
    "## Kernel Density Funcs"
   ]
  },
  {
   "cell_type": "code",
   "execution_count": 1,
   "id": "45ba5f25",
   "metadata": {},
   "outputs": [],
   "source": [
    "######################################################\n",
    "##\n",
    "## Probability Density Function (PDF) Estimation\n",
    "##\n",
    "######################################################\n",
    "\n",
    "import torch\n",
    "import numpy as np\n",
    "import pandas as pd\n",
    "import sklearn\n",
    "import torch.nn as nn\n",
    "import torch.nn.functional as F\n",
    "import matplotlib.pyplot as plt\n",
    "import math\n",
    "\n",
    "\n",
    "from torch.utils.data import TensorDataset, DataLoader\n",
    "from sklearn.model_selection import train_test_split\n",
    "from mlxtend.plotting import heatmap\n",
    "from numpy.random import normal\n",
    "from scipy.stats import norm\n",
    "import scipy.stats as stats\n",
    "from numpy import hstack\n",
    "from numpy import asarray\n",
    "from numpy import exp\n",
    "from sklearn.neighbors import KernelDensity\n",
    "\n",
    "## coefficient of determination (R**2)\n",
    "from sklearn.metrics import r2_score\n",
    "\n",
    "\n",
    "#######################################################\n",
    "\n",
    "N_EPOCHS = 50000\n",
    "batch_size = 10\n",
    "learning_rate =  0.001    ## 0.01   ## 1e-5 \n",
    "\n",
    "## probably need adjustable learning rate scheduler\n",
    "\n",
    "#######################################################\n",
    "\n",
    "np.set_printoptions(suppress=True)\n",
    "torch.set_printoptions(sci_mode=False)\n",
    "\n",
    "#######################################################"
   ]
  },
  {
   "cell_type": "markdown",
   "id": "eae4e15b",
   "metadata": {},
   "source": [
    "## Assume 400 predicted errors with Unknown distribution"
   ]
  },
  {
   "cell_type": "code",
   "execution_count": 2,
   "id": "11466633",
   "metadata": {},
   "outputs": [
    {
     "name": "stdout",
     "output_type": "stream",
     "text": [
      "400\n"
     ]
    },
    {
     "data": {
      "image/png": "[encoded data removed]",
      "text/plain": [
       "<Figure size 432x288 with 1 Axes>"
      ]
     },
     "metadata": {
      "needs_background": "light"
     },
     "output_type": "display_data"
    }
   ],
   "source": [
    "\n",
    "\n",
    "error1 = normal(loc=7, scale=3, size=300)\n",
    "error2 = normal(loc=-7, scale=3, size=100)\n",
    "\n",
    "\n",
    "errors = hstack((error1, error2))\n",
    "\n",
    "print(len(errors))\n",
    "\n",
    "plt.hist(errors, bins=50)\n",
    "plt.show()\n"
   ]
  },
  {
   "cell_type": "code",
   "execution_count": 3,
   "id": "192444fd",
   "metadata": {},
   "outputs": [
    {
     "name": "stdout",
     "output_type": "stream",
     "text": [
      "(400,)\n"
     ]
    },
    {
     "data": {
      "text/plain": [
       "array([ 12.1091909 ,   7.31330983,   7.69235744,   5.30626328,\n",
       "         9.12076509,   5.81491026,  12.32410848,   4.60927471,\n",
       "         9.36392836,   4.26059836,   1.4710742 ,   5.55059297,\n",
       "         8.97916328,   6.65561993,   9.28696776,   6.06588026,\n",
       "         9.34173101,  12.88125275,   2.32192429,   9.91982408,\n",
       "         8.34012434,   9.84509251,  12.00127727,  11.77306346,\n",
       "         9.013085  ,  -1.17464561,   6.01800049,   8.91588694,\n",
       "         6.77142832,  17.82365298,   8.73147347,   8.75884198,\n",
       "         8.02312367,   3.51792133,   5.30790953,  11.34213013,\n",
       "         8.73521211,   9.23672948,   9.20399567,   4.14550133,\n",
       "         8.01744582,   6.61120298,  15.18660501,   8.76067696,\n",
       "         3.23303785,   4.74462109,   9.91583864,   9.46564664,\n",
       "        11.17116415,   5.56854853,   9.20545274,   7.8915615 ,\n",
       "         4.51038318,  13.13744092,   6.71159961,   7.95784919,\n",
       "         6.86746687,   9.35904979,   8.65035188,   6.33231289,\n",
       "        10.1217111 ,   1.19928076,   8.77446   ,   9.01907928,\n",
       "         2.13981637,   6.93804787,   8.2139959 ,   5.95061586,\n",
       "         3.09646411,   4.17607177,  10.30027468,   9.68712295,\n",
       "         8.73642738,   6.64691875,  12.20287447,   4.61701987,\n",
       "         6.44806342,   3.96543545,   4.97689574,   9.95342541,\n",
       "        10.50347222,  10.50904786,   6.01979561,   5.53578858,\n",
       "         5.83552922,   3.76586275,   8.91413402,   8.30850014,\n",
       "         4.54801543,   3.63004409,   4.8458018 ,   2.59137726,\n",
       "         6.62318255,  10.71229978,   5.940393  ,  14.43685081,\n",
       "         8.77761724,   5.77331124,   8.29692097,  11.98396363,\n",
       "         4.20644246,   2.96553222,   8.96126975,   4.94606625,\n",
       "        11.58750783,   6.72734295,   4.52829523,   5.10194735,\n",
       "         4.07953245,   6.26540793,   7.53736423,   4.59947568,\n",
       "         4.38299745,   7.32518062,   6.83852198,   3.31559321,\n",
       "         4.27405894,   3.63571459,  10.0053015 ,   7.49617125,\n",
       "        10.20053373,   7.56309174,   7.41717096,   9.93989058,\n",
       "         8.59987464,   8.18222602,   8.32419378,   4.98882606,\n",
       "         8.33947257,   4.05017488,   9.21685113,   6.36230912,\n",
       "         8.04990722,   5.7562636 ,   2.65222553,   6.8105998 ,\n",
       "         4.96336123,   4.0869576 ,   4.68838049,   5.09108093,\n",
       "         5.8136616 ,   4.64791978,   8.64548415,   5.43424101,\n",
       "         9.31050237,   3.22814891,   6.04626515,  10.55423882,\n",
       "         5.4340403 ,   1.22719148,   7.56675005,   6.24364794,\n",
       "         6.67291321,   6.58256729,   4.78043565,   4.85852192,\n",
       "         9.52581785,   7.02677819,   7.77694701,   7.8471751 ,\n",
       "         4.71858682,   3.37288322,   8.81568618,   9.2613426 ,\n",
       "        15.47269038,   7.90179264,  11.34797852,  10.99475136,\n",
       "         7.49952454,   4.86923643,   9.44318757,   7.40267456,\n",
       "        15.92276203,  10.76881391,   5.4959629 ,   5.78257066,\n",
       "         8.26133793,   1.56168919,   3.01397087,   7.22868326,\n",
       "         9.1016894 ,   7.448999  ,  11.53587274,   5.8590176 ,\n",
       "         9.93419247,   2.74720481,   6.80254468,  11.37997228,\n",
       "         6.91242005,   9.82525208,  11.40546617,   8.60675543,\n",
       "         7.02410936,   3.2650255 ,   3.13729518,   9.48776052,\n",
       "         5.09968086,  10.02638556,   7.64389547,   8.53483227,\n",
       "         7.83085826,   9.07502616,   9.66341457,   4.15959619,\n",
       "         6.99229112,   2.5813518 ,   8.34683823,   4.08276852,\n",
       "        10.86406465,  10.38562238,   8.76631544,   3.22603916,\n",
       "         5.99867937,   6.731235  ,   3.55209678,   8.77873423,\n",
       "         9.6055372 ,   8.22378459,   5.96702825,   9.94639525,\n",
       "         7.80028057,   5.33159369,   4.8888222 ,   5.68307015,\n",
       "         8.23959002,   8.24474029,   4.52401854,   8.9561584 ,\n",
       "        11.28028573,  10.07380935,   5.49662311,   4.48689253,\n",
       "         8.06415726,   3.88682367,  10.45915733,   2.72018541,\n",
       "         9.33114827,   7.4441078 ,   8.57737719,   7.82377416,\n",
       "         6.93223778,   5.22550613,   9.62361642,   7.68986541,\n",
       "        10.44402666,   6.96425395,   7.99029183,   7.80496991,\n",
       "         9.50832242,   7.58478506,   5.42178508,  11.98367567,\n",
       "         6.30048934,   2.44518057,   4.11792615,   8.10003905,\n",
       "         5.64099011,   9.93189052,   8.47668601,  11.73660482,\n",
       "        10.72899445,   8.31242389,   6.88391792,   6.06006393,\n",
       "         9.87007293,   7.07065347,   6.53770254,   5.13453455,\n",
       "         0.46027694,   5.85556685,   3.31848666,   4.84960612,\n",
       "         7.38030613,   9.89081387,   5.16415494,   7.56825561,\n",
       "         3.83760661,   6.91568326,   7.11975982,   9.9771245 ,\n",
       "        -1.17641513,  12.48049534,  10.30550406,   9.28722545,\n",
       "        10.35622287,   8.94809634,   5.1431897 ,   7.37510798,\n",
       "         5.8940872 ,   5.66872822,   5.92976736,   6.9698569 ,\n",
       "        12.39262664,   9.41412333,  12.08644074,   8.20462131,\n",
       "         9.71677072,   7.53908903,  10.99280368,   9.18210333,\n",
       "        -9.48102387,  -3.69026498,  -8.73557984,  -6.47723049,\n",
       "       -12.98806585,  -6.88781029,  -6.59527519, -11.54507069,\n",
       "        -4.45782663,  -9.60202682,  -7.3590993 ,  -8.40045378,\n",
       "        -4.57089484,  -9.82858629, -11.9187251 ,  -9.45624496,\n",
       "        -6.28193177,  -9.44547376,  -8.60013025,  -3.21680837,\n",
       "       -11.15378209, -12.13062384,  -4.17554804, -10.6433799 ,\n",
       "        -3.43180385,  -6.8114292 ,  -6.97395732,  -6.51991592,\n",
       "        -6.34793722,  -7.71504857,  -6.75965735, -12.77562164,\n",
       "        -6.33190662,  -3.25788847,  -8.6514229 ,  -4.11625786,\n",
       "        -9.15474104, -11.73234849, -12.07178646,  -5.8053939 ,\n",
       "        -5.44113855,  -5.41041104, -10.03066266,  -6.61598191,\n",
       "       -11.44116446,  -7.52116991,  -7.02674351,  -8.17398093,\n",
       "        -9.94252879,  -7.22271444, -13.9156896 ,  -2.49847525,\n",
       "        -1.06377871, -11.85718201,  -2.25580812,  -7.54233006,\n",
       "        -3.16321475,  -7.00738282, -11.20814134,  -5.78290431,\n",
       "       -10.20670533,  -7.59989883,  -8.04618691, -11.26274473,\n",
       "       -13.33161715,  -6.50762806,  -1.77645301,  -7.71335874,\n",
       "        -6.96053772,  -9.09256506,  -4.90764122,  -1.24181488,\n",
       "         2.01989311,  -8.30548137,  -7.82034553, -14.26475711,\n",
       "       -10.78568695,  -1.08311584,  -8.63296507,  -3.85363491,\n",
       "        -8.68961057,   0.70341251,  -3.81959184,  -7.41599695,\n",
       "       -11.63122914,  -5.58718296,  -9.49978913,  -7.55641013,\n",
       "        -7.70461338,  -7.80832918, -13.34438598,  -6.25332679,\n",
       "        -4.82082337,  -8.08738266,  -8.11707893,  -8.9728639 ,\n",
       "       -10.71576074, -11.32234263,  -8.55793556, -13.87972424])"
      ]
     },
     "execution_count": 3,
     "metadata": {},
     "output_type": "execute_result"
    }
   ],
   "source": [
    "print(errors[:].shape)\n",
    "errors[:]"
   ]
  },
  {
   "cell_type": "markdown",
   "id": "c62810b3",
   "metadata": {},
   "source": [
    "## Learn the function that predicts the unknown error distribution\n",
    "\n",
    "* sum of basis funcs (e.g. sum of gaussians)"
   ]
  },
  {
   "cell_type": "code",
   "execution_count": 4,
   "id": "939fc5c2",
   "metadata": {},
   "outputs": [],
   "source": [
    "\n",
    "## Bandwidth (smoothing parameter) is a window size required by the algorithm that controls \n",
    "## the number of observations (samples) to look at per new point to estimate. \n",
    "## The kernel is the basis function. \n",
    "\n",
    "\n",
    "\n",
    "def sum_of_basis_func(errors, bandwidth):\n",
    "    \n",
    "    model = KernelDensity(bandwidth=bandwidth, kernel='gaussian')\n",
    "\n",
    "    errors = errors.reshape(  (len(errors), 1)   )              ## 1000x1\n",
    "\n",
    "    model.fit(errors)\n",
    "    \n",
    "    return model\n"
   ]
  },
  {
   "cell_type": "code",
   "execution_count": 5,
   "id": "4dc074c3",
   "metadata": {},
   "outputs": [],
   "source": [
    "\n",
    "bandwidth = 2\n",
    "\n",
    "basis_func_trained = sum_of_basis_func(errors,  bandwidth)\n"
   ]
  },
  {
   "cell_type": "markdown",
   "id": "9cc418d0",
   "metadata": {},
   "source": [
    "## This is the scale in which to compare impulse to unknown error distribution \n",
    "\n",
    "* [-20, 20] with step 0.1 which will give a vector of 4000"
   ]
  },
  {
   "cell_type": "code",
   "execution_count": 6,
   "id": "cd1d4b73",
   "metadata": {},
   "outputs": [],
   "source": [
    "\n",
    "N_error_range = 20\n",
    "\n",
    "x = torch.arange(-N_error_range, N_error_range, 0.01)                   ## the error is in this range "
   ]
  },
  {
   "cell_type": "code",
   "execution_count": 7,
   "id": "8e281c81",
   "metadata": {},
   "outputs": [
    {
     "data": {
      "text/plain": [
       "tensor([-20.0000, -19.9900, -19.9800,  ...,  19.9700,  19.9800,  19.9900])"
      ]
     },
     "execution_count": 7,
     "metadata": {},
     "output_type": "execute_result"
    }
   ],
   "source": [
    "x"
   ]
  },
  {
   "cell_type": "markdown",
   "id": "0ecff68c",
   "metadata": {},
   "source": [
    "## Given x range [-20,20] predict using learned error PDF func"
   ]
  },
  {
   "cell_type": "code",
   "execution_count": 8,
   "id": "2460725f",
   "metadata": {},
   "outputs": [
    {
     "name": "stdout",
     "output_type": "stream",
     "text": [
      "torch.Size([4000, 1])\n",
      "[-10.61683434 -10.60124084 -10.58567003 ...  -7.75282923  -7.76028714\n",
      "  -7.76776075]\n",
      "(4000,)\n"
     ]
    }
   ],
   "source": [
    "\n",
    "x = x.reshape(   (len(x), 1)    )\n",
    "\n",
    "print(x.shape)\n",
    "\n",
    "probabilities = basis_func_trained.score_samples(x) \n",
    "print(probabilities)\n",
    "print(probabilities.shape)\n",
    "\n"
   ]
  },
  {
   "cell_type": "markdown",
   "id": "57965c83",
   "metadata": {},
   "source": [
    "## Now invert from log space to exponent space "
   ]
  },
  {
   "cell_type": "code",
   "execution_count": 9,
   "id": "a3ade744",
   "metadata": {},
   "outputs": [
    {
     "name": "stdout",
     "output_type": "stream",
     "text": [
      "[0.0000245  0.00002489 0.00002528 ... 0.00042953 0.00042633 0.00042316]\n",
      "(4000,)\n"
     ]
    }
   ],
   "source": [
    "\n",
    "probabilities_exp = exp(probabilities)\n",
    "print(probabilities_exp)\n",
    "print(probabilities_exp.shape)\n",
    "\n"
   ]
  },
  {
   "cell_type": "markdown",
   "id": "d3a47dba",
   "metadata": {},
   "source": [
    "## The yellow line is the preds using the learned unknown func "
   ]
  },
  {
   "cell_type": "code",
   "execution_count": 10,
   "id": "c8e57872",
   "metadata": {},
   "outputs": [
    {
     "data": {
      "image/png": "[encoded data removed]",
      "text/plain": [
       "<Figure size 432x288 with 1 Axes>"
      ]
     },
     "metadata": {
      "needs_background": "light"
     },
     "output_type": "display_data"
    }
   ],
   "source": [
    "plt.hist(errors, bins=50, density=True)     ## see probs instead of counts with density=True\n",
    "plt.plot(x[:], probabilities_exp)          ## reshaped to 2D\n",
    "plt.show()"
   ]
  },
  {
   "cell_type": "markdown",
   "id": "13ea7b84",
   "metadata": {},
   "source": [
    "## This is the vector that will be compared to the impulse func\n",
    "\n",
    "* size 4000"
   ]
  },
  {
   "cell_type": "code",
   "execution_count": 11,
   "id": "afac5e93",
   "metadata": {},
   "outputs": [
    {
     "name": "stdout",
     "output_type": "stream",
     "text": [
      "[0.0000245  0.00002489 0.00002528 ... 0.00042953 0.00042633 0.00042316]\n",
      "(4000,)\n"
     ]
    }
   ],
   "source": [
    "\n",
    "print(probabilities_exp)\n",
    "print(probabilities_exp.shape)\n"
   ]
  },
  {
   "cell_type": "code",
   "execution_count": 12,
   "id": "bd72e1ba",
   "metadata": {},
   "outputs": [
    {
     "data": {
      "text/plain": [
       "array([0.02182474, 0.02185934, 0.02189388, 0.02192837, 0.02196281,\n",
       "       0.02199719, 0.02203151, 0.02206578, 0.02209999, 0.02213414,\n",
       "       0.02216824, 0.02220227, 0.02223624, 0.02227016, 0.02230401,\n",
       "       0.02233779, 0.02237152, 0.02240518, 0.02243877, 0.0224723 ,\n",
       "       0.02250576, 0.02253915, 0.02257248, 0.02260573, 0.02263892,\n",
       "       0.02267203, 0.02270507, 0.02273803, 0.02277093, 0.02280375,\n",
       "       0.02283649, 0.02286915, 0.02290174, 0.02293425, 0.02296668,\n",
       "       0.02299902, 0.02303129, 0.02306348, 0.02309558, 0.0231276 ,\n",
       "       0.02315953, 0.02319137, 0.02322313, 0.0232548 , 0.02328638,\n",
       "       0.02331788, 0.02334928, 0.02338058, 0.0234118 , 0.02344292,\n",
       "       0.02347395, 0.02350488, 0.02353571, 0.02356645, 0.02359708,\n",
       "       0.02362762, 0.02365806, 0.02368839, 0.02371862, 0.02374875,\n",
       "       0.02377877, 0.02380868, 0.02383849, 0.02386819, 0.02389778,\n",
       "       0.02392726, 0.02395663, 0.02398588, 0.02401503, 0.02404406,\n",
       "       0.02407297, 0.02410176, 0.02413044, 0.024159  , 0.02418744,\n",
       "       0.02421576, 0.02424396, 0.02427203, 0.02429998, 0.0243278 ,\n",
       "       0.0243555 , 0.02438307, 0.02441051, 0.02443783, 0.02446501,\n",
       "       0.02449206, 0.02451898, 0.02454576, 0.02457241, 0.02459892,\n",
       "       0.0246253 , 0.02465154, 0.02467764, 0.02470359, 0.02472941,\n",
       "       0.02475509, 0.02478062, 0.024806  , 0.02483124, 0.02485634,\n",
       "       0.02488128, 0.02490608, 0.02493073, 0.02495522, 0.02497957,\n",
       "       0.02500376, 0.02502779, 0.02505167, 0.0250754 , 0.02509896,\n",
       "       0.02512237, 0.02514562, 0.0251687 , 0.02519163, 0.02521439,\n",
       "       0.02523699, 0.02525942, 0.02528169, 0.02530379, 0.02532572,\n",
       "       0.02534749, 0.02536908, 0.0253905 , 0.02541175, 0.02543282,\n",
       "       0.02545372, 0.02547445, 0.025495  , 0.02551537, 0.02553556,\n",
       "       0.02555557, 0.02557541, 0.02559506, 0.02561453, 0.02563381,\n",
       "       0.02565291, 0.02567183, 0.02569055, 0.0257091 , 0.02572745,\n",
       "       0.02574561, 0.02576358, 0.02578136, 0.02579895, 0.02581635,\n",
       "       0.02583355, 0.02585055, 0.02586736, 0.02588398, 0.02590039,\n",
       "       0.02591661, 0.02593262, 0.02594844, 0.02596406, 0.02597947,\n",
       "       0.02599468, 0.02600968, 0.02602448, 0.02603907, 0.02605346,\n",
       "       0.02606764, 0.02608161, 0.02609537, 0.02610892, 0.02612226,\n",
       "       0.02613539, 0.02614831, 0.02616101, 0.0261735 , 0.02618577,\n",
       "       0.02619783, 0.02620967, 0.0262213 , 0.0262327 , 0.02624389,\n",
       "       0.02625486, 0.02626561, 0.02627613, 0.02628644, 0.02629652,\n",
       "       0.02630638, 0.02631602, 0.02632544, 0.02633462, 0.02634359,\n",
       "       0.02635232, 0.02636083, 0.02636911, 0.02637717, 0.026385  ,\n",
       "       0.02639259, 0.02639996, 0.02640709, 0.026414  , 0.02642067,\n",
       "       0.02642712, 0.02643333, 0.0264393 , 0.02644505, 0.02645055,\n",
       "       0.02645583, 0.02646087, 0.02646567, 0.02647024, 0.02647457,\n",
       "       0.02647867, 0.02648252, 0.02648614, 0.02648953, 0.02649267,\n",
       "       0.02649558, 0.02649824, 0.02650067, 0.02650285, 0.0265048 ,\n",
       "       0.02650651, 0.02650797, 0.0265092 , 0.02651018, 0.02651092,\n",
       "       0.02651142, 0.02651168, 0.02651169, 0.02651146, 0.02651099,\n",
       "       0.02651028, 0.02650932, 0.02650812, 0.02650668, 0.02650499,\n",
       "       0.02650306, 0.02650089, 0.02649847, 0.0264958 , 0.0264929 ,\n",
       "       0.02648975, 0.02648635, 0.02648271, 0.02647883, 0.0264747 ,\n",
       "       0.02647032, 0.0264657 , 0.02646084, 0.02645573, 0.02645038,\n",
       "       0.02644479, 0.02643895, 0.02643286, 0.02642653, 0.02641996,\n",
       "       0.02641314, 0.02640608, 0.02639878, 0.02639123, 0.02638344,\n",
       "       0.02637541, 0.02636713, 0.02635861, 0.02634985, 0.02634084,\n",
       "       0.0263316 , 0.02632211, 0.02631238, 0.02630241, 0.02629219,\n",
       "       0.02628174, 0.02627105, 0.02626011, 0.02624894, 0.02623753,\n",
       "       0.02622587, 0.02621398, 0.02620185, 0.02618949, 0.02617688,\n",
       "       0.02616404, 0.02615096, 0.02613765, 0.0261241 , 0.02611031,\n",
       "       0.02609629, 0.02608204, 0.02606755, 0.02605283, 0.02603788,\n",
       "       0.02602269, 0.02600728, 0.02599163, 0.02597575, 0.02595964,\n",
       "       0.0259433 , 0.02592674, 0.02590994, 0.02589292, 0.02587567,\n",
       "       0.0258582 , 0.0258405 , 0.02582258, 0.02580443, 0.02578606,\n",
       "       0.02576746, 0.02574865, 0.02572961, 0.02571036, 0.02569088,\n",
       "       0.02567119, 0.02565127, 0.02563114, 0.0256108 , 0.02559024,\n",
       "       0.02556946, 0.02554847, 0.02552727, 0.02550585, 0.02548423,\n",
       "       0.02546239, 0.02544034, 0.02541809, 0.02539563, 0.02537296,\n",
       "       0.02535008, 0.025327  , 0.02530372, 0.02528023, 0.02525654,\n",
       "       0.02523265, 0.02520856, 0.02518427, 0.02515978, 0.0251351 ,\n",
       "       0.02511022, 0.02508515, 0.02505988, 0.02503441, 0.02500876,\n",
       "       0.02498292, 0.02495688, 0.02493066, 0.02490425, 0.02487765,\n",
       "       0.02485087, 0.0248239 , 0.02479676, 0.02476942, 0.02474191,\n",
       "       0.02471422, 0.02468635, 0.0246583 , 0.02463008, 0.02460168,\n",
       "       0.02457311, 0.02454436, 0.02451545, 0.02448636, 0.0244571 ,\n",
       "       0.02442768, 0.02439809, 0.02436833, 0.02433841, 0.02430833,\n",
       "       0.02427808, 0.02424768, 0.02421711, 0.02418639, 0.02415551,\n",
       "       0.02412448, 0.02409329, 0.02406194, 0.02403045, 0.02399881,\n",
       "       0.02396702, 0.02393508, 0.02390299, 0.02387076, 0.02383838,\n",
       "       0.02380586, 0.0237732 , 0.0237404 , 0.02370747, 0.02367439,\n",
       "       0.02364118, 0.02360783, 0.02357436, 0.02354075, 0.02350701,\n",
       "       0.02347314, 0.02343914, 0.02340501, 0.02337077, 0.02333639,\n",
       "       0.0233019 , 0.02326728, 0.02323255, 0.02319769, 0.02316272,\n",
       "       0.02312763, 0.02309243, 0.02305712, 0.02302169, 0.02298616,\n",
       "       0.02295052, 0.02291476, 0.02287891, 0.02284295, 0.02280688,\n",
       "       0.02277071, 0.02273445, 0.02269808, 0.02266162, 0.02262506,\n",
       "       0.02258841, 0.02255166, 0.02251482, 0.02247789, 0.02244087,\n",
       "       0.02240376, 0.02236656, 0.02232928, 0.02229192, 0.02225447,\n",
       "       0.02221695, 0.02217934, 0.02214166, 0.02210389, 0.02206606,\n",
       "       0.02202815, 0.02199016, 0.02195211, 0.02191398, 0.02187579,\n",
       "       0.02183752, 0.0217992 , 0.0217608 , 0.02172235, 0.02168383,\n",
       "       0.02164525, 0.02160661, 0.02156792, 0.02152917, 0.02149036,\n",
       "       0.0214515 , 0.02141258, 0.02137362, 0.0213346 , 0.02129554,\n",
       "       0.02125643, 0.02121728, 0.02117807, 0.02113883, 0.02109954,\n",
       "       0.02106022, 0.02102085, 0.02098145, 0.02094201, 0.02090253,\n",
       "       0.02086302, 0.02082348, 0.0207839 , 0.0207443 , 0.02070466,\n",
       "       0.020665  , 0.02062531, 0.02058559, 0.02054585, 0.02050609,\n",
       "       0.02046631, 0.0204265 , 0.02038668, 0.02034684, 0.02030698,\n",
       "       0.02026711, 0.02022722, 0.02018732, 0.0201474 , 0.02010748,\n",
       "       0.02006755, 0.02002761, 0.01998766, 0.0199477 , 0.01990774,\n",
       "       0.01986778, 0.01982781, 0.01978784, 0.01974787, 0.0197079 ,\n",
       "       0.01966794, 0.01962798, 0.01958802, 0.01954806, 0.01950812,\n",
       "       0.01946818, 0.01942824, 0.01938832, 0.01934841, 0.01930851,\n",
       "       0.01926863, 0.01922875, 0.01918889, 0.01914905, 0.01910923,\n",
       "       0.01906942, 0.01902963, 0.01898987, 0.01895012, 0.01891039,\n",
       "       0.01887069, 0.01883101, 0.01879136, 0.01875173, 0.01871213,\n",
       "       0.01867256, 0.01863302, 0.0185935 , 0.01855402, 0.01851457,\n",
       "       0.01847515, 0.01843576, 0.01839641, 0.0183571 , 0.01831782,\n",
       "       0.01827858, 0.01823937, 0.0182002 , 0.01816108, 0.01812199,\n",
       "       0.01808295, 0.01804395, 0.01800499, 0.01796607, 0.0179272 ,\n",
       "       0.01788838, 0.0178496 , 0.01781087, 0.01777218, 0.01773355,\n",
       "       0.01769496, 0.01765643, 0.01761795, 0.01757952, 0.01754114,\n",
       "       0.01750281, 0.01746454, 0.01742632, 0.01738816, 0.01735006,\n",
       "       0.01731201, 0.01727402, 0.01723609, 0.01719821, 0.0171604 ,\n",
       "       0.01712265, 0.01708496, 0.01704733, 0.01700976, 0.01697226,\n",
       "       0.01693482, 0.01689744, 0.01686013, 0.01682289, 0.01678571,\n",
       "       0.01674859, 0.01671155, 0.01667457, 0.01663766, 0.01660083,\n",
       "       0.01656406, 0.01652736, 0.01649073, 0.01645418, 0.01641769,\n",
       "       0.01638128, 0.01634494, 0.01630868, 0.01627249, 0.01623637,\n",
       "       0.01620033, 0.01616437, 0.01612848, 0.01609267, 0.01605693,\n",
       "       0.01602128, 0.0159857 , 0.0159502 , 0.01591478, 0.01587944,\n",
       "       0.01584418, 0.015809  , 0.01577391, 0.01573889, 0.01570395,\n",
       "       0.0156691 , 0.01563433, 0.01559965, 0.01556504, 0.01553053,\n",
       "       0.01549609, 0.01546174, 0.01542748, 0.0153933 , 0.01535921,\n",
       "       0.0153252 , 0.01529129, 0.01525745, 0.01522371, 0.01519005,\n",
       "       0.01515649, 0.01512301, 0.01508962, 0.01505632, 0.01502311,\n",
       "       0.01498999, 0.01495696, 0.01492402, 0.01489117, 0.01485841,\n",
       "       0.01482575, 0.01479317, 0.01476069, 0.0147283 , 0.01469601,\n",
       "       0.01466381, 0.0146317 , 0.01459968, 0.01456776, 0.01453594,\n",
       "       0.01450421, 0.01447257, 0.01444103, 0.01440958, 0.01437823,\n",
       "       0.01434698, 0.01431583, 0.01428477, 0.0142538 , 0.01422294,\n",
       "       0.01419217, 0.0141615 , 0.01413093, 0.01410045, 0.01407008,\n",
       "       0.0140398 , 0.01400962, 0.01397954, 0.01394956, 0.01391968,\n",
       "       0.0138899 , 0.01386022, 0.01383065, 0.01380117, 0.01377179,\n",
       "       0.01374251, 0.01371334, 0.01368427, 0.0136553 , 0.01362643,\n",
       "       0.01359766, 0.013569  , 0.01354044, 0.01351198, 0.01348362,\n",
       "       0.01345537, 0.01342722, 0.01339918, 0.01337124, 0.0133434 ,\n",
       "       0.01331567, 0.01328804, 0.01326052, 0.01323311, 0.01320579,\n",
       "       0.01317859, 0.01315149, 0.0131245 , 0.01309761, 0.01307083,\n",
       "       0.01304415, 0.01301759, 0.01299113, 0.01296478, 0.01293853,\n",
       "       0.01291239, 0.01288636, 0.01286044, 0.01283463, 0.01280893,\n",
       "       0.01278333, 0.01275785, 0.01273247, 0.01270721, 0.01268205,\n",
       "       0.012657  , 0.01263207, 0.01260724, 0.01258253, 0.01255793,\n",
       "       0.01253343, 0.01250905, 0.01248478, 0.01246063, 0.01243658,\n",
       "       0.01241265, 0.01238883, 0.01236513, 0.01234153, 0.01231805,\n",
       "       0.01229469, 0.01227144, 0.0122483 , 0.01222528, 0.01220237,\n",
       "       0.01217958, 0.0121569 , 0.01213434, 0.01211189, 0.01208956,\n",
       "       0.01206735, 0.01204525, 0.01202327, 0.01200141, 0.01197967,\n",
       "       0.01195804, 0.01193653, 0.01191514, 0.01189387, 0.01187272,\n",
       "       0.01185169, 0.01183078, 0.01180999, 0.01178932, 0.01176877,\n",
       "       0.01174834, 0.01172803, 0.01170784, 0.01168778, 0.01166784,\n",
       "       0.01164802, 0.01162832, 0.01160875, 0.0115893 , 0.01156998,\n",
       "       0.01155078, 0.01153171, 0.01151276, 0.01149393, 0.01147524,\n",
       "       0.01145667, 0.01143822, 0.01141991, 0.01140172, 0.01138366,\n",
       "       0.01136573, 0.01134792, 0.01133025, 0.01131271, 0.01129529,\n",
       "       0.01127801, 0.01126086, 0.01124384, 0.01122695, 0.01121019,\n",
       "       0.01119357, 0.01117708, 0.01116072, 0.0111445 , 0.01112841,\n",
       "       0.01111246, 0.01109664, 0.01108096, 0.01106542, 0.01105001,\n",
       "       0.01103474, 0.01101961, 0.01100462, 0.01098977, 0.01097505,\n",
       "       0.01096048, 0.01094605, 0.01093176, 0.01091761, 0.0109036 ,\n",
       "       0.01088974, 0.01087601, 0.01086244, 0.01084901, 0.01083572,\n",
       "       0.01082258, 0.01080958, 0.01079673, 0.01078403, 0.01077148,\n",
       "       0.01075908, 0.01074682, 0.01073472, 0.01072276, 0.01071096,\n",
       "       0.01069931, 0.01068781, 0.01067647, 0.01066527, 0.01065424,\n",
       "       0.01064335, 0.01063263, 0.01062206, 0.01061164, 0.01060139,\n",
       "       0.01059129, 0.01058135, 0.01057157, 0.01056195, 0.01055249,\n",
       "       0.0105432 , 0.01053406, 0.01052509, 0.01051629, 0.01050765,\n",
       "       0.01049917, 0.01049086, 0.01048272, 0.01047474, 0.01046694,\n",
       "       0.0104593 , 0.01045183, 0.01044453, 0.01043741, 0.01043046,\n",
       "       0.01042368, 0.01041707, 0.01041064, 0.01040438, 0.0103983 ,\n",
       "       0.0103924 , 0.01038667, 0.01038113, 0.01037576, 0.01037057,\n",
       "       0.01036557, 0.01036075, 0.01035611, 0.01035165, 0.01034738,\n",
       "       0.01034329, 0.01033939, 0.01033568, 0.01033215, 0.01032882,\n",
       "       0.01032567, 0.01032271, 0.01031995, 0.01031738, 0.010315  ,\n",
       "       0.01031282, 0.01031083, 0.01030904, 0.01030744, 0.01030604,\n",
       "       0.01030485, 0.01030385, 0.01030305, 0.01030245, 0.01030206,\n",
       "       0.01030187, 0.01030189, 0.01030211, 0.01030253, 0.01030317,\n",
       "       0.01030401, 0.01030507, 0.01030633, 0.0103078 , 0.01030949,\n",
       "       0.01031139, 0.01031351, 0.01031584, 0.01031838, 0.01032115,\n",
       "       0.01032413, 0.01032733, 0.01033076, 0.0103344 , 0.01033827,\n",
       "       0.01034236, 0.01034668, 0.01035122, 0.01035598, 0.01036098,\n",
       "       0.01036621, 0.01037166, 0.01037734, 0.01038326, 0.01038941,\n",
       "       0.0103958 , 0.01040242, 0.01040927, 0.01041637, 0.0104237 ,\n",
       "       0.01043127, 0.01043908, 0.01044713, 0.01045543, 0.01046397,\n",
       "       0.01047276, 0.01048179, 0.01049107, 0.01050059, 0.01051037,\n",
       "       0.01052039, 0.01053067, 0.0105412 , 0.01055199, 0.01056303,\n",
       "       0.01057432, 0.01058587, 0.01059769, 0.01060976, 0.01062209,\n",
       "       0.01063468, 0.01064753, 0.01066065, 0.01067404, 0.01068769,\n",
       "       0.0107016 , 0.01071579, 0.01073024, 0.01074497, 0.01075997,\n",
       "       0.01077524, 0.01079078, 0.0108066 , 0.0108227 , 0.01083907,\n",
       "       0.01085572, 0.01087265, 0.01088986, 0.01090736, 0.01092514,\n",
       "       0.0109432 , 0.01096155, 0.01098018, 0.0109991 , 0.01101831,\n",
       "       0.01103781, 0.01105761, 0.01107769, 0.01109807, 0.01111874,\n",
       "       0.01113971, 0.01116097, 0.01118253, 0.01120439, 0.01122656,\n",
       "       0.01124902, 0.01127178, 0.01129485, 0.01131823, 0.01134191,\n",
       "       0.01136589, 0.01139019, 0.01141479, 0.01143971, 0.01146493,\n",
       "       0.01149047, 0.01151632, 0.01154249, 0.01156897, 0.01159577,\n",
       "       0.01162289, 0.01165033, 0.01167809, 0.01170616, 0.01173457,\n",
       "       0.01176329, 0.01179234, 0.01182172, 0.01185142, 0.01188145,\n",
       "       0.01191181, 0.0119425 , 0.01197352, 0.01200488, 0.01203656,\n",
       "       0.01206858, 0.01210094, 0.01213363, 0.01216666, 0.01220003,\n",
       "       0.01223374, 0.01226779, 0.01230218, 0.01233692, 0.01237199,\n",
       "       0.01240742, 0.01244318, 0.0124793 , 0.01251576, 0.01255257,\n",
       "       0.01258974, 0.01262725, 0.01266511, 0.01270333, 0.0127419 ])"
      ]
     },
     "execution_count": 12,
     "metadata": {},
     "output_type": "execute_result"
    }
   ],
   "source": [
    "probabilities_exp[1000:2000]"
   ]
  },
  {
   "cell_type": "code",
   "execution_count": 13,
   "id": "8e1fa8fd",
   "metadata": {},
   "outputs": [
    {
     "data": {
      "text/plain": [
       "array([0.01278083, 0.01282011, 0.01285974, 0.01289974, 0.01294009,\n",
       "       0.01298081, 0.01302188, 0.01306332, 0.01310511, 0.01314727,\n",
       "       0.0131898 , 0.01323269, 0.01327594, 0.01331956, 0.01336355,\n",
       "       0.01340791, 0.01345264, 0.01349774, 0.01354321, 0.01358905,\n",
       "       0.01363526, 0.01368185, 0.01372881, 0.01377615, 0.01382386,\n",
       "       0.01387195, 0.01392042, 0.01396927, 0.01401849, 0.0140681 ,\n",
       "       0.01411809, 0.01416845, 0.0142192 , 0.01427034, 0.01432185,\n",
       "       0.01437376, 0.01442604, 0.01447872, 0.01453178, 0.01458522,\n",
       "       0.01463906, 0.01469328, 0.01474789, 0.0148029 , 0.01485829,\n",
       "       0.01491407, 0.01497025, 0.01502682, 0.01508378, 0.01514113,\n",
       "       0.01519888, 0.01525703, 0.01531557, 0.0153745 , 0.01543384,\n",
       "       0.01549356, 0.01555369, 0.01561422, 0.01567514, 0.01573646,\n",
       "       0.01579818, 0.0158603 , 0.01592283, 0.01598575, 0.01604907,\n",
       "       0.0161128 , 0.01617693, 0.01624146, 0.01630639, 0.01637173,\n",
       "       0.01643747, 0.01650361, 0.01657016, 0.01663711, 0.01670447,\n",
       "       0.01677224, 0.01684041, 0.01690898, 0.01697796, 0.01704735,\n",
       "       0.01711715, 0.01718735, 0.01725796, 0.01732897, 0.0174004 ,\n",
       "       0.01747223, 0.01754447, 0.01761711, 0.01769017, 0.01776363,\n",
       "       0.01783751, 0.01791179, 0.01798648, 0.01806158, 0.01813709,\n",
       "       0.018213  , 0.01828933, 0.01836606, 0.01844321, 0.01852076,\n",
       "       0.01859872, 0.01867709, 0.01875587, 0.01883506, 0.01891466,\n",
       "       0.01899467, 0.01907508, 0.01915591, 0.01923714, 0.01931878,\n",
       "       0.01940083, 0.01948329, 0.01956615, 0.01964942, 0.0197331 ,\n",
       "       0.01981719, 0.01990169, 0.01998659, 0.02007189, 0.02015761,\n",
       "       0.02024373, 0.02033026, 0.02041719, 0.02050452, 0.02059227,\n",
       "       0.02068041, 0.02076896, 0.02085792, 0.02094727, 0.02103703,\n",
       "       0.02112719, 0.02121776, 0.02130872, 0.02140009, 0.02149185,\n",
       "       0.02158402, 0.02167659, 0.02176955, 0.02186292, 0.02195668,\n",
       "       0.02205084, 0.02214539, 0.02224034, 0.02233569, 0.02243143,\n",
       "       0.02252757, 0.0226241 , 0.02272102, 0.02281833, 0.02291604,\n",
       "       0.02301414, 0.02311262, 0.0232115 , 0.02331076, 0.02341041,\n",
       "       0.02351045, 0.02361088, 0.02371169, 0.02381288, 0.02391446,\n",
       "       0.02401642, 0.02411876, 0.02422148, 0.02432458, 0.02442806,\n",
       "       0.02453192, 0.02463616, 0.02474077, 0.02484576, 0.02495112,\n",
       "       0.02505685, 0.02516296, 0.02526944, 0.02537628, 0.0254835 ,\n",
       "       0.02559108, 0.02569903, 0.02580735, 0.02591602, 0.02602507,\n",
       "       0.02613447, 0.02624423, 0.02635436, 0.02646484, 0.02657568,\n",
       "       0.02668688, 0.02679843, 0.02691033, 0.02702258, 0.02713519,\n",
       "       0.02724814, 0.02736145, 0.02747509, 0.02758909, 0.02770343,\n",
       "       0.02781811, 0.02793313, 0.02804849, 0.02816419, 0.02828023,\n",
       "       0.0283966 , 0.0285133 , 0.02863034, 0.02874771, 0.02886541,\n",
       "       0.02898343, 0.02910178, 0.02922046, 0.02933946, 0.02945878,\n",
       "       0.02957842, 0.02969838, 0.02981865, 0.02993924, 0.03006014,\n",
       "       0.03018136, 0.03030289, 0.03042472, 0.03054686, 0.0306693 ,\n",
       "       0.03079205, 0.0309151 , 0.03103845, 0.03116209, 0.03128604,\n",
       "       0.03141027, 0.0315348 , 0.03165962, 0.03178473, 0.03191012,\n",
       "       0.0320358 , 0.03216176, 0.03228801, 0.03241453, 0.03254133,\n",
       "       0.03266841, 0.03279576, 0.03292338, 0.03305127, 0.03317942,\n",
       "       0.03330785, 0.03343654, 0.03356549, 0.0336947 , 0.03382416,\n",
       "       0.03395389, 0.03408386, 0.03421409, 0.03434457, 0.03447529,\n",
       "       0.03460626, 0.03473747, 0.03486892, 0.03500062, 0.03513255,\n",
       "       0.03526471, 0.03539711, 0.03552973, 0.03566259, 0.03579567,\n",
       "       0.03592897, 0.0360625 , 0.03619624, 0.03633021, 0.03646439,\n",
       "       0.03659878, 0.03673338, 0.03686819, 0.0370032 , 0.03713842,\n",
       "       0.03727384, 0.03740946, 0.03754527, 0.03768128, 0.03781749,\n",
       "       0.03795388, 0.03809046, 0.03822722, 0.03836417, 0.0385013 ,\n",
       "       0.03863861, 0.03877609, 0.03891374, 0.03905157, 0.03918956,\n",
       "       0.03932773, 0.03946605, 0.03960454, 0.03974319, 0.03988199,\n",
       "       0.04002094, 0.04016005, 0.04029931, 0.04043871, 0.04057826,\n",
       "       0.04071795, 0.04085778, 0.04099775, 0.04113785, 0.04127809,\n",
       "       0.04141845, 0.04155894, 0.04169956, 0.04184029, 0.04198115,\n",
       "       0.04212212, 0.04226321, 0.04240441, 0.04254572, 0.04268714,\n",
       "       0.04282866, 0.04297029, 0.04311201, 0.04325383, 0.04339575,\n",
       "       0.04353776, 0.04367985, 0.04382204, 0.0439643 , 0.04410665,\n",
       "       0.04424909, 0.04439159, 0.04453417, 0.04467682, 0.04481954,\n",
       "       0.04496233, 0.04510518, 0.04524809, 0.04539106, 0.04553409,\n",
       "       0.04567717, 0.0458203 , 0.04596348, 0.0461067 , 0.04624997,\n",
       "       0.04639328, 0.04653663, 0.04668001, 0.04682343, 0.04696688,\n",
       "       0.04711035, 0.04725385, 0.04739737, 0.04754092, 0.04768448,\n",
       "       0.04782806, 0.04797165, 0.04811524, 0.04825885, 0.04840246,\n",
       "       0.04854607, 0.04868969, 0.04883329, 0.0489769 , 0.0491205 ,\n",
       "       0.04926408, 0.04940765, 0.04955121, 0.04969475, 0.04983827,\n",
       "       0.04998176, 0.05012523, 0.05026867, 0.05041208, 0.05055546,\n",
       "       0.0506988 , 0.0508421 , 0.05098536, 0.05112858, 0.05127176,\n",
       "       0.05141488, 0.05155795, 0.05170097, 0.05184393, 0.05198684,\n",
       "       0.05212968, 0.05227246, 0.05241518, 0.05255782, 0.0527004 ,\n",
       "       0.0528429 , 0.05298532, 0.05312767, 0.05326994, 0.05341212,\n",
       "       0.05355422, 0.05369623, 0.05383815, 0.05397998, 0.05412171,\n",
       "       0.05426334, 0.05440488, 0.05454631, 0.05468764, 0.05482886,\n",
       "       0.05496997, 0.05511096, 0.05525185, 0.05539261, 0.05553326,\n",
       "       0.05567379, 0.05581419, 0.05595447, 0.05609462, 0.05623463,\n",
       "       0.05637452, 0.05651426, 0.05665388, 0.05679334, 0.05693267,\n",
       "       0.05707185, 0.05721089, 0.05734978, 0.05748852, 0.0576271 ,\n",
       "       0.05776553, 0.05790379, 0.05804191, 0.05817985, 0.05831763,\n",
       "       0.05845525, 0.05859269, 0.05872997, 0.05886707, 0.05900399,\n",
       "       0.05914074, 0.05927731, 0.05941369, 0.05954989, 0.05968591,\n",
       "       0.05982173, 0.05995737, 0.06009282, 0.06022807, 0.06036312,\n",
       "       0.06049797, 0.06063262, 0.06076707, 0.06090131, 0.06103535,\n",
       "       0.06116917, 0.06130279, 0.06143619, 0.06156938, 0.06170234,\n",
       "       0.0618351 , 0.06196762, 0.06209993, 0.06223201, 0.06236387,\n",
       "       0.06249549, 0.06262688, 0.06275804, 0.06288897, 0.06301966,\n",
       "       0.06315011, 0.06328032, 0.06341029, 0.06354001, 0.06366949,\n",
       "       0.06379871, 0.0639277 , 0.06405642, 0.0641849 , 0.06431311,\n",
       "       0.06444108, 0.06456878, 0.06469622, 0.0648234 , 0.06495032,\n",
       "       0.06507696, 0.06520335, 0.06532946, 0.0654553 , 0.06558087,\n",
       "       0.06570616, 0.06583117, 0.06595592, 0.06608037, 0.06620455,\n",
       "       0.06632845, 0.06645206, 0.06657538, 0.06669842, 0.06682116,\n",
       "       0.06694362, 0.06706577, 0.06718764, 0.06730921, 0.06743048,\n",
       "       0.06755145, 0.06767213, 0.06779249, 0.06791256, 0.06803232,\n",
       "       0.06815177, 0.06827091, 0.06838975, 0.06850827, 0.06862648,\n",
       "       0.06874437, 0.06886194, 0.0689792 , 0.06909614, 0.06921276,\n",
       "       0.06932906, 0.06944503, 0.06956068, 0.06967599, 0.06979099,\n",
       "       0.06990565, 0.07001998, 0.07013398, 0.07024765, 0.07036098,\n",
       "       0.07047398, 0.07058663, 0.07069895, 0.07081093, 0.07092256,\n",
       "       0.07103385, 0.0711448 , 0.0712554 , 0.07136566, 0.07147556,\n",
       "       0.07158512, 0.07169432, 0.07180317, 0.07191167, 0.07201981,\n",
       "       0.0721276 , 0.07223503, 0.07234209, 0.0724488 , 0.07255514,\n",
       "       0.07266113, 0.07276675, 0.072872  , 0.07297689, 0.07308141,\n",
       "       0.07318555, 0.07328933, 0.07339274, 0.07349578, 0.07359843,\n",
       "       0.07370072, 0.07380263, 0.07390416, 0.07400531, 0.07410609,\n",
       "       0.07420647, 0.07430649, 0.07440611, 0.07450535, 0.0746042 ,\n",
       "       0.07470267, 0.07480075, 0.07489844, 0.07499573, 0.07509264,\n",
       "       0.07518915, 0.07528527, 0.075381  , 0.07547633, 0.07557125,\n",
       "       0.07566579, 0.07575992, 0.07585365, 0.07594698, 0.07603991,\n",
       "       0.07613243, 0.07622454, 0.07631625, 0.07640756, 0.07649845,\n",
       "       0.07658893, 0.07667901, 0.07676867, 0.07685792, 0.07694675,\n",
       "       0.07703517, 0.07712317, 0.07721075, 0.07729792, 0.07738466,\n",
       "       0.07747099, 0.07755689, 0.07764237, 0.07772743, 0.07781206,\n",
       "       0.07789626, 0.07798004, 0.07806339, 0.07814631, 0.0782288 ,\n",
       "       0.07831086, 0.07839248, 0.07847368, 0.07855443, 0.07863475,\n",
       "       0.07871463, 0.07879408, 0.07887309, 0.07895165, 0.07902978,\n",
       "       0.07910746, 0.0791847 , 0.0792615 , 0.07933784, 0.07941375,\n",
       "       0.0794892 , 0.07956421, 0.07963876, 0.07971287, 0.07978652,\n",
       "       0.07985972, 0.07993247, 0.08000476, 0.08007659, 0.08014797,\n",
       "       0.08021889, 0.08028935, 0.08035935, 0.08042888, 0.08049796,\n",
       "       0.08056657, 0.08063471, 0.08070239, 0.0807696 , 0.08083634,\n",
       "       0.08090262, 0.08096842, 0.08103375, 0.08109861, 0.081163  ,\n",
       "       0.08122691, 0.08129034, 0.0813533 , 0.08141578, 0.08147778,\n",
       "       0.0815393 , 0.08160034, 0.08166089, 0.08172096, 0.08178055,\n",
       "       0.08183965, 0.08189826, 0.08195639, 0.08201403, 0.08207117,\n",
       "       0.08212783, 0.08218399, 0.08223965, 0.08229483, 0.0823495 ,\n",
       "       0.08240368, 0.08245736, 0.08251055, 0.08256323, 0.08261541,\n",
       "       0.08266708, 0.08271826, 0.08276892, 0.08281908, 0.08286874,\n",
       "       0.08291788, 0.08296652, 0.08301464, 0.08306225, 0.08310935,\n",
       "       0.08315593, 0.083202  , 0.08324755, 0.08329259, 0.0833371 ,\n",
       "       0.0833811 , 0.08342457, 0.08346752, 0.08350995, 0.08355185,\n",
       "       0.08359323, 0.08363408, 0.0836744 , 0.08371419, 0.08375345,\n",
       "       0.08379218, 0.08383037, 0.08386803, 0.08390516, 0.08394175,\n",
       "       0.0839778 , 0.08401331, 0.08404828, 0.08408271, 0.0841166 ,\n",
       "       0.08414994, 0.08418274, 0.08421499, 0.0842467 , 0.08427786,\n",
       "       0.08430846, 0.08433852, 0.08436802, 0.08439698, 0.08442537,\n",
       "       0.08445321, 0.0844805 , 0.08450722, 0.08453339, 0.084559  ,\n",
       "       0.08458404, 0.08460853, 0.08463245, 0.0846558 , 0.08467859,\n",
       "       0.08470081, 0.08472246, 0.08474354, 0.08476405, 0.08478399,\n",
       "       0.08480336, 0.08482215, 0.08484037, 0.08485801, 0.08487507,\n",
       "       0.08489155, 0.08490746, 0.08492278, 0.08493752, 0.08495167,\n",
       "       0.08496524, 0.08497823, 0.08499063, 0.08500244, 0.08501366,\n",
       "       0.08502429, 0.08503433, 0.08504378, 0.08505263, 0.08506089,\n",
       "       0.08506855, 0.08507561, 0.08508208, 0.08508795, 0.08509322,\n",
       "       0.08509788, 0.08510195, 0.08510541, 0.08510827, 0.08511052,\n",
       "       0.08511216, 0.0851132 , 0.08511362, 0.08511344, 0.08511265,\n",
       "       0.08511125, 0.08510923, 0.0851066 , 0.08510335, 0.08509949,\n",
       "       0.08509501, 0.08508992, 0.0850842 , 0.08507787, 0.08507091,\n",
       "       0.08506334, 0.08505514, 0.08504632, 0.08503687, 0.0850268 ,\n",
       "       0.0850161 , 0.08500478, 0.08499282, 0.08498024, 0.08496703,\n",
       "       0.08495319, 0.08493871, 0.08492361, 0.08490787, 0.0848915 ,\n",
       "       0.08487449, 0.08485685, 0.08483857, 0.08481966, 0.0848001 ,\n",
       "       0.08477991, 0.08475908, 0.08473761, 0.0847155 , 0.08469274,\n",
       "       0.08466935, 0.08464531, 0.08462063, 0.0845953 , 0.08456934,\n",
       "       0.08454272, 0.08451546, 0.08448755, 0.08445899, 0.08442979,\n",
       "       0.08439994, 0.08436944, 0.08433829, 0.08430649, 0.08427404,\n",
       "       0.08424094, 0.08420719, 0.08417278, 0.08413773, 0.08410202,\n",
       "       0.08406565, 0.08402864, 0.08399097, 0.08395264, 0.08391366,\n",
       "       0.08387403, 0.08383374, 0.08379279, 0.08375119, 0.08370894,\n",
       "       0.08366602, 0.08362245, 0.08357822, 0.08353334, 0.0834878 ,\n",
       "       0.08344159, 0.08339473, 0.08334722, 0.08329905, 0.08325021,\n",
       "       0.08320072, 0.08315058, 0.08309977, 0.0830483 , 0.08299618,\n",
       "       0.0829434 , 0.08288996, 0.08283586, 0.0827811 , 0.08272569,\n",
       "       0.08266961, 0.08261288, 0.08255549, 0.08249745, 0.08243874,\n",
       "       0.08237938, 0.08231936, 0.08225868, 0.08219735, 0.08213536,\n",
       "       0.08207271, 0.08200942, 0.08194546, 0.08188085, 0.08181558,\n",
       "       0.08174966, 0.08168308, 0.08161585, 0.08154797, 0.08147944,\n",
       "       0.08141026, 0.08134042, 0.08126993, 0.0811988 , 0.08112701,\n",
       "       0.08105457, 0.08098148, 0.08090776, 0.08083337, 0.08075835,\n",
       "       0.08068267, 0.08060636, 0.0805294 , 0.08045179, 0.08037354,\n",
       "       0.08029466, 0.08021512, 0.08013495, 0.08005414, 0.0799727 ,\n",
       "       0.07989061, 0.07980789, 0.07972453, 0.07964054, 0.07955592,\n",
       "       0.07947066, 0.07938477, 0.07929825, 0.0792111 , 0.07912333,\n",
       "       0.07903492, 0.0789459 , 0.07885625, 0.07876597, 0.07867507,\n",
       "       0.07858356, 0.07849142, 0.07839867, 0.07830529, 0.07821131,\n",
       "       0.07811671, 0.0780215 , 0.07792567, 0.07782925, 0.07773221,\n",
       "       0.07763456, 0.07753631, 0.07743746, 0.077338  , 0.07723794,\n",
       "       0.07713728, 0.07703604, 0.07693419, 0.07683175, 0.07672871,\n",
       "       0.0766251 , 0.07652089, 0.07641609, 0.07631071, 0.07620475,\n",
       "       0.0760982 , 0.07599108, 0.07588337, 0.07577511, 0.07566625,\n",
       "       0.07555683, 0.07544684, 0.07533629, 0.07522516, 0.07511348,\n",
       "       0.07500123, 0.07488843, 0.07477506, 0.07466114, 0.07454667,\n",
       "       0.07443166, 0.07431609, 0.07419997, 0.07408331, 0.07396612,\n",
       "       0.07384838, 0.0737301 , 0.07361129, 0.07349195, 0.07337208,\n",
       "       0.07325168, 0.07313075, 0.07300931, 0.07288734, 0.07276485,\n",
       "       0.07264185, 0.07251835, 0.07239431, 0.07226978, 0.07214475,\n",
       "       0.07201922, 0.07189318, 0.07176664, 0.07163962, 0.07151211,\n",
       "       0.0713841 , 0.0712556 , 0.07112662, 0.07099717, 0.07086723,\n",
       "       0.07073682, 0.07060593, 0.07047459, 0.07034277, 0.07021048,\n",
       "       0.07007774, 0.06994454, 0.06981089, 0.06967677, 0.06954221,\n",
       "       0.06940722, 0.06927177, 0.06913588, 0.06899955, 0.0688628 ,\n",
       "       0.06872561, 0.06858799, 0.06844994, 0.06831149, 0.0681726 ,\n",
       "       0.0680333 , 0.06789358, 0.06775347, 0.06761294, 0.06747201,\n",
       "       0.06733068, 0.06718896, 0.06704684, 0.06690432, 0.06676142,\n",
       "       0.06661816, 0.06647449, 0.06633045, 0.06618604, 0.06604127])"
      ]
     },
     "execution_count": 13,
     "metadata": {},
     "output_type": "execute_result"
    }
   ],
   "source": [
    "probabilities_exp[2000:3000]"
   ]
  },
  {
   "cell_type": "markdown",
   "id": "ead01f2a",
   "metadata": {},
   "source": [
    "## Probabilities_exp adds up to 1.0  (Unknown error PDF)\n",
    "\n",
    "* (unknown error vector size 4000)\n",
    "* this vector is what compared to impulse vector of size 4000"
   ]
  },
  {
   "cell_type": "code",
   "execution_count": 14,
   "id": "71a78966",
   "metadata": {},
   "outputs": [
    {
     "data": {
      "text/plain": [
       "0.08511362489406404"
      ]
     },
     "execution_count": 14,
     "metadata": {},
     "output_type": "execute_result"
    }
   ],
   "source": [
    "probabilities_exp.max()"
   ]
  },
  {
   "cell_type": "code",
   "execution_count": 15,
   "id": "34fe6e78",
   "metadata": {},
   "outputs": [
    {
     "data": {
      "text/plain": [
       "2.450007591988054e-05"
      ]
     },
     "execution_count": 15,
     "metadata": {},
     "output_type": "execute_result"
    }
   ],
   "source": [
    "probabilities_exp.min()"
   ]
  },
  {
   "cell_type": "code",
   "execution_count": 16,
   "id": "dbe2129e",
   "metadata": {},
   "outputs": [
    {
     "data": {
      "text/plain": [
       "99.95269691319909"
      ]
     },
     "execution_count": 16,
     "metadata": {},
     "output_type": "execute_result"
    }
   ],
   "source": [
    "sum(probabilities_exp)"
   ]
  },
  {
   "cell_type": "markdown",
   "id": "abea0a6e",
   "metadata": {},
   "source": [
    "## Impulse function \n",
    "\n",
    "* the produced vector of size 4000 is basically a constant of vector size 4000"
   ]
  },
  {
   "cell_type": "code",
   "execution_count": 17,
   "id": "98a7754c",
   "metadata": {},
   "outputs": [],
   "source": [
    "\n",
    "def ImpulseGaussian(x, mu, sigma): \n",
    "   \n",
    "    left  = 1 / (    torch.sqrt(   2 * torch.tensor(math.pi)   ) * torch.sqrt(torch.tensor(sigma) )    )\n",
    "    \n",
    "    right = torch.exp(   -(x - mu)**2 / (2 * sigma)    )\n",
    "    \n",
    "    vector_vals = left * right\n",
    "    \n",
    "    return vector_vals         ## .unsqueeze(0)\n"
   ]
  },
  {
   "cell_type": "code",
   "execution_count": 18,
   "id": "dcaeecee",
   "metadata": {},
   "outputs": [],
   "source": [
    "\n",
    "mean_impulse    = 0.0\n",
    "std_impulse     = 0.01\n"
   ]
  },
  {
   "cell_type": "code",
   "execution_count": 19,
   "id": "03cd2dfb",
   "metadata": {},
   "outputs": [],
   "source": [
    "\n",
    "impulseFunc = ImpulseGaussian(x, mean_impulse, std_impulse**2)  \n"
   ]
  },
  {
   "cell_type": "code",
   "execution_count": 20,
   "id": "ce5b169e",
   "metadata": {},
   "outputs": [
    {
     "data": {
      "text/plain": [
       "torch.Size([4000, 1])"
      ]
     },
     "execution_count": 20,
     "metadata": {},
     "output_type": "execute_result"
    }
   ],
   "source": [
    "impulseFunc.shape"
   ]
  },
  {
   "cell_type": "code",
   "execution_count": 21,
   "id": "73465003",
   "metadata": {},
   "outputs": [
    {
     "data": {
      "image/png": "[encoded data removed]",
      "text/plain": [
       "<Figure size 432x288 with 1 Axes>"
      ]
     },
     "metadata": {
      "needs_background": "light"
     },
     "output_type": "display_data"
    }
   ],
   "source": [
    "\n",
    "plt.plot(x, impulseFunc)\n",
    "plt.show()\n"
   ]
  },
  {
   "cell_type": "markdown",
   "id": "5305d803",
   "metadata": {},
   "source": [
    "## Impulse function vector of size 4000 adds up to 1.0 "
   ]
  },
  {
   "cell_type": "code",
   "execution_count": 22,
   "id": "9f33c511",
   "metadata": {},
   "outputs": [],
   "source": [
    "## impulseFunc = impulseFunc/100"
   ]
  },
  {
   "cell_type": "code",
   "execution_count": 23,
   "id": "9d6ebc18",
   "metadata": {},
   "outputs": [
    {
     "data": {
      "text/plain": [
       "tensor([100.0000])"
      ]
     },
     "execution_count": 23,
     "metadata": {},
     "output_type": "execute_result"
    }
   ],
   "source": [
    "sum(impulseFunc)"
   ]
  },
  {
   "cell_type": "code",
   "execution_count": 24,
   "id": "caf98acc",
   "metadata": {},
   "outputs": [
    {
     "data": {
      "text/plain": [
       "tensor([[0.],\n",
       "        [0.],\n",
       "        [0.],\n",
       "        ...,\n",
       "        [0.],\n",
       "        [0.],\n",
       "        [0.]])"
      ]
     },
     "execution_count": 24,
     "metadata": {},
     "output_type": "execute_result"
    }
   ],
   "source": [
    "impulseFunc"
   ]
  },
  {
   "cell_type": "code",
   "execution_count": 25,
   "id": "735eb1dc",
   "metadata": {},
   "outputs": [
    {
     "data": {
      "text/plain": [
       "tensor([[    0.0000],\n",
       "        [    0.0000],\n",
       "        [    0.0000],\n",
       "        [    0.0000],\n",
       "        [    0.0000],\n",
       "        [    0.0000],\n",
       "        [    0.0000],\n",
       "        [    0.0000],\n",
       "        [    0.0000],\n",
       "        [    0.0000],\n",
       "        [    0.0000],\n",
       "        [    0.0000],\n",
       "        [    0.0000],\n",
       "        [    0.0000],\n",
       "        [    0.0000],\n",
       "        [    0.0000],\n",
       "        [    0.0000],\n",
       "        [    0.0000],\n",
       "        [    0.0000],\n",
       "        [    0.0000],\n",
       "        [    0.0000],\n",
       "        [    0.0000],\n",
       "        [    0.0000],\n",
       "        [    0.0000],\n",
       "        [    0.0000],\n",
       "        [    0.0001],\n",
       "        [    0.0134],\n",
       "        [    0.4432],\n",
       "        [    5.3991],\n",
       "        [   24.1971],\n",
       "        [   39.8942],\n",
       "        [   24.1971],\n",
       "        [    5.3991],\n",
       "        [    0.4432],\n",
       "        [    0.0134],\n",
       "        [    0.0001],\n",
       "        [    0.0000],\n",
       "        [    0.0000],\n",
       "        [    0.0000],\n",
       "        [    0.0000],\n",
       "        [    0.0000],\n",
       "        [    0.0000],\n",
       "        [    0.0000],\n",
       "        [    0.0000],\n",
       "        [    0.0000],\n",
       "        [    0.0000],\n",
       "        [    0.0000],\n",
       "        [    0.0000],\n",
       "        [    0.0000],\n",
       "        [    0.0000],\n",
       "        [    0.0000],\n",
       "        [    0.0000],\n",
       "        [    0.0000],\n",
       "        [    0.0000],\n",
       "        [    0.0000],\n",
       "        [    0.0000],\n",
       "        [    0.0000],\n",
       "        [    0.0000],\n",
       "        [    0.0000],\n",
       "        [    0.0000]])"
      ]
     },
     "execution_count": 25,
     "metadata": {},
     "output_type": "execute_result"
    }
   ],
   "source": [
    "impulseFunc[1970:2030]"
   ]
  },
  {
   "cell_type": "code",
   "execution_count": null,
   "id": "3d389513",
   "metadata": {},
   "outputs": [],
   "source": []
  },
  {
   "cell_type": "code",
   "execution_count": null,
   "id": "25a7b9bd",
   "metadata": {},
   "outputs": [],
   "source": []
  }
 ],
 "metadata": {
  "kernelspec": {
   "display_name": "Python 3 (ipykernel)",
   "language": "python",
   "name": "python3"
  },
  "language_info": {
   "codemirror_mode": {
    "name": "ipython",
    "version": 3
   },
   "file_extension": ".py",
   "mimetype": "text/x-python",
   "name": "python",
   "nbconvert_exporter": "python",
   "pygments_lexer": "ipython3",
   "version": "3.8.13"
  }
 },
 "nbformat": 4,
 "nbformat_minor": 5
}
