{
 "cells": [
  {
   "cell_type": "markdown",
   "id": "0b97a424",
   "metadata": {},
   "source": [
    "## Kernel Density Funcs"
   ]
  },
  {
   "cell_type": "code",
   "execution_count": 27,
   "id": "45ba5f25",
   "metadata": {},
   "outputs": [],
   "source": [
    "######################################################\n",
    "##\n",
    "## Probability Density Function (PDF) Estimation\n",
    "##\n",
    "######################################################\n",
    "\n",
    "import torch\n",
    "import numpy as np\n",
    "import pandas as pd\n",
    "import sklearn\n",
    "import torch.nn as nn\n",
    "import torch.nn.functional as F\n",
    "import matplotlib.pyplot as plt\n",
    "import math\n",
    "\n",
    "\n",
    "from torch.utils.data import TensorDataset, DataLoader\n",
    "from sklearn.model_selection import train_test_split\n",
    "from mlxtend.plotting import heatmap\n",
    "from numpy.random import normal\n",
    "from scipy.stats import norm\n",
    "import scipy.stats as stats\n",
    "from numpy import hstack\n",
    "from numpy import asarray\n",
    "from numpy import exp\n",
    "from sklearn.neighbors import KernelDensity\n",
    "\n",
    "## coefficient of determination (R**2)\n",
    "from sklearn.metrics import r2_score\n",
    "\n",
    "\n",
    "#######################################################\n",
    "\n",
    "N_EPOCHS = 50000\n",
    "batch_size = 10\n",
    "learning_rate =  0.001    ## 0.01   ## 1e-5 \n",
    "\n",
    "## probably need adjustable learning rate scheduler\n",
    "\n",
    "#######################################################\n",
    "\n",
    "np.set_printoptions(suppress=True)\n",
    "torch.set_printoptions(sci_mode=False)\n",
    "\n",
    "#######################################################"
   ]
  },
  {
   "cell_type": "markdown",
   "id": "eae4e15b",
   "metadata": {},
   "source": [
    "## Assume 400 predicted errors with Unknown distribution"
   ]
  },
  {
   "cell_type": "code",
   "execution_count": 2,
   "id": "11466633",
   "metadata": {},
   "outputs": [
    {
     "name": "stdout",
     "output_type": "stream",
     "text": [
      "400\n"
     ]
    },
    {
     "data": {
      "image/png": "[encoded data removed]",
      "text/plain": [
       "<Figure size 432x288 with 1 Axes>"
      ]
     },
     "metadata": {
      "needs_background": "light"
     },
     "output_type": "display_data"
    }
   ],
   "source": [
    "\n",
    "\n",
    "error1 = normal(loc=7, scale=3, size=300)\n",
    "error2 = normal(loc=-7, scale=3, size=100)\n",
    "\n",
    "\n",
    "errors = hstack((error1, error2))\n",
    "\n",
    "print(len(errors))\n",
    "\n",
    "plt.hist(errors, bins=50)\n",
    "plt.show()\n"
   ]
  },
  {
   "cell_type": "code",
   "execution_count": 3,
   "id": "192444fd",
   "metadata": {},
   "outputs": [
    {
     "name": "stdout",
     "output_type": "stream",
     "text": [
      "(400,)\n"
     ]
    },
    {
     "data": {
      "text/plain": [
       "array([  9.93483921,   4.56793863,   7.34833784,   5.04688106,\n",
       "         8.35059195,   9.29002843,  13.82188623,   8.13791595,\n",
       "        10.20967991,   7.41908479,   1.8158371 ,   7.30884495,\n",
       "        11.11783273,   4.89506178,   3.10316048,  11.34848019,\n",
       "         6.94587513,   5.08933338,  -1.75706249,   8.40185134,\n",
       "         9.15964251,   1.76788749,   6.81939648,   9.69039739,\n",
       "        10.48550481,   8.57163185,  12.19267825,   5.58274491,\n",
       "         9.03840788,   7.40520903,   6.70748633,   3.7200864 ,\n",
       "         7.91778898,   2.08832629,   6.4683635 ,   4.96110525,\n",
       "         7.6926167 ,   8.24122587,   9.57420015,  10.04716116,\n",
       "        10.01931977,   6.22790991,   6.01479022,  12.17447279,\n",
       "         6.80079734,   4.71350678,   2.79555199,   7.03132063,\n",
       "         2.68986895,   9.3294243 ,   5.49004928,   4.84669953,\n",
       "         6.49415374,  14.04158122,   5.60510482,   7.07727115,\n",
       "         6.32751835,   9.8855198 ,  12.26683295,   9.12304158,\n",
       "         7.8453933 ,   4.3556602 ,   3.43528167,   2.23514993,\n",
       "        14.17326062,   5.38134628,  10.82118183,   7.68469702,\n",
       "         1.93967717,   7.13075845,  11.2717156 ,   5.6315567 ,\n",
       "        12.00254433,   9.05220959,   2.40044017,   9.55123308,\n",
       "        11.76152129,   7.3820856 ,   7.28539035,   6.61891136,\n",
       "         3.56285692,   6.07774538,   3.76798896,   3.30003571,\n",
       "         5.2968105 ,   9.40885952,   4.69833292,   7.86893892,\n",
       "         0.38478447,  10.03171871,   8.99348696,   9.22351011,\n",
       "         6.75285903,   6.54180922,   7.26854049,  12.40977233,\n",
       "         5.78314515,   3.05517476,   6.68915572,   7.88394742,\n",
       "         4.71299733,   6.19280501,   5.30441077,   8.99138173,\n",
       "        -1.36862096,   5.29661387,   7.5498465 ,   3.27508234,\n",
       "         3.89798095,   4.08085696,  11.28895602,   2.83487712,\n",
       "         5.50629162,   5.46377947,   4.67968775,   9.25679694,\n",
       "        10.68463771,   6.78769087,   9.38814255,   6.53593878,\n",
       "         8.04481701,   5.45047105,   4.63277399,   8.82547044,\n",
       "         7.40483215,   7.56336404,   7.91985796,   2.63321532,\n",
       "        10.70175736,   8.30471936,   4.78623692,   6.94153968,\n",
       "        10.99360546,   6.64037001,   3.93611144,   2.47608157,\n",
       "         2.21893671,   8.53343311,   5.58245303,   4.07223059,\n",
       "        15.77570448,   9.77468689,   3.14542216,   7.8428513 ,\n",
       "         5.58431083,   7.47348525,   2.08218054,   7.69459781,\n",
       "         3.59886931,   8.45555926,   3.81367808,   3.9758732 ,\n",
       "         2.64138936,   0.36130087,   6.61466242,   4.64741952,\n",
       "         6.28460493,   8.67636019,  10.20689099,   4.85899909,\n",
       "         5.43106117,  10.68599907,   9.33019132,   9.80027692,\n",
       "         6.57672293,  12.71424428,   8.01208349,   8.89236868,\n",
       "         6.32024503,   7.33913834,   3.74278937,   9.60764617,\n",
       "         9.17160684,   3.52725073,   6.23355121,   5.41551539,\n",
       "         6.59608358,   9.22202378,   5.11064194,   6.08375689,\n",
       "         8.71632118,   4.57145835,   7.6291611 ,   6.12598578,\n",
       "         6.23404229,   9.85314547,   9.0514772 ,   7.3338545 ,\n",
       "         5.446942  ,   6.96047221,   7.82745717,   5.41237835,\n",
       "         4.24435246,   9.57904982,   7.0708065 ,   9.17120558,\n",
       "         4.48033026,   7.90579489,   7.16959009,  11.34708963,\n",
       "        -0.92144206,   4.12032987,   7.28303293,   7.23470943,\n",
       "         3.24172406,   6.22617123,   9.56088829,   6.93627471,\n",
       "         3.54685266,   0.31957246,   8.11951029,   3.89226965,\n",
       "         3.99684258,   6.99892568,   8.65726336,   8.14222996,\n",
       "        -3.12812663,   7.91237762,  10.36304258,   8.64921401,\n",
       "         6.35929168,   5.60018282,   7.79778865,   6.96464762,\n",
       "         8.07825458,   4.59229033,   8.56191486,   5.64916643,\n",
       "         4.52378898,   6.98788514,   4.46344539,  11.25389137,\n",
       "        12.08525564,   9.92811297,   5.69716377,   9.85123544,\n",
       "         8.05265835,   8.45186027,   7.12114358,   2.31354409,\n",
       "         3.86175532,   6.8619581 ,   6.98406517,   3.24700345,\n",
       "         2.43610004,   5.96938079,   7.26948045,   4.19282065,\n",
       "         6.63005772,  11.0825804 ,   3.30088815,   7.11163984,\n",
       "        12.66607828,  13.03405785,  10.53801029,   4.20582812,\n",
       "         7.46961387,   3.94617859,  14.86047365,   3.58166709,\n",
       "         7.99297716,   7.39135032,  10.02061198,  11.52257111,\n",
       "         6.24262555,   5.09647132,   9.22444108,   3.65451198,\n",
       "         5.43988456,   7.74609428,  14.05504571,   4.98863577,\n",
       "         7.0874291 ,   6.84023921,   3.36487467,   6.79345767,\n",
       "         3.92390535,  10.97433238,   3.17177654,   7.49273367,\n",
       "         8.53146976,  -1.97551682,   9.82915076,   6.46764993,\n",
       "         7.06983268,   3.18599629,   6.13398782,   7.51765175,\n",
       "         6.66411966,   9.34680032,   7.55204614,   6.36987027,\n",
       "         7.16211491,   5.27885228,   8.09713166,   6.02332807,\n",
       "        16.28488054,   6.40474189,   9.67253395,   2.64484629,\n",
       "        -2.67048931,  -4.57639598,  -8.26976763,  -8.54121345,\n",
       "       -10.15003164,  -9.80695792,  -8.33810623,  -4.98314899,\n",
       "       -11.5431502 ,  -8.3875502 ,  -4.33401614,  -6.94924886,\n",
       "        -8.49132232,  -4.27148519, -11.83454645,  -9.01498465,\n",
       "        -5.1857649 ,  -1.91447414,  -5.34324163,  -6.32189985,\n",
       "        -6.77880802,  -8.000567  , -10.45509632,  -7.36513729,\n",
       "        -6.10176089,  -6.99775591,  -7.72960888,  -3.3526662 ,\n",
       "        -3.2676429 ,   0.85641401,  -7.64511628,  -6.29468153,\n",
       "        -9.35738503,  -6.25723579,  -6.64291399,  -3.39783696,\n",
       "        -3.94117968,  -4.87181291,  -6.63669422,  -5.04600354,\n",
       "        -5.52477217,  -7.04256811,  -4.31242604,  -7.95045385,\n",
       "        -7.03047634, -12.45105189,  -2.77073486,  -4.419757  ,\n",
       "        -8.12738184,  -5.38509998, -12.73015409,  -6.2709565 ,\n",
       "        -5.63277705,  -3.36653515,  -6.09540166,  -9.41418506,\n",
       "         0.38164286,  -8.21975089,  -2.5741591 ,  -2.67160793,\n",
       "       -14.99303562,  -6.1096132 ,  -2.97186798,  -8.4199139 ,\n",
       "        -2.92118706,  -4.2134445 ,  -6.44314636,  -6.28872732,\n",
       "        -5.50897262,  -4.62944913,  -8.19517819,  -4.82092578,\n",
       "        -0.42123131,  -4.27056755,  -9.08234316,  -5.14943978,\n",
       "        -6.7278116 ,  -1.67105613,  -5.39158713,  -3.504906  ,\n",
       "        -2.27430099,  -6.81223522,  -9.09416639,  -3.79485712,\n",
       "        -2.52573041,  -3.56326643,  -5.46298833,  -6.26286074,\n",
       "        -1.48948966,  -5.01253794, -10.47659689,  -8.16343925,\n",
       "         1.38127291, -10.0193449 , -10.51252081,  -8.63444954,\n",
       "       -13.49871671, -11.4447827 ,  -0.89665788, -10.73939685])"
      ]
     },
     "execution_count": 3,
     "metadata": {},
     "output_type": "execute_result"
    }
   ],
   "source": [
    "print(errors[:].shape)\n",
    "errors[:]"
   ]
  },
  {
   "cell_type": "markdown",
   "id": "c62810b3",
   "metadata": {},
   "source": [
    "## Learn the function that predicts the unknown error distribution\n",
    "\n",
    "* sum of basis funcs (e.g. sum of gaussians)"
   ]
  },
  {
   "cell_type": "code",
   "execution_count": 4,
   "id": "939fc5c2",
   "metadata": {},
   "outputs": [],
   "source": [
    "\n",
    "## Bandwidth (smoothing parameter) is a window size required by the algorithm that controls \n",
    "## the number of observations (samples) to look at per new point to estimate. \n",
    "## The kernel is the basis function. \n",
    "\n",
    "\n",
    "\n",
    "def sum_of_basis_func(errors, bandwidth):\n",
    "    \n",
    "    model = KernelDensity(bandwidth=bandwidth, kernel='gaussian')\n",
    "\n",
    "    errors = errors.reshape(  (len(errors), 1)   )              ## 1000x1\n",
    "\n",
    "    model.fit(errors)\n",
    "    \n",
    "    return model\n"
   ]
  },
  {
   "cell_type": "code",
   "execution_count": 5,
   "id": "4dc074c3",
   "metadata": {},
   "outputs": [],
   "source": [
    "\n",
    "bandwidth = 2\n",
    "\n",
    "basis_func_trained = sum_of_basis_func(errors,  bandwidth)\n"
   ]
  },
  {
   "cell_type": "markdown",
   "id": "9cc418d0",
   "metadata": {},
   "source": [
    "## This is the scale in which to compare impulse to unknown error distribution \n",
    "\n",
    "* [-20, 20] with step 0.1 which will give a vector of 4000"
   ]
  },
  {
   "cell_type": "code",
   "execution_count": 6,
   "id": "cd1d4b73",
   "metadata": {},
   "outputs": [],
   "source": [
    "\n",
    "N_error_range = 20\n",
    "\n",
    "x = torch.arange(-N_error_range, N_error_range, 0.01)                   ## the error is in this range "
   ]
  },
  {
   "cell_type": "code",
   "execution_count": 7,
   "id": "8e281c81",
   "metadata": {},
   "outputs": [
    {
     "data": {
      "text/plain": [
       "tensor([-20.0000, -19.9900, -19.9800,  ...,  19.9700,  19.9800,  19.9900])"
      ]
     },
     "execution_count": 7,
     "metadata": {},
     "output_type": "execute_result"
    }
   ],
   "source": [
    "x"
   ]
  },
  {
   "cell_type": "markdown",
   "id": "0ecff68c",
   "metadata": {},
   "source": [
    "## Given x range [-20,20] predict using learned error PDF func"
   ]
  },
  {
   "cell_type": "code",
   "execution_count": 12,
   "id": "2460725f",
   "metadata": {},
   "outputs": [
    {
     "name": "stdout",
     "output_type": "stream",
     "text": [
      "torch.Size([4000, 1])\n",
      "[-10.57284086 -10.55962246 -10.54642586 ...  -8.54361103  -8.55447707\n",
      "  -8.5653629 ]\n",
      "(4000,)\n"
     ]
    }
   ],
   "source": [
    "\n",
    "x = x.reshape(   (len(x), 1)    )\n",
    "\n",
    "print(x.shape)\n",
    "\n",
    "probabilities = basis_func_trained.score_samples(x) \n",
    "print(probabilities)\n",
    "print(probabilities.shape)\n",
    "\n"
   ]
  },
  {
   "cell_type": "markdown",
   "id": "57965c83",
   "metadata": {},
   "source": [
    "## Now invert from log space to exponent space "
   ]
  },
  {
   "cell_type": "code",
   "execution_count": 13,
   "id": "a3ade744",
   "metadata": {},
   "outputs": [
    {
     "name": "stdout",
     "output_type": "stream",
     "text": [
      "[0.0000256  0.00002594 0.00002629 ... 0.00019479 0.00019268 0.00019059]\n",
      "(4000,)\n"
     ]
    }
   ],
   "source": [
    "\n",
    "probabilities_exp = exp(probabilities)\n",
    "print(probabilities_exp)\n",
    "print(probabilities_exp.shape)\n",
    "\n"
   ]
  },
  {
   "cell_type": "markdown",
   "id": "d3a47dba",
   "metadata": {},
   "source": [
    "## The yellow line is the preds using the learned unknown func "
   ]
  },
  {
   "cell_type": "code",
   "execution_count": 14,
   "id": "c8e57872",
   "metadata": {},
   "outputs": [
    {
     "data": {
      "image/png": "[encoded data removed]",
      "text/plain": [
       "<Figure size 432x288 with 1 Axes>"
      ]
     },
     "metadata": {
      "needs_background": "light"
     },
     "output_type": "display_data"
    }
   ],
   "source": [
    "plt.hist(errors, bins=50, density=True)     ## see probs instead of counts with density=True\n",
    "plt.plot(x[:], probabilities_exp)          ## reshaped to 2D\n",
    "plt.show()"
   ]
  },
  {
   "cell_type": "markdown",
   "id": "13ea7b84",
   "metadata": {},
   "source": [
    "## This is the vector that will be compared to the impulse func\n",
    "\n",
    "* size 4000"
   ]
  },
  {
   "cell_type": "code",
   "execution_count": 15,
   "id": "afac5e93",
   "metadata": {},
   "outputs": [
    {
     "name": "stdout",
     "output_type": "stream",
     "text": [
      "[0.0000256  0.00002594 0.00002629 ... 0.00019479 0.00019268 0.00019059]\n",
      "(4000,)\n"
     ]
    }
   ],
   "source": [
    "\n",
    "print(probabilities_exp)\n",
    "print(probabilities_exp.shape)\n"
   ]
  },
  {
   "cell_type": "code",
   "execution_count": 16,
   "id": "bd72e1ba",
   "metadata": {},
   "outputs": [
    {
     "data": {
      "text/plain": [
       "array([0.01524646, 0.01528832, 0.0153302 , 0.01537211, 0.01541404,\n",
       "       0.01545599, 0.01549796, 0.01553995, 0.01558197, 0.01562401,\n",
       "       0.01566606, 0.01570814, 0.01575023, 0.01579234, 0.01583447,\n",
       "       0.01587661, 0.01591878, 0.01596096, 0.01600315, 0.01604536,\n",
       "       0.01608758, 0.01612981, 0.01617206, 0.01621432, 0.01625659,\n",
       "       0.01629888, 0.01634117, 0.01638347, 0.01642579, 0.01646811,\n",
       "       0.01651044, 0.01655278, 0.01659512, 0.01663748, 0.01667983,\n",
       "       0.01672219, 0.01676456, 0.01680693, 0.01684931, 0.01689168,\n",
       "       0.01693406, 0.01697644, 0.01701882, 0.0170612 , 0.01710358,\n",
       "       0.01714596, 0.01718834, 0.01723071, 0.01727309, 0.01731546,\n",
       "       0.01735782, 0.01740018, 0.01744253, 0.01748488, 0.01752723,\n",
       "       0.01756956, 0.01761189, 0.01765421, 0.01769652, 0.01773881,\n",
       "       0.0177811 , 0.01782338, 0.01786564, 0.01790789, 0.01795013,\n",
       "       0.01799236, 0.01803457, 0.01807676, 0.01811894, 0.01816111,\n",
       "       0.01820325, 0.01824538, 0.01828749, 0.01832958, 0.01837165,\n",
       "       0.0184137 , 0.01845573, 0.01849774, 0.01853972, 0.01858168,\n",
       "       0.01862362, 0.01866553, 0.01870742, 0.01874928, 0.01879112,\n",
       "       0.01883293, 0.01887471, 0.01891646, 0.01895818, 0.01899988,\n",
       "       0.01904154, 0.01908317, 0.01912477, 0.01916634, 0.01920787,\n",
       "       0.01924937, 0.01929083, 0.01933226, 0.01937366, 0.01941501,\n",
       "       0.01945633, 0.01949761, 0.01953886, 0.01958006, 0.01962122,\n",
       "       0.01966234, 0.01970342, 0.01974446, 0.01978546, 0.01982641,\n",
       "       0.01986732, 0.01990818, 0.019949  , 0.01998977, 0.02003049,\n",
       "       0.02007117, 0.0201118 , 0.02015238, 0.02019291, 0.02023338,\n",
       "       0.02027381, 0.02031419, 0.02035451, 0.02039478, 0.020435  ,\n",
       "       0.02047516, 0.02051527, 0.02055531, 0.02059531, 0.02063525,\n",
       "       0.02067513, 0.02071494, 0.0207547 , 0.02079441, 0.02083405,\n",
       "       0.02087362, 0.02091314, 0.02095259, 0.02099199, 0.02103131,\n",
       "       0.02107057, 0.02110977, 0.0211489 , 0.02118796, 0.02122695,\n",
       "       0.02126588, 0.02130474, 0.02134353, 0.02138225, 0.02142089,\n",
       "       0.02145947, 0.02149797, 0.02153641, 0.02157476, 0.02161305,\n",
       "       0.02165125, 0.02168938, 0.02172744, 0.02176542, 0.02180332,\n",
       "       0.02184114, 0.02187888, 0.02191655, 0.02195413, 0.02199163,\n",
       "       0.02202905, 0.02206639, 0.02210365, 0.02214082, 0.02217791,\n",
       "       0.02221491, 0.02225182, 0.02228865, 0.0223254 , 0.02236205,\n",
       "       0.02239862, 0.0224351 , 0.02247149, 0.02250779, 0.02254399,\n",
       "       0.02258011, 0.02261613, 0.02265207, 0.0226879 , 0.02272365,\n",
       "       0.0227593 , 0.02279485, 0.02283031, 0.02286567, 0.02290093,\n",
       "       0.0229361 , 0.02297116, 0.02300613, 0.023041  , 0.02307577,\n",
       "       0.02311043, 0.023145  , 0.02317946, 0.02321382, 0.02324807,\n",
       "       0.02328223, 0.02331627, 0.02335022, 0.02338405, 0.02341778,\n",
       "       0.0234514 , 0.02348491, 0.02351832, 0.02355162, 0.0235848 ,\n",
       "       0.02361788, 0.02365084, 0.0236837 , 0.02371644, 0.02374907,\n",
       "       0.02378158, 0.02381398, 0.02384627, 0.02387844, 0.0239105 ,\n",
       "       0.02394244, 0.02397426, 0.02400597, 0.02403755, 0.02406902,\n",
       "       0.02410037, 0.0241316 , 0.02416271, 0.0241937 , 0.02422457,\n",
       "       0.02425532, 0.02428594, 0.02431644, 0.02434682, 0.02437707,\n",
       "       0.0244072 , 0.0244372 , 0.02446708, 0.02449683, 0.02452645,\n",
       "       0.02455595, 0.02458531, 0.02461455, 0.02464366, 0.02467264,\n",
       "       0.02470149, 0.02473021, 0.0247588 , 0.02478725, 0.02481558,\n",
       "       0.02484377, 0.02487183, 0.02489975, 0.02492754, 0.02495519,\n",
       "       0.02498271, 0.0250101 , 0.02503734, 0.02506445, 0.02509143,\n",
       "       0.02511826, 0.02514496, 0.02517151, 0.02519793, 0.02522421,\n",
       "       0.02525035, 0.02527635, 0.0253022 , 0.02532792, 0.02535349,\n",
       "       0.02537892, 0.0254042 , 0.02542934, 0.02545434, 0.02547919,\n",
       "       0.0255039 , 0.02552847, 0.02555288, 0.02557715, 0.02560128,\n",
       "       0.02562525, 0.02564908, 0.02567276, 0.0256963 , 0.02571968,\n",
       "       0.02574291, 0.02576599, 0.02578893, 0.02581171, 0.02583434,\n",
       "       0.02585682, 0.02587915, 0.02590132, 0.02592335, 0.02594522,\n",
       "       0.02596693, 0.02598849, 0.0260099 , 0.02603115, 0.02605225,\n",
       "       0.02607319, 0.02609398, 0.0261146 , 0.02613508, 0.02615539,\n",
       "       0.02617555, 0.02619555, 0.02621539, 0.02623508, 0.0262546 ,\n",
       "       0.02627396, 0.02629317, 0.02631222, 0.0263311 , 0.02634982,\n",
       "       0.02636839, 0.02638679, 0.02640503, 0.02642311, 0.02644102,\n",
       "       0.02645878, 0.02647637, 0.02649379, 0.02651106, 0.02652816,\n",
       "       0.02654509, 0.02656186, 0.02657847, 0.02659491, 0.02661118,\n",
       "       0.02662729, 0.02664323, 0.02665901, 0.02667462, 0.02669006,\n",
       "       0.02670534, 0.02672045, 0.02673539, 0.02675016, 0.02676476,\n",
       "       0.0267792 , 0.02679347, 0.02680756, 0.02682149, 0.02683525,\n",
       "       0.02684884, 0.02686226, 0.02687551, 0.02688859, 0.02690149,\n",
       "       0.02691423, 0.0269268 , 0.02693919, 0.02695141, 0.02696346,\n",
       "       0.02697534, 0.02698705, 0.02699858, 0.02700995, 0.02702113,\n",
       "       0.02703215, 0.02704299, 0.02705366, 0.02706416, 0.02707448,\n",
       "       0.02708463, 0.0270946 , 0.0271044 , 0.02711403, 0.02712348,\n",
       "       0.02713275, 0.02714185, 0.02715078, 0.02715953, 0.02716811,\n",
       "       0.02717651, 0.02718473, 0.02719278, 0.02720065, 0.02720835,\n",
       "       0.02721587, 0.02722322, 0.02723039, 0.02723738, 0.02724419,\n",
       "       0.02725083, 0.0272573 , 0.02726358, 0.02726969, 0.02727562,\n",
       "       0.02728138, 0.02728696, 0.02729236, 0.02729758, 0.02730263,\n",
       "       0.02730749, 0.02731219, 0.0273167 , 0.02732104, 0.02732519,\n",
       "       0.02732918, 0.02733298, 0.02733661, 0.02734005, 0.02734332,\n",
       "       0.02734642, 0.02734933, 0.02735207, 0.02735463, 0.02735701,\n",
       "       0.02735921, 0.02736124, 0.02736308, 0.02736475, 0.02736625,\n",
       "       0.02736756, 0.0273687 , 0.02736966, 0.02737044, 0.02737104,\n",
       "       0.02737147, 0.02737171, 0.02737178, 0.02737168, 0.02737139,\n",
       "       0.02737093, 0.02737029, 0.02736947, 0.02736848, 0.02736731,\n",
       "       0.02736596, 0.02736444, 0.02736273, 0.02736086, 0.0273588 ,\n",
       "       0.02735657, 0.02735416, 0.02735157, 0.02734881, 0.02734587,\n",
       "       0.02734276, 0.02733947, 0.027336  , 0.02733236, 0.02732854,\n",
       "       0.02732455, 0.02732038, 0.02731604, 0.02731152, 0.02730683,\n",
       "       0.02730196, 0.02729692, 0.0272917 , 0.02728631, 0.02728074,\n",
       "       0.027275  , 0.02726909, 0.027263  , 0.02725674, 0.02725031,\n",
       "       0.0272437 , 0.02723692, 0.02722997, 0.02722284, 0.02721555,\n",
       "       0.02720808, 0.02720044, 0.02719262, 0.02718464, 0.02717649,\n",
       "       0.02716816, 0.02715966, 0.027151  , 0.02714216, 0.02713316,\n",
       "       0.02712398, 0.02711463, 0.02710512, 0.02709544, 0.02708558,\n",
       "       0.02707556, 0.02706537, 0.02705502, 0.02704449, 0.0270338 ,\n",
       "       0.02702295, 0.02701192, 0.02700073, 0.02698938, 0.02697785,\n",
       "       0.02696617, 0.02695431, 0.0269423 , 0.02693011, 0.02691777,\n",
       "       0.02690526, 0.02689259, 0.02687975, 0.02686675, 0.02685359,\n",
       "       0.02684027, 0.02682678, 0.02681314, 0.02679933, 0.02678536,\n",
       "       0.02677124, 0.02675695, 0.0267425 , 0.0267279 , 0.02671313,\n",
       "       0.02669821, 0.02668313, 0.02666789, 0.0266525 , 0.02663695,\n",
       "       0.02662124, 0.02660538, 0.02658936, 0.02657318, 0.02655686,\n",
       "       0.02654037, 0.02652374, 0.02650695, 0.02649001, 0.02647291,\n",
       "       0.02645567, 0.02643827, 0.02642072, 0.02640302, 0.02638518,\n",
       "       0.02636718, 0.02634903, 0.02633074, 0.02631229, 0.0262937 ,\n",
       "       0.02627496, 0.02625608, 0.02623705, 0.02621787, 0.02619855,\n",
       "       0.02617909, 0.02615948, 0.02613972, 0.02611983, 0.02609979,\n",
       "       0.02607961, 0.02605929, 0.02603882, 0.02601822, 0.02599748,\n",
       "       0.0259766 , 0.02595558, 0.02593442, 0.02591313, 0.02589169,\n",
       "       0.02587012, 0.02584842, 0.02582658, 0.02580461, 0.0257825 ,\n",
       "       0.02576026, 0.02573789, 0.02571538, 0.02569274, 0.02566997,\n",
       "       0.02564708, 0.02562405, 0.02560089, 0.02557761, 0.02555419,\n",
       "       0.02553065, 0.02550699, 0.02548319, 0.02545928, 0.02543523,\n",
       "       0.02541107, 0.02538678, 0.02536237, 0.02533783, 0.02531318,\n",
       "       0.0252884 , 0.02526351, 0.0252385 , 0.02521336, 0.02518811,\n",
       "       0.02516275, 0.02513726, 0.02511166, 0.02508595, 0.02506012,\n",
       "       0.02503418, 0.02500813, 0.02498196, 0.02495569, 0.0249293 ,\n",
       "       0.0249028 , 0.0248762 , 0.02484948, 0.02482266, 0.02479573,\n",
       "       0.0247687 , 0.02474156, 0.02471432, 0.02468697, 0.02465952,\n",
       "       0.02463197, 0.02460432, 0.02457656, 0.02454871, 0.02452076,\n",
       "       0.02449271, 0.02446456, 0.02443632, 0.02440798, 0.02437955,\n",
       "       0.02435102, 0.0243224 , 0.02429369, 0.02426489, 0.024236  ,\n",
       "       0.02420701, 0.02417794, 0.02414878, 0.02411954, 0.0240902 ,\n",
       "       0.02406079, 0.02403128, 0.0240017 , 0.02397203, 0.02394228,\n",
       "       0.02391245, 0.02388254, 0.02385255, 0.02382248, 0.02379234,\n",
       "       0.02376212, 0.02373183, 0.02370146, 0.02367101, 0.0236405 ,\n",
       "       0.02360991, 0.02357925, 0.02354853, 0.02351773, 0.02348687,\n",
       "       0.02345594, 0.02342495, 0.02339389, 0.02336276, 0.02333158,\n",
       "       0.02330033, 0.02326902, 0.02323766, 0.02320623, 0.02317475,\n",
       "       0.02314321, 0.02311161, 0.02307996, 0.02304826, 0.0230165 ,\n",
       "       0.02298469, 0.02295284, 0.02292093, 0.02288897, 0.02285697,\n",
       "       0.02282492, 0.02279283, 0.02276069, 0.02272851, 0.02269629,\n",
       "       0.02266403, 0.02263173, 0.02259939, 0.02256701, 0.0225346 ,\n",
       "       0.02250215, 0.02246966, 0.02243715, 0.0224046 , 0.02237202,\n",
       "       0.02233942, 0.02230678, 0.02227412, 0.02224143, 0.02220872,\n",
       "       0.02217598, 0.02214322, 0.02211044, 0.02207764, 0.02204482,\n",
       "       0.02201198, 0.02197913, 0.02194626, 0.02191337, 0.02188048,\n",
       "       0.02184757, 0.02181465, 0.02178173, 0.02174879, 0.02171585,\n",
       "       0.0216829 , 0.02164995, 0.021617  , 0.02158404, 0.02155108,\n",
       "       0.02151813, 0.02148518, 0.02145223, 0.02141928, 0.02138634,\n",
       "       0.02135341, 0.02132048, 0.02128757, 0.02125467, 0.02122178,\n",
       "       0.0211889 , 0.02115604, 0.0211232 , 0.02109037, 0.02105756,\n",
       "       0.02102477, 0.02099201, 0.02095926, 0.02092655, 0.02089385,\n",
       "       0.02086119, 0.02082855, 0.02079595, 0.02076337, 0.02073083,\n",
       "       0.02069832, 0.02066585, 0.02063341, 0.02060102, 0.02056866,\n",
       "       0.02053634, 0.02050407, 0.02047184, 0.02043966, 0.02040752,\n",
       "       0.02037543, 0.02034339, 0.0203114 , 0.02027947, 0.02024759,\n",
       "       0.02021576, 0.02018399, 0.02015228, 0.02012063, 0.02008904,\n",
       "       0.02005752, 0.02002606, 0.01999466, 0.01996333, 0.01993208,\n",
       "       0.01990089, 0.01986977, 0.01983873, 0.01980776, 0.01977687,\n",
       "       0.01974606, 0.01971532, 0.01968467, 0.0196541 , 0.01962361,\n",
       "       0.01959321, 0.0195629 , 0.01953267, 0.01950254, 0.0194725 ,\n",
       "       0.01944255, 0.0194127 , 0.01938294, 0.01935328, 0.01932372,\n",
       "       0.01929427, 0.01926491, 0.01923566, 0.01920652, 0.01917748,\n",
       "       0.01914856, 0.01911974, 0.01909104, 0.01906245, 0.01903398,\n",
       "       0.01900562, 0.01897739, 0.01894927, 0.01892128, 0.01889341,\n",
       "       0.01886567, 0.01883805, 0.01881057, 0.01878321, 0.01875599,\n",
       "       0.0187289 , 0.01870194, 0.01867513, 0.01864845, 0.01862191,\n",
       "       0.01859552, 0.01856926, 0.01854316, 0.0185172 , 0.01849139,\n",
       "       0.01846573, 0.01844022, 0.01841487, 0.01838967, 0.01836463,\n",
       "       0.01833975, 0.01831503, 0.01829048, 0.01826608, 0.01824186,\n",
       "       0.0182178 , 0.01819391, 0.01817019, 0.01814664, 0.01812327,\n",
       "       0.01810008, 0.01807706, 0.01805422, 0.01803156, 0.01800909,\n",
       "       0.0179868 , 0.0179647 , 0.01794278, 0.01792106, 0.01789953,\n",
       "       0.01787819, 0.01785704, 0.0178361 , 0.01781535, 0.0177948 ,\n",
       "       0.01777446, 0.01775431, 0.01773438, 0.01771465, 0.01769513,\n",
       "       0.01767582, 0.01765672, 0.01763784, 0.01761918, 0.01760073,\n",
       "       0.0175825 , 0.01756449, 0.01754671, 0.01752915, 0.01751182,\n",
       "       0.01749471, 0.01747784, 0.01746119, 0.01744478, 0.01742861,\n",
       "       0.01741267, 0.01739697, 0.01738152, 0.0173663 , 0.01735133,\n",
       "       0.0173366 , 0.01732213, 0.0173079 , 0.01729392, 0.01728019,\n",
       "       0.01726672, 0.01725351, 0.01724055, 0.01722785, 0.01721541,\n",
       "       0.01720324, 0.01719133, 0.01717969, 0.01716832, 0.01715721,\n",
       "       0.01714638, 0.01713582, 0.01712554, 0.01711553, 0.0171058 ,\n",
       "       0.01709635, 0.01708719, 0.01707831, 0.01706971, 0.0170614 ,\n",
       "       0.01705338, 0.01704564, 0.01703821, 0.01703106, 0.01702421,\n",
       "       0.01701766, 0.0170114 , 0.01700545, 0.0169998 , 0.01699445,\n",
       "       0.01698941, 0.01698467, 0.01698025, 0.01697613, 0.01697233,\n",
       "       0.01696884, 0.01696566, 0.01696281, 0.01696027, 0.01695805,\n",
       "       0.01695615, 0.01695458, 0.01695333, 0.01695241, 0.01695182,\n",
       "       0.01695155, 0.01695162, 0.01695202, 0.01695276, 0.01695383,\n",
       "       0.01695524, 0.01695699, 0.01695908, 0.01696151, 0.01696429,\n",
       "       0.01696741, 0.01697088, 0.01697469, 0.01697886, 0.01698338,\n",
       "       0.01698825, 0.01699348, 0.01699906, 0.017005  , 0.0170113 ,\n",
       "       0.01701796, 0.01702499, 0.01703237, 0.01704012, 0.01704824,\n",
       "       0.01705672, 0.01706558, 0.0170748 , 0.0170844 , 0.01709437,\n",
       "       0.01710472, 0.01711544, 0.01712654, 0.01713802, 0.01714987,\n",
       "       0.01716211, 0.01717474, 0.01718775, 0.01720114, 0.01721492,\n",
       "       0.01722909, 0.01724365, 0.0172586 , 0.01727394, 0.01728968,\n",
       "       0.01730581, 0.01732234, 0.01733926, 0.01735658, 0.01737431,\n",
       "       0.01739243, 0.01741096, 0.01742989, 0.01744922, 0.01746896,\n",
       "       0.01748911, 0.01750966, 0.01753063, 0.017552  , 0.01757379,\n",
       "       0.01759599, 0.01761861, 0.01764163, 0.01766508, 0.01768894,\n",
       "       0.01771322, 0.01773792, 0.01776304, 0.01778858, 0.01781454,\n",
       "       0.01784093, 0.01786774, 0.01789498, 0.01792264, 0.01795073,\n",
       "       0.01797925, 0.0180082 , 0.01803758, 0.01806738, 0.01809763,\n",
       "       0.0181283 , 0.01815941, 0.01819095, 0.01822293, 0.01825534,\n",
       "       0.01828819, 0.01832148, 0.01835521, 0.01838937, 0.01842398])"
      ]
     },
     "execution_count": 16,
     "metadata": {},
     "output_type": "execute_result"
    }
   ],
   "source": [
    "probabilities_exp[1000:2000]"
   ]
  },
  {
   "cell_type": "code",
   "execution_count": 17,
   "id": "8e1fa8fd",
   "metadata": {},
   "outputs": [
    {
     "data": {
      "text/plain": [
       "array([0.01845903, 0.01849452, 0.01853045, 0.01856683, 0.01860365,\n",
       "       0.01864092, 0.01867863, 0.01871678, 0.01875539, 0.01879444,\n",
       "       0.01883394, 0.01887388, 0.01891428, 0.01895513, 0.01899643,\n",
       "       0.01903817, 0.01908037, 0.01912303, 0.01916613, 0.01920969,\n",
       "       0.0192537 , 0.01929816, 0.01934308, 0.01938846, 0.01943429,\n",
       "       0.01948058, 0.01952732, 0.01957452, 0.01962218, 0.01967029,\n",
       "       0.01971886, 0.01976789, 0.01981738, 0.01986733, 0.01991773,\n",
       "       0.0199686 , 0.02001993, 0.02007171, 0.02012396, 0.02017666,\n",
       "       0.02022983, 0.02028346, 0.02033754, 0.02039209, 0.0204471 ,\n",
       "       0.02050257, 0.02055851, 0.0206149 , 0.02067176, 0.02072908,\n",
       "       0.02078685, 0.0208451 , 0.0209038 , 0.02096296, 0.02102259,\n",
       "       0.02108268, 0.02114323, 0.02120424, 0.02126571, 0.02132765,\n",
       "       0.02139004, 0.0214529 , 0.02151622, 0.02158   , 0.02164424,\n",
       "       0.02170894, 0.0217741 , 0.02183972, 0.0219058 , 0.02197235,\n",
       "       0.02203935, 0.02210681, 0.02217472, 0.0222431 , 0.02231194,\n",
       "       0.02238123, 0.02245098, 0.02252119, 0.02259186, 0.02266298,\n",
       "       0.02273456, 0.02280659, 0.02287908, 0.02295202, 0.02302542,\n",
       "       0.02309927, 0.02317357, 0.02324833, 0.02332354, 0.0233992 ,\n",
       "       0.02347531, 0.02355187, 0.02362888, 0.02370635, 0.02378425,\n",
       "       0.02386261, 0.02394142, 0.02402067, 0.02410036, 0.02418051,\n",
       "       0.02426109, 0.02434212, 0.0244236 , 0.02450551, 0.02458787,\n",
       "       0.02467066, 0.0247539 , 0.02483758, 0.02492169, 0.02500624,\n",
       "       0.02509123, 0.02517665, 0.02526251, 0.0253488 , 0.02543552,\n",
       "       0.02552268, 0.02561026, 0.02569828, 0.02578672, 0.02587559,\n",
       "       0.02596489, 0.02605462, 0.02614477, 0.02623534, 0.02632633,\n",
       "       0.02641775, 0.02650959, 0.02660184, 0.02669451, 0.0267876 ,\n",
       "       0.02688111, 0.02697503, 0.02706936, 0.02716411, 0.02725927,\n",
       "       0.02735483, 0.02745081, 0.02754719, 0.02764398, 0.02774117,\n",
       "       0.02783877, 0.02793676, 0.02803516, 0.02813396, 0.02823315,\n",
       "       0.02833274, 0.02843273, 0.02853311, 0.02863388, 0.02873505,\n",
       "       0.0288366 , 0.02893854, 0.02904087, 0.02914358, 0.02924668,\n",
       "       0.02935016, 0.02945402, 0.02955826, 0.02966287, 0.02976787,\n",
       "       0.02987323, 0.02997897, 0.03008509, 0.03019157, 0.03029842,\n",
       "       0.03040563, 0.03051321, 0.03062116, 0.03072946, 0.03083813,\n",
       "       0.03094715, 0.03105653, 0.03116627, 0.03127636, 0.0313868 ,\n",
       "       0.03149759, 0.03160873, 0.03172022, 0.03183205, 0.03194422,\n",
       "       0.03205673, 0.03216959, 0.03228278, 0.03239631, 0.03251017,\n",
       "       0.03262436, 0.03273888, 0.03285374, 0.03296892, 0.03308442,\n",
       "       0.03320025, 0.0333164 , 0.03343286, 0.03354965, 0.03366675,\n",
       "       0.03378416, 0.03390189, 0.03401992, 0.03413826, 0.03425691,\n",
       "       0.03437587, 0.03449512, 0.03461468, 0.03473453, 0.03485468,\n",
       "       0.03497512, 0.03509586, 0.03521688, 0.0353382 , 0.0354598 ,\n",
       "       0.03558168, 0.03570385, 0.03582629, 0.03594902, 0.03607202,\n",
       "       0.03619529, 0.03631884, 0.03644265, 0.03656674, 0.03669109,\n",
       "       0.0368157 , 0.03694057, 0.03706571, 0.0371911 , 0.03731675,\n",
       "       0.03744265, 0.0375688 , 0.0376952 , 0.03782184, 0.03794874,\n",
       "       0.03807587, 0.03820324, 0.03833086, 0.0384587 , 0.03858679,\n",
       "       0.0387151 , 0.03884365, 0.03897242, 0.03910142, 0.03923064,\n",
       "       0.03936008, 0.03948974, 0.03961962, 0.03974971, 0.03988001,\n",
       "       0.04001053, 0.04014125, 0.04027218, 0.04040331, 0.04053464,\n",
       "       0.04066617, 0.0407979 , 0.04092982, 0.04106194, 0.04119424,\n",
       "       0.04132674, 0.04145942, 0.04159228, 0.04172532, 0.04185855,\n",
       "       0.04199195, 0.04212552, 0.04225927, 0.04239319, 0.04252728,\n",
       "       0.04266153, 0.04279594, 0.04293052, 0.04306526, 0.04320015,\n",
       "       0.04333519, 0.04347039, 0.04360574, 0.04374124, 0.04387688,\n",
       "       0.04401266, 0.04414859, 0.04428465, 0.04442085, 0.04455719,\n",
       "       0.04469366, 0.04483025, 0.04496698, 0.04510382, 0.0452408 ,\n",
       "       0.04537789, 0.0455151 , 0.04565243, 0.04578987, 0.04592742,\n",
       "       0.04606508, 0.04620285, 0.04634072, 0.0464787 , 0.04661678,\n",
       "       0.04675495, 0.04689322, 0.04703158, 0.04717003, 0.04730858,\n",
       "       0.04744721, 0.04758592, 0.04772471, 0.04786359, 0.04800254,\n",
       "       0.04814157, 0.04828067, 0.04841984, 0.04855908, 0.04869839,\n",
       "       0.04883776, 0.04897719, 0.04911668, 0.04925623, 0.04939583,\n",
       "       0.04953549, 0.04967519, 0.04981495, 0.04995475, 0.05009459,\n",
       "       0.05023448, 0.0503744 , 0.05051436, 0.05065436, 0.05079439,\n",
       "       0.05093444, 0.05107453, 0.05121464, 0.05135477, 0.05149493,\n",
       "       0.0516351 , 0.05177529, 0.05191549, 0.05205571, 0.05219594,\n",
       "       0.05233617, 0.05247641, 0.05261665, 0.05275689, 0.05289713,\n",
       "       0.05303737, 0.0531776 , 0.05331782, 0.05345804, 0.05359824,\n",
       "       0.05373842, 0.05387859, 0.05401874, 0.05415887, 0.05429897,\n",
       "       0.05443904, 0.05457909, 0.05471911, 0.05485909, 0.05499904,\n",
       "       0.05513895, 0.05527883, 0.05541866, 0.05555844, 0.05569818,\n",
       "       0.05583787, 0.05597751, 0.0561171 , 0.05625663, 0.05639611,\n",
       "       0.05653552, 0.05667488, 0.05681417, 0.05695339, 0.05709255,\n",
       "       0.05723163, 0.05737064, 0.05750957, 0.05764843, 0.05778721,\n",
       "       0.0579259 , 0.05806451, 0.05820304, 0.05834147, 0.05847982,\n",
       "       0.05861807, 0.05875623, 0.05889428, 0.05903224, 0.0591701 ,\n",
       "       0.05930785, 0.0594455 , 0.05958303, 0.05972046, 0.05985777,\n",
       "       0.05999497, 0.06013205, 0.06026901, 0.06040585, 0.06054256,\n",
       "       0.06067914, 0.0608156 , 0.06095192, 0.06108812, 0.06122417,\n",
       "       0.06136009, 0.06149587, 0.0616315 , 0.06176699, 0.06190234,\n",
       "       0.06203753, 0.06217257, 0.06230746, 0.06244219, 0.06257677,\n",
       "       0.06271118, 0.06284544, 0.06297952, 0.06311344, 0.06324719,\n",
       "       0.06338077, 0.06351417, 0.0636474 , 0.06378044, 0.06391332,\n",
       "       0.064046  , 0.0641785 , 0.06431081, 0.06444293, 0.06457486,\n",
       "       0.06470659, 0.06483813, 0.06496947, 0.0651006 , 0.06523154,\n",
       "       0.06536226, 0.06549278, 0.06562309, 0.06575319, 0.06588307,\n",
       "       0.06601273, 0.06614217, 0.0662714 , 0.06640039, 0.06652916,\n",
       "       0.0666577 , 0.06678601, 0.06691408, 0.06704192, 0.06716952,\n",
       "       0.06729688, 0.06742399, 0.06755086, 0.06767748, 0.06780386,\n",
       "       0.06792998, 0.06805584, 0.06818145, 0.0683068 , 0.06843188,\n",
       "       0.06855671, 0.06868126, 0.06880555, 0.06892956, 0.06905331,\n",
       "       0.06917677, 0.06929996, 0.06942286, 0.06954549, 0.06966782,\n",
       "       0.06978988, 0.06991163, 0.0700331 , 0.07015427, 0.07027515,\n",
       "       0.07039572, 0.07051599, 0.07063596, 0.07075562, 0.07087497,\n",
       "       0.07099401, 0.07111273, 0.07123114, 0.07134922, 0.07146699,\n",
       "       0.07158443, 0.07170155, 0.07181834, 0.07193479, 0.07205091,\n",
       "       0.0721667 , 0.07228214, 0.07239725, 0.07251201, 0.07262643,\n",
       "       0.07274049, 0.07285421, 0.07296757, 0.07308058, 0.07319323,\n",
       "       0.07330552, 0.07341744, 0.073529  , 0.07364019, 0.07375102,\n",
       "       0.07386146, 0.07397153, 0.07408123, 0.07419054, 0.07429947,\n",
       "       0.07440802, 0.07451617, 0.07462394, 0.07473131, 0.07483829,\n",
       "       0.07494487, 0.07505105, 0.07515683, 0.0752622 , 0.07536717,\n",
       "       0.07547172, 0.07557586, 0.07567959, 0.0757829 , 0.07588579,\n",
       "       0.07598825, 0.07609029, 0.0761919 , 0.07629309, 0.07639383,\n",
       "       0.07649415, 0.07659402, 0.07669346, 0.07679246, 0.07689101,\n",
       "       0.07698911, 0.07708676, 0.07718396, 0.0772807 , 0.07737699,\n",
       "       0.07747281, 0.07756817, 0.07766307, 0.0777575 , 0.07785146,\n",
       "       0.07794495, 0.07803797, 0.0781305 , 0.07822256, 0.07831413,\n",
       "       0.07840522, 0.07849582, 0.07858593, 0.07867555, 0.07876467,\n",
       "       0.0788533 , 0.07894143, 0.07902905, 0.07911617, 0.07920278,\n",
       "       0.07928889, 0.07937448, 0.07945956, 0.07954412, 0.07962816,\n",
       "       0.07971168, 0.07979468, 0.07987715, 0.0799591 , 0.0800405 ,\n",
       "       0.08012138, 0.08020172, 0.08028153, 0.08036079, 0.08043951,\n",
       "       0.08051768, 0.08059531, 0.08067238, 0.08074891, 0.08082487,\n",
       "       0.08090029, 0.08097514, 0.08104943, 0.08112315, 0.08119632,\n",
       "       0.0812689 , 0.08134092, 0.08141237, 0.08148324, 0.08155353,\n",
       "       0.08162324, 0.08169237, 0.08176092, 0.08182887, 0.08189625,\n",
       "       0.08196302, 0.08202921, 0.08209479, 0.08215978, 0.08222417,\n",
       "       0.08228796, 0.08235114, 0.08241372, 0.08247569, 0.08253705,\n",
       "       0.08259779, 0.08265792, 0.08271743, 0.08277632, 0.08283459,\n",
       "       0.08289224, 0.08294926, 0.08300565, 0.08306142, 0.08311655,\n",
       "       0.08317105, 0.08322491, 0.08327814, 0.08333073, 0.08338267,\n",
       "       0.08343397, 0.08348463, 0.08353464, 0.083584  , 0.08363271,\n",
       "       0.08368076, 0.08372816, 0.0837749 , 0.08382099, 0.08386642,\n",
       "       0.08391118, 0.08395528, 0.08399871, 0.08404148, 0.08408358,\n",
       "       0.084125  , 0.08416576, 0.08420584, 0.08424524, 0.08428397,\n",
       "       0.08432202, 0.08435938, 0.08439607, 0.08443206, 0.08446738,\n",
       "       0.08450201, 0.08453595, 0.08456919, 0.08460175, 0.08463361,\n",
       "       0.08466478, 0.08469525, 0.08472503, 0.08475411, 0.08478248,\n",
       "       0.08481016, 0.08483713, 0.08486339, 0.08488896, 0.08491381,\n",
       "       0.08493796, 0.08496139, 0.08498412, 0.08500613, 0.08502743,\n",
       "       0.08504802, 0.08506789, 0.08508705, 0.08510548, 0.0851232 ,\n",
       "       0.0851402 , 0.08515648, 0.08517203, 0.08518687, 0.08520097,\n",
       "       0.08521436, 0.08522702, 0.08523895, 0.08525015, 0.08526063,\n",
       "       0.08527037, 0.08527939, 0.08528767, 0.08529523, 0.08530205,\n",
       "       0.08530813, 0.08531349, 0.08531811, 0.08532199, 0.08532514,\n",
       "       0.08532755, 0.08532922, 0.08533016, 0.08533035, 0.08532981,\n",
       "       0.08532853, 0.08532651, 0.08532375, 0.08532025, 0.085316  ,\n",
       "       0.08531102, 0.08530529, 0.08529882, 0.08529161, 0.08528366,\n",
       "       0.08527496, 0.08526552, 0.08525534, 0.08524441, 0.08523274,\n",
       "       0.08522032, 0.08520716, 0.08519326, 0.08517861, 0.08516322,\n",
       "       0.08514708, 0.0851302 , 0.08511257, 0.0850942 , 0.08507509,\n",
       "       0.08505523, 0.08503463, 0.08501328, 0.08499119, 0.08496836,\n",
       "       0.08494479, 0.08492047, 0.08489541, 0.0848696 , 0.08484306,\n",
       "       0.08481577, 0.08478774, 0.08475897, 0.08472946, 0.08469921,\n",
       "       0.08466822, 0.08463649, 0.08460403, 0.08457082, 0.08453688,\n",
       "       0.08450221, 0.08446679, 0.08443064, 0.08439376, 0.08435614,\n",
       "       0.0843178 , 0.08427871, 0.0842389 , 0.08419835, 0.08415708,\n",
       "       0.08411508, 0.08407235, 0.08402889, 0.0839847 , 0.08393979,\n",
       "       0.08389416, 0.0838478 , 0.08380072, 0.08375292, 0.0837044 ,\n",
       "       0.08365516, 0.0836052 , 0.08355453, 0.08350314, 0.08345104,\n",
       "       0.08339822, 0.08334469, 0.08329045, 0.0832355 , 0.08317985,\n",
       "       0.08312349, 0.08306642, 0.08300865, 0.08295018, 0.08289101,\n",
       "       0.08283114, 0.08277056, 0.0827093 , 0.08264734, 0.08258469,\n",
       "       0.08252134, 0.0824573 , 0.08239258, 0.08232717, 0.08226108,\n",
       "       0.0821943 , 0.08212684, 0.0820587 , 0.08198989, 0.0819204 ,\n",
       "       0.08185023, 0.08177939, 0.08170788, 0.0816357 , 0.08156286,\n",
       "       0.08148935, 0.08141518, 0.08134035, 0.08126485, 0.08118871,\n",
       "       0.0811119 , 0.08103445, 0.08095634, 0.08087759, 0.08079819,\n",
       "       0.08071814, 0.08063745, 0.08055613, 0.08047417, 0.08039156,\n",
       "       0.08030833, 0.08022446, 0.08013997, 0.08005485, 0.07996911,\n",
       "       0.07988274, 0.07979576, 0.07970816, 0.07961994, 0.07953111,\n",
       "       0.07944168, 0.07935163, 0.07926098, 0.07916972, 0.07907788,\n",
       "       0.07898542, 0.07889238, 0.07879874, 0.07870452, 0.0786097 ,\n",
       "       0.0785143 , 0.07841832, 0.07832176, 0.07822463, 0.07812691,\n",
       "       0.07802863, 0.07792979, 0.07783037, 0.07773039, 0.07762984,\n",
       "       0.07752875, 0.0774271 , 0.07732489, 0.07722214, 0.07711884,\n",
       "       0.077015  , 0.07691061, 0.07680569, 0.07670024, 0.07659424,\n",
       "       0.07648772, 0.07638067, 0.07627311, 0.07616502, 0.07605641,\n",
       "       0.07594728, 0.07583766, 0.07572751, 0.07561686, 0.07550571,\n",
       "       0.07539406, 0.0752819 , 0.07516926, 0.07505612, 0.07494251,\n",
       "       0.07482841, 0.07471382, 0.07459875, 0.07448322, 0.07436721,\n",
       "       0.07425072, 0.07413377, 0.07401637, 0.0738985 , 0.07378017,\n",
       "       0.07366139, 0.07354217, 0.07342249, 0.07330237, 0.07318181,\n",
       "       0.07306082, 0.07293938, 0.07281752, 0.07269522, 0.07257252,\n",
       "       0.07244938, 0.07232582, 0.07220185, 0.07207748, 0.07195268,\n",
       "       0.07182749, 0.07170189, 0.0715759 , 0.07144951, 0.07132272,\n",
       "       0.07119555, 0.071068  , 0.07094006, 0.07081174, 0.07068304,\n",
       "       0.07055399, 0.07042455, 0.07029475, 0.07016458, 0.07003407,\n",
       "       0.06990319, 0.06977196, 0.06964038, 0.06950847, 0.0693762 ,\n",
       "       0.06924359, 0.06911065, 0.06897739, 0.06884379, 0.06870986,\n",
       "       0.06857561, 0.06844105, 0.06830616, 0.06817096, 0.06803546,\n",
       "       0.06789966, 0.06776355, 0.06762713, 0.06749042, 0.06735344,\n",
       "       0.06721615, 0.06707858, 0.06694072, 0.0668026 , 0.06666419,\n",
       "       0.06652551, 0.06638656, 0.06624735, 0.06610788, 0.06596814,\n",
       "       0.06582815, 0.06568792, 0.06554743, 0.0654067 , 0.06526572,\n",
       "       0.06512451, 0.06498306, 0.06484138, 0.06469947, 0.06455734,\n",
       "       0.06441499, 0.06427241, 0.06412962, 0.06398662, 0.06384341,\n",
       "       0.06369999, 0.06355637, 0.06341257, 0.06326855, 0.06312435,\n",
       "       0.06297995, 0.06283538, 0.06269061, 0.06254566, 0.06240055,\n",
       "       0.06225527, 0.06210981, 0.06196418, 0.06181839, 0.06167246,\n",
       "       0.06152636, 0.0613801 , 0.06123369, 0.06108715, 0.06094045,\n",
       "       0.06079361, 0.06064664, 0.06049954, 0.0603523 , 0.06020493,\n",
       "       0.06005744, 0.05990984, 0.05976211, 0.05961426, 0.0594663 ,\n",
       "       0.05931825, 0.05917008, 0.0590218 , 0.05887343, 0.05872497,\n",
       "       0.05857641, 0.05842775, 0.05827901, 0.0581302 , 0.05798129,\n",
       "       0.05783231, 0.05768325, 0.05753413, 0.05738494, 0.05723567,\n",
       "       0.05708634, 0.05693697, 0.05678752, 0.05663802, 0.05648847,\n",
       "       0.05633889, 0.05618925, 0.05603956, 0.05588984, 0.0557401 ])"
      ]
     },
     "execution_count": 17,
     "metadata": {},
     "output_type": "execute_result"
    }
   ],
   "source": [
    "probabilities_exp[2000:3000]"
   ]
  },
  {
   "cell_type": "markdown",
   "id": "65ec424d",
   "metadata": {},
   "source": [
    "## Probabilities_exp adds up to 1.0  (Unknown error PDF)\n",
    "\n",
    "* (unknown error vector size 4000)\n",
    "* this vector is what compared to impulse vector of size 4000"
   ]
  },
  {
   "cell_type": "code",
   "execution_count": 46,
   "id": "dbe2129e",
   "metadata": {},
   "outputs": [
    {
     "data": {
      "text/plain": [
       "99.9830079457722"
      ]
     },
     "execution_count": 46,
     "metadata": {},
     "output_type": "execute_result"
    }
   ],
   "source": [
    "sum(probabilities_exp)"
   ]
  },
  {
   "cell_type": "markdown",
   "id": "d3031eb9",
   "metadata": {},
   "source": [
    "## Impulse function \n",
    "\n",
    "* the produced vector of size 4000 is basically a constant of vector size 4000"
   ]
  },
  {
   "cell_type": "code",
   "execution_count": 47,
   "id": "6c89db14",
   "metadata": {},
   "outputs": [],
   "source": [
    "\n",
    "def ImpulseGaussian(x, mu, sigma): \n",
    "   \n",
    "    left  = 1 / (    torch.sqrt(   2 * torch.tensor(math.pi)   ) * torch.sqrt(torch.tensor(sigma) )    )\n",
    "    \n",
    "    right = torch.exp(   -(x - mu)**2 / (2 * sigma)    )\n",
    "    \n",
    "    vector_vals = left * right\n",
    "    \n",
    "    return vector_vals         ## .unsqueeze(0)\n"
   ]
  },
  {
   "cell_type": "code",
   "execution_count": 48,
   "id": "974c2d7a",
   "metadata": {},
   "outputs": [],
   "source": [
    "\n",
    "mean_impulse    = 0.0\n",
    "std_impulse     = 0.01\n"
   ]
  },
  {
   "cell_type": "code",
   "execution_count": 49,
   "id": "08bb417d",
   "metadata": {},
   "outputs": [],
   "source": [
    "\n",
    "impulseFunc = ImpulseGaussian(x, mean_impulse, std_impulse**2)  \n"
   ]
  },
  {
   "cell_type": "code",
   "execution_count": 50,
   "id": "4a015516",
   "metadata": {},
   "outputs": [
    {
     "data": {
      "text/plain": [
       "torch.Size([4000, 1])"
      ]
     },
     "execution_count": 50,
     "metadata": {},
     "output_type": "execute_result"
    }
   ],
   "source": [
    "impulseFunc.shape"
   ]
  },
  {
   "cell_type": "code",
   "execution_count": 51,
   "id": "c10a07c8",
   "metadata": {},
   "outputs": [
    {
     "data": {
      "image/png": "[encoded data removed]",
      "text/plain": [
       "<Figure size 432x288 with 1 Axes>"
      ]
     },
     "metadata": {
      "needs_background": "light"
     },
     "output_type": "display_data"
    }
   ],
   "source": [
    "\n",
    "plt.plot(x, impulseFunc)\n",
    "plt.show()\n"
   ]
  },
  {
   "cell_type": "markdown",
   "id": "841d6351",
   "metadata": {},
   "source": [
    "## Impulse function vector of size 4000 adds up to 1.0 "
   ]
  },
  {
   "cell_type": "code",
   "execution_count": 52,
   "id": "3bd4d907",
   "metadata": {},
   "outputs": [],
   "source": [
    "impulseFunc = impulseFunc/100.0"
   ]
  },
  {
   "cell_type": "code",
   "execution_count": 53,
   "id": "f18c78cd",
   "metadata": {},
   "outputs": [
    {
     "data": {
      "text/plain": [
       "tensor([1.])"
      ]
     },
     "execution_count": 53,
     "metadata": {},
     "output_type": "execute_result"
    }
   ],
   "source": [
    "sum(impulseFunc)"
   ]
  },
  {
   "cell_type": "code",
   "execution_count": 54,
   "id": "0527cc7e",
   "metadata": {},
   "outputs": [
    {
     "data": {
      "text/plain": [
       "tensor([[0.],\n",
       "        [0.],\n",
       "        [0.],\n",
       "        ...,\n",
       "        [0.],\n",
       "        [0.],\n",
       "        [0.]])"
      ]
     },
     "execution_count": 54,
     "metadata": {},
     "output_type": "execute_result"
    }
   ],
   "source": [
    "impulseFunc"
   ]
  },
  {
   "cell_type": "code",
   "execution_count": 55,
   "id": "a432d13b",
   "metadata": {},
   "outputs": [
    {
     "data": {
      "text/plain": [
       "tensor([[    0.0000],\n",
       "        [    0.0000],\n",
       "        [    0.0000],\n",
       "        [    0.0000],\n",
       "        [    0.0000],\n",
       "        [    0.0000],\n",
       "        [    0.0000],\n",
       "        [    0.0000],\n",
       "        [    0.0000],\n",
       "        [    0.0000],\n",
       "        [    0.0000],\n",
       "        [    0.0000],\n",
       "        [    0.0000],\n",
       "        [    0.0000],\n",
       "        [    0.0000],\n",
       "        [    0.0000],\n",
       "        [    0.0000],\n",
       "        [    0.0000],\n",
       "        [    0.0000],\n",
       "        [    0.0000],\n",
       "        [    0.0000],\n",
       "        [    0.0000],\n",
       "        [    0.0000],\n",
       "        [    0.0000],\n",
       "        [    0.0000],\n",
       "        [    0.0000],\n",
       "        [    0.0001],\n",
       "        [    0.0044],\n",
       "        [    0.0540],\n",
       "        [    0.2420],\n",
       "        [    0.3989],\n",
       "        [    0.2420],\n",
       "        [    0.0540],\n",
       "        [    0.0044],\n",
       "        [    0.0001],\n",
       "        [    0.0000],\n",
       "        [    0.0000],\n",
       "        [    0.0000],\n",
       "        [    0.0000],\n",
       "        [    0.0000],\n",
       "        [    0.0000],\n",
       "        [    0.0000],\n",
       "        [    0.0000],\n",
       "        [    0.0000],\n",
       "        [    0.0000],\n",
       "        [    0.0000],\n",
       "        [    0.0000],\n",
       "        [    0.0000],\n",
       "        [    0.0000],\n",
       "        [    0.0000],\n",
       "        [    0.0000],\n",
       "        [    0.0000],\n",
       "        [    0.0000],\n",
       "        [    0.0000],\n",
       "        [    0.0000],\n",
       "        [    0.0000],\n",
       "        [    0.0000],\n",
       "        [    0.0000],\n",
       "        [    0.0000],\n",
       "        [    0.0000]])"
      ]
     },
     "execution_count": 55,
     "metadata": {},
     "output_type": "execute_result"
    }
   ],
   "source": [
    "impulseFunc[1970:2030]"
   ]
  },
  {
   "cell_type": "code",
   "execution_count": null,
   "id": "660d5774",
   "metadata": {},
   "outputs": [],
   "source": []
  },
  {
   "cell_type": "code",
   "execution_count": null,
   "id": "25a7b9bd",
   "metadata": {},
   "outputs": [],
   "source": []
  }
 ],
 "metadata": {
  "kernelspec": {
   "display_name": "Python 3 (ipykernel)",
   "language": "python",
   "name": "python3"
  },
  "language_info": {
   "codemirror_mode": {
    "name": "ipython",
    "version": 3
   },
   "file_extension": ".py",
   "mimetype": "text/x-python",
   "name": "python",
   "nbconvert_exporter": "python",
   "pygments_lexer": "ipython3",
   "version": "3.8.13"
  }
 },
 "nbformat": 4,
 "nbformat_minor": 5
}
