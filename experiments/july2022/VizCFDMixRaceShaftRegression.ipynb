{
 "cells": [
  {
   "cell_type": "markdown",
   "id": "44c78128",
   "metadata": {},
   "source": [
    "## Visualization of CFD inputs to mix of raceway and shaft outputs, and feature ranking\n",
    "\n",
    "most inputs\n",
    "\n",
    "outputs:\n",
    "\n",
    "(13, 'o_raceway_flame_temp_k')\n",
    "\n",
    "(19, 'o_shaft_top_gas_temp_c')\n",
    "\n",
    "(20, 'o_shaft_press_drop_pa')\n",
    "\n"
   ]
  },
  {
   "cell_type": "code",
   "execution_count": 1,
   "id": "c849ca4d",
   "metadata": {},
   "outputs": [],
   "source": [
    "#######################################################\n",
    "##\n",
    "## Visualization of regression models for system control\n",
    "##\n",
    "#######################################################\n",
    "\n",
    "import torch\n",
    "import numpy as np\n",
    "import pandas as pd\n",
    "import sklearn\n",
    "import torch.nn as nn\n",
    "import torch.nn.functional as F\n",
    "import matplotlib.pyplot as plt\n",
    "import yellowbrick\n",
    "\n",
    "from torch.utils.data import TensorDataset, DataLoader\n",
    "from sklearn.model_selection import train_test_split\n",
    "from mlxtend.plotting import heatmap\n",
    "\n",
    "## coefficient of determination (R**2)\n",
    "from sklearn.metrics import r2_score\n",
    "\n",
    "\n",
    "#######################################################\n",
    "\n",
    "np.set_printoptions(suppress=True)\n",
    "torch.set_printoptions(sci_mode=False)\n",
    "\n",
    "#######################################################"
   ]
  },
  {
   "cell_type": "code",
   "execution_count": 2,
   "id": "f9997559",
   "metadata": {},
   "outputs": [],
   "source": [
    "CFD_raw_data = pd.read_csv('CFD.6.2022.csv') "
   ]
  },
  {
   "cell_type": "code",
   "execution_count": 3,
   "id": "9aa61fa2",
   "metadata": {},
   "outputs": [
    {
     "name": "stdout",
     "output_type": "stream",
     "text": [
      "['index', 'i_pul_coal_inj_kg_thm', 'i_nat_gas_inj_kg_thm', 'i_nat_gas_t_k', 'i_o2_vol_perce', 'i_bf_windrate_nm3_hr', 'i_hb_moist_g_nm3', 'i_hot_blast_press_pa', 'i_hot_blast_temp_k', 'i_coke_weight_kg', 'i_ore_weight_kg', 'o_tuyere_exit_velo_m_s', 'o_tuyere_t_k', 'o_raceway_flame_temp_k', 'o_raceway_coal_burn_perce', 'o_raceway_volume_m', 'o_raceway_depth _m', 'o_shaft_co_utiliz', 'o_shaft_h2_utiliz', 'o_shaft_top_gas_temp_c', 'o_shaft_press_drop_pa', 'o_shaft_coke_rate_kg_thm', 'o_shaft_cohesive_zone_tip_height_m', 'o_shaft_cohes_zone_root_height_m', 'o_shaft_co_v_perc', 'o_shaft_co2_v_perc', 'o_shaft_h2_v_perce', 'o_shaft_n2_v_perc']\n",
      "28\n",
      "o_shaft_n2_v_perc\n",
      "(0, 'index')\n",
      "(1, 'i_pul_coal_inj_kg_thm')\n",
      "(2, 'i_nat_gas_inj_kg_thm')\n",
      "(3, 'i_nat_gas_t_k')\n",
      "(4, 'i_o2_vol_perce')\n",
      "(5, 'i_bf_windrate_nm3_hr')\n",
      "(6, 'i_hb_moist_g_nm3')\n",
      "(7, 'i_hot_blast_press_pa')\n",
      "(8, 'i_hot_blast_temp_k')\n",
      "(9, 'i_coke_weight_kg')\n",
      "(10, 'i_ore_weight_kg')\n",
      "(11, 'o_tuyere_exit_velo_m_s')\n",
      "(12, 'o_tuyere_t_k')\n",
      "(13, 'o_raceway_flame_temp_k')\n",
      "(14, 'o_raceway_coal_burn_perce')\n",
      "(15, 'o_raceway_volume_m')\n",
      "(16, 'o_raceway_depth _m')\n",
      "(17, 'o_shaft_co_utiliz')\n",
      "(18, 'o_shaft_h2_utiliz')\n",
      "(19, 'o_shaft_top_gas_temp_c')\n",
      "(20, 'o_shaft_press_drop_pa')\n",
      "(21, 'o_shaft_coke_rate_kg_thm')\n",
      "(22, 'o_shaft_cohesive_zone_tip_height_m')\n",
      "(23, 'o_shaft_cohes_zone_root_height_m')\n",
      "(24, 'o_shaft_co_v_perc')\n",
      "(25, 'o_shaft_co2_v_perc')\n",
      "(26, 'o_shaft_h2_v_perce')\n",
      "(27, 'o_shaft_n2_v_perc')\n"
     ]
    }
   ],
   "source": [
    "headers_list = CFD_raw_data.columns.values.tolist()\n",
    "print(headers_list)\n",
    "print(len(headers_list))\n",
    "print(headers_list[27])\n",
    "\n",
    "for i, name in enumerate(headers_list):\n",
    "    print((i, name))"
   ]
  },
  {
   "cell_type": "code",
   "execution_count": 4,
   "id": "abd094cd",
   "metadata": {},
   "outputs": [
    {
     "name": "stdout",
     "output_type": "stream",
     "text": [
      "(56, 28)\n"
     ]
    }
   ],
   "source": [
    "CFDdata_np = CFD_raw_data.to_numpy()\n",
    "## print(CFDdata_np)\n",
    "print(CFDdata_np.shape)"
   ]
  },
  {
   "cell_type": "code",
   "execution_count": 5,
   "id": "eb95a699",
   "metadata": {},
   "outputs": [
    {
     "name": "stdout",
     "output_type": "stream",
     "text": [
      "(56, 10)\n",
      "(56, 3)\n"
     ]
    }
   ],
   "source": [
    "#######################################################\n",
    "\n",
    "input_indeces  = [1, 2, 3, 4, 5, 6, 7, 8, 9, 10]\n",
    "output_indeces = [13, 19, 20]                           \n",
    "\n",
    "#######################################################\n",
    "\n",
    "X = CFDdata_np[:, input_indeces]\n",
    "\n",
    "y = CFDdata_np[:, output_indeces]\n",
    "\n",
    "print(X.shape)\n",
    "print(y.shape)"
   ]
  },
  {
   "cell_type": "code",
   "execution_count": 6,
   "id": "a655a374",
   "metadata": {},
   "outputs": [],
   "source": [
    "from sklearn.linear_model import Ridge\n",
    "from sklearn.model_selection import train_test_split\n",
    "\n",
    "from yellowbrick.datasets import load_concrete\n",
    "from yellowbrick.regressor import ResidualsPlot"
   ]
  },
  {
   "cell_type": "markdown",
   "id": "dc33a560",
   "metadata": {},
   "source": [
    "## Residuals plot\n",
    "\n",
    "A common use of the residuals plot is to analyze the variance of the error of the regressor. If the points are randomly dispersed around the horizontal axis, a linear regression model is usually appropriate for the data; otherwise, a non-linear model is more appropriate."
   ]
  },
  {
   "cell_type": "code",
   "execution_count": 7,
   "id": "b40f681a",
   "metadata": {},
   "outputs": [
    {
     "name": "stdout",
     "output_type": "stream",
     "text": [
      "(56, 10)\n",
      "(56, 1)\n"
     ]
    },
    {
     "data": {
      "image/png": "[encoded data removed]",
      "text/plain": [
       "<Figure size 432x288 with 2 Axes>"
      ]
     },
     "metadata": {
      "needs_background": "light"
     },
     "output_type": "display_data"
    },
    {
     "data": {
      "text/plain": [
       "<AxesSubplot:title={'center':'Residuals for Ridge Model'}, xlabel='Predicted Value', ylabel='Residuals'>"
      ]
     },
     "execution_count": 7,
     "metadata": {},
     "output_type": "execute_result"
    }
   ],
   "source": [
    "###################################################\n",
    "# Load a regression dataset\n",
    "\n",
    "input_indeces  = [1, 2, 3, 4, 5, 6, 7, 8, 9, 10]\n",
    "output_indeces = [13]                           \n",
    "\n",
    "#######################################################\n",
    "\n",
    "X = CFDdata_np[:, input_indeces]\n",
    "y = CFDdata_np[:, output_indeces]\n",
    "\n",
    "###################################################\n",
    "\n",
    "print(X.shape)\n",
    "print(y.shape)\n",
    "\n",
    "# Create the train and test data\n",
    "X_train, X_test, y_train, y_test = train_test_split(X, y, test_size=0.2, random_state=42)\n",
    "\n",
    "# Instantiate the linear model and visualizer\n",
    "model = Ridge()\n",
    "visualizer = ResidualsPlot(model)\n",
    "\n",
    "visualizer.fit(X_train, y_train)  # Fit the training data to the visualizer\n",
    "visualizer.score(X_test, y_test)  # Evaluate the model on the test data\n",
    "visualizer.show()                 # Finalize and render the figure"
   ]
  },
  {
   "cell_type": "code",
   "execution_count": 8,
   "id": "6eb3dfb8",
   "metadata": {},
   "outputs": [
    {
     "name": "stdout",
     "output_type": "stream",
     "text": [
      "(56, 10)\n",
      "(56, 1)\n"
     ]
    },
    {
     "data": {
      "image/png": "[encoded data removed]",
      "text/plain": [
       "<Figure size 432x288 with 2 Axes>"
      ]
     },
     "metadata": {
      "needs_background": "light"
     },
     "output_type": "display_data"
    },
    {
     "data": {
      "text/plain": [
       "<AxesSubplot:title={'center':'Residuals for Ridge Model'}, xlabel='Predicted Value', ylabel='Residuals'>"
      ]
     },
     "execution_count": 8,
     "metadata": {},
     "output_type": "execute_result"
    }
   ],
   "source": [
    "###################################################\n",
    "# Load a regression dataset\n",
    "\n",
    "input_indeces  = [1, 2, 3, 4, 5, 6, 7, 8, 9, 10]\n",
    "output_indeces = [19]                           \n",
    "\n",
    "#######################################################\n",
    "\n",
    "X = CFDdata_np[:, input_indeces]\n",
    "y = CFDdata_np[:, output_indeces]\n",
    "\n",
    "###################################################\n",
    "\n",
    "print(X.shape)\n",
    "print(y.shape)\n",
    "\n",
    "# Create the train and test data\n",
    "X_train, X_test, y_train, y_test = train_test_split(X, y, test_size=0.2, random_state=42)\n",
    "\n",
    "# Instantiate the linear model and visualizer\n",
    "model = Ridge()\n",
    "visualizer = ResidualsPlot(model)\n",
    "\n",
    "visualizer.fit(X_train, y_train)  # Fit the training data to the visualizer\n",
    "visualizer.score(X_test, y_test)  # Evaluate the model on the test data\n",
    "visualizer.show()                 # Finalize and render the figure"
   ]
  },
  {
   "cell_type": "code",
   "execution_count": 9,
   "id": "5539c793",
   "metadata": {},
   "outputs": [
    {
     "name": "stdout",
     "output_type": "stream",
     "text": [
      "(56, 10)\n",
      "(56, 1)\n"
     ]
    },
    {
     "data": {
      "image/png": "[encoded data removed]",
      "text/plain": [
       "<Figure size 432x288 with 2 Axes>"
      ]
     },
     "metadata": {
      "needs_background": "light"
     },
     "output_type": "display_data"
    },
    {
     "data": {
      "text/plain": [
       "<AxesSubplot:title={'center':'Residuals for Ridge Model'}, xlabel='Predicted Value', ylabel='Residuals'>"
      ]
     },
     "execution_count": 9,
     "metadata": {},
     "output_type": "execute_result"
    }
   ],
   "source": [
    "###################################################\n",
    "# Load a regression dataset\n",
    "\n",
    "input_indeces  = [1, 2, 3, 4, 5, 6, 7, 8, 9, 10]\n",
    "output_indeces = [20]                           \n",
    "\n",
    "#######################################################\n",
    "\n",
    "X = CFDdata_np[:, input_indeces]\n",
    "y = CFDdata_np[:, output_indeces]\n",
    "\n",
    "###################################################\n",
    "\n",
    "print(X.shape)\n",
    "print(y.shape)\n",
    "\n",
    "# Create the train and test data\n",
    "X_train, X_test, y_train, y_test = train_test_split(X, y, test_size=0.2, random_state=42)\n",
    "\n",
    "# Instantiate the linear model and visualizer\n",
    "model = Ridge()\n",
    "visualizer = ResidualsPlot(model)\n",
    "\n",
    "visualizer.fit(X_train, y_train)  # Fit the training data to the visualizer\n",
    "visualizer.score(X_test, y_test)  # Evaluate the model on the test data\n",
    "visualizer.show()                 # Finalize and render the figure"
   ]
  },
  {
   "cell_type": "markdown",
   "id": "75f8d54d",
   "metadata": {},
   "source": [
    "## Prediction Error Plot\n",
    "\n",
    "A prediction error plot shows the actual targets from the dataset against the predicted values generated by our model. This allows us to see how much variance is in the model. Data scientists can diagnose regression models using this plot by comparing against the 45 degree line, where the prediction exactly matches the model."
   ]
  },
  {
   "cell_type": "code",
   "execution_count": 10,
   "id": "adf3c88c",
   "metadata": {},
   "outputs": [
    {
     "name": "stderr",
     "output_type": "stream",
     "text": [
      "/Users/user/opt/anaconda3/envs/py38/lib/python3.8/site-packages/sklearn/linear_model/_coordinate_descent.py:648: ConvergenceWarning: Objective did not converge. You might want to increase the number of iterations, check the scale of the features or consider increasing regularisation. Duality gap: 9.693e+03, tolerance: 3.006e+02\n",
      "  model = cd_fast.enet_coordinate_descent(\n"
     ]
    },
    {
     "data": {
      "image/png": "[encoded data removed]",
      "text/plain": [
       "<Figure size 432x288 with 1 Axes>"
      ]
     },
     "metadata": {
      "needs_background": "light"
     },
     "output_type": "display_data"
    },
    {
     "data": {
      "text/plain": [
       "<AxesSubplot:title={'center':'Prediction Error for Lasso'}, xlabel='$y$', ylabel='$\\\\hat{y}$'>"
      ]
     },
     "execution_count": 10,
     "metadata": {},
     "output_type": "execute_result"
    }
   ],
   "source": [
    "from sklearn.linear_model import Lasso\n",
    "from sklearn.model_selection import train_test_split\n",
    "\n",
    "from yellowbrick.datasets import load_concrete\n",
    "from yellowbrick.regressor import PredictionError\n",
    "\n",
    "# Load a regression dataset\n",
    "###################################################\n",
    "# Load a regression dataset\n",
    "\n",
    "input_indeces  = [1, 2, 3, 4, 5, 6, 7, 8, 9, 10]\n",
    "output_indeces = [13]                            \n",
    "\n",
    "\n",
    "X = CFDdata_np[:, input_indeces]\n",
    "y = CFDdata_np[:, output_indeces]\n",
    "\n",
    "###################################################\n",
    "\n",
    "\n",
    "# Create the train and test data\n",
    "X_train, X_test, y_train, y_test = train_test_split(X, y, test_size=0.2, random_state=42)\n",
    "\n",
    "# Instantiate the linear model and visualizer\n",
    "model = Lasso()\n",
    "visualizer = PredictionError(model)\n",
    "\n",
    "visualizer.fit(X_train, y_train)  # Fit the training data to the visualizer\n",
    "visualizer.score(X_test, y_test)  # Evaluate the model on the test data\n",
    "visualizer.show()                 # Finalize and render the figure"
   ]
  },
  {
   "cell_type": "code",
   "execution_count": 11,
   "id": "991aae39",
   "metadata": {},
   "outputs": [
    {
     "name": "stderr",
     "output_type": "stream",
     "text": [
      "/Users/user/opt/anaconda3/envs/py38/lib/python3.8/site-packages/sklearn/linear_model/_coordinate_descent.py:648: ConvergenceWarning: Objective did not converge. You might want to increase the number of iterations, check the scale of the features or consider increasing regularisation. Duality gap: 1.231e+02, tolerance: 2.997e+00\n",
      "  model = cd_fast.enet_coordinate_descent(\n"
     ]
    },
    {
     "data": {
      "image/png": "[encoded data removed]",
      "text/plain": [
       "<Figure size 432x288 with 1 Axes>"
      ]
     },
     "metadata": {
      "needs_background": "light"
     },
     "output_type": "display_data"
    },
    {
     "data": {
      "text/plain": [
       "<AxesSubplot:title={'center':'Prediction Error for Lasso'}, xlabel='$y$', ylabel='$\\\\hat{y}$'>"
      ]
     },
     "execution_count": 11,
     "metadata": {},
     "output_type": "execute_result"
    }
   ],
   "source": [
    "from sklearn.linear_model import Lasso\n",
    "from sklearn.model_selection import train_test_split\n",
    "\n",
    "from yellowbrick.datasets import load_concrete\n",
    "from yellowbrick.regressor import PredictionError\n",
    "\n",
    "# Load a regression dataset\n",
    "###################################################\n",
    "# Load a regression dataset\n",
    "\n",
    "input_indeces  = [1, 2, 3, 4, 5, 6, 7, 8, 9, 10]\n",
    "output_indeces = [19]                            \n",
    "\n",
    "\n",
    "X = CFDdata_np[:, input_indeces]\n",
    "y = CFDdata_np[:, output_indeces]\n",
    "\n",
    "###################################################\n",
    "\n",
    "\n",
    "# Create the train and test data\n",
    "X_train, X_test, y_train, y_test = train_test_split(X, y, test_size=0.2, random_state=42)\n",
    "\n",
    "# Instantiate the linear model and visualizer\n",
    "model = Lasso()\n",
    "visualizer = PredictionError(model)\n",
    "\n",
    "visualizer.fit(X_train, y_train)  # Fit the training data to the visualizer\n",
    "visualizer.score(X_test, y_test)  # Evaluate the model on the test data\n",
    "visualizer.show()                 # Finalize and render the figure"
   ]
  },
  {
   "cell_type": "code",
   "execution_count": 12,
   "id": "27231ad1",
   "metadata": {},
   "outputs": [
    {
     "name": "stderr",
     "output_type": "stream",
     "text": [
      "/Users/user/opt/anaconda3/envs/py38/lib/python3.8/site-packages/sklearn/linear_model/_coordinate_descent.py:648: ConvergenceWarning: Objective did not converge. You might want to increase the number of iterations, check the scale of the features or consider increasing regularisation. Duality gap: 1.533e+09, tolerance: 5.666e+05\n",
      "  model = cd_fast.enet_coordinate_descent(\n"
     ]
    },
    {
     "data": {
      "image/png": "[encoded data removed]",
      "text/plain": [
       "<Figure size 432x288 with 1 Axes>"
      ]
     },
     "metadata": {
      "needs_background": "light"
     },
     "output_type": "display_data"
    },
    {
     "data": {
      "text/plain": [
       "<AxesSubplot:title={'center':'Prediction Error for Lasso'}, xlabel='$y$', ylabel='$\\\\hat{y}$'>"
      ]
     },
     "execution_count": 12,
     "metadata": {},
     "output_type": "execute_result"
    }
   ],
   "source": [
    "from sklearn.linear_model import Lasso\n",
    "from sklearn.model_selection import train_test_split\n",
    "\n",
    "from yellowbrick.datasets import load_concrete\n",
    "from yellowbrick.regressor import PredictionError\n",
    "\n",
    "# Load a regression dataset\n",
    "###################################################\n",
    "# Load a regression dataset\n",
    "\n",
    "input_indeces  = [1, 2, 3, 4, 5, 6, 7, 8, 9, 10]\n",
    "output_indeces = [20]                            \n",
    "\n",
    "\n",
    "X = CFDdata_np[:, input_indeces]\n",
    "y = CFDdata_np[:, output_indeces]\n",
    "\n",
    "###################################################\n",
    "\n",
    "\n",
    "# Create the train and test data\n",
    "X_train, X_test, y_train, y_test = train_test_split(X, y, test_size=0.2, random_state=42)\n",
    "\n",
    "# Instantiate the linear model and visualizer\n",
    "model = Lasso()\n",
    "visualizer = PredictionError(model)\n",
    "\n",
    "visualizer.fit(X_train, y_train)  # Fit the training data to the visualizer\n",
    "visualizer.score(X_test, y_test)  # Evaluate the model on the test data\n",
    "visualizer.show()                 # Finalize and render the figure"
   ]
  },
  {
   "cell_type": "markdown",
   "id": "28effd92",
   "metadata": {},
   "source": [
    "## Feature Ranking"
   ]
  },
  {
   "cell_type": "code",
   "execution_count": 13,
   "id": "21963757",
   "metadata": {},
   "outputs": [
    {
     "name": "stderr",
     "output_type": "stream",
     "text": [
      "/Users/user/opt/anaconda3/envs/py38/lib/python3.8/site-packages/sklearn/linear_model/_coordinate_descent.py:648: ConvergenceWarning: Objective did not converge. You might want to increase the number of iterations, check the scale of the features or consider increasing regularisation. Duality gap: 1.476e+04, tolerance: 3.735e+02\n",
      "  model = cd_fast.enet_coordinate_descent(\n"
     ]
    },
    {
     "data": {
      "image/png": "[encoded data removed]",
      "text/plain": [
       "<Figure size 432x288 with 1 Axes>"
      ]
     },
     "metadata": {
      "needs_background": "light"
     },
     "output_type": "display_data"
    },
    {
     "data": {
      "text/plain": [
       "<AxesSubplot:title={'center':'Feature Importances of 10 Features using Lasso'}, xlabel='coefficient value'>"
      ]
     },
     "execution_count": 13,
     "metadata": {},
     "output_type": "execute_result"
    }
   ],
   "source": [
    "from sklearn.linear_model import Lasso\n",
    "from yellowbrick.model_selection import FeatureImportances\n",
    "\n",
    "# Load the regression dataset\n",
    "###################################################\n",
    "# Load a regression dataset\n",
    "\n",
    "input_indeces  = [1, 2, 3, 4, 5, 6, 7, 8, 9, 10]\n",
    "output_indeces = [13]                            \n",
    "\n",
    "\n",
    "X = CFDdata_np[:, input_indeces]\n",
    "y = CFDdata_np[:, output_indeces]\n",
    "\n",
    "###################################################\n",
    "\n",
    "# Title case the feature for better display and create the visualizer\n",
    "## labels = list(map(lambda s: s.title(), dataset.meta['features']))\n",
    "\n",
    "labels = ['i_pul_coal_inj_kg_thm','i_nat_gas_inj_kg_thm','i_nat_gas_t_k','i_o2_vol_perce','i_bf_windrate_nm3_hr',\n",
    "          'i_hb_moist_g_nm3', 'i_hot_blast_press_pa','i_hot_blast_temp_k','i_coke_weight_kg','i_ore_weight_kg']\n",
    "\n",
    "viz = FeatureImportances(Lasso(), labels=labels, relative=False)\n",
    "\n",
    "# Fit and show the feature importances\n",
    "viz.fit(X, y)\n",
    "viz.show()"
   ]
  },
  {
   "cell_type": "code",
   "execution_count": 14,
   "id": "6ba95ea0",
   "metadata": {},
   "outputs": [
    {
     "name": "stderr",
     "output_type": "stream",
     "text": [
      "/Users/user/opt/anaconda3/envs/py38/lib/python3.8/site-packages/sklearn/linear_model/_coordinate_descent.py:648: ConvergenceWarning: Objective did not converge. You might want to increase the number of iterations, check the scale of the features or consider increasing regularisation. Duality gap: 1.479e+02, tolerance: 3.880e+00\n",
      "  model = cd_fast.enet_coordinate_descent(\n"
     ]
    },
    {
     "data": {
      "image/png": "[encoded data removed]",
      "text/plain": [
       "<Figure size 432x288 with 1 Axes>"
      ]
     },
     "metadata": {
      "needs_background": "light"
     },
     "output_type": "display_data"
    },
    {
     "data": {
      "text/plain": [
       "<AxesSubplot:title={'center':'Feature Importances of 10 Features using Lasso'}, xlabel='coefficient value'>"
      ]
     },
     "execution_count": 14,
     "metadata": {},
     "output_type": "execute_result"
    }
   ],
   "source": [
    "from sklearn.linear_model import Lasso\n",
    "from yellowbrick.model_selection import FeatureImportances\n",
    "\n",
    "# Load the regression dataset\n",
    "###################################################\n",
    "# Load a regression dataset\n",
    "\n",
    "input_indeces  = [1, 2, 3, 4, 5, 6, 7, 8, 9, 10]\n",
    "output_indeces = [19]                            \n",
    "\n",
    "\n",
    "X = CFDdata_np[:, input_indeces]\n",
    "y = CFDdata_np[:, output_indeces]\n",
    "\n",
    "###################################################\n",
    "\n",
    "# Title case the feature for better display and create the visualizer\n",
    "## labels = list(map(lambda s: s.title(), dataset.meta['features']))\n",
    "\n",
    "labels = ['i_pul_coal_inj_kg_thm','i_nat_gas_inj_kg_thm','i_nat_gas_t_k','i_o2_vol_perce','i_bf_windrate_nm3_hr',\n",
    "          'i_hb_moist_g_nm3', 'i_hot_blast_press_pa','i_hot_blast_temp_k','i_coke_weight_kg','i_ore_weight_kg']\n",
    "\n",
    "viz = FeatureImportances(Lasso(), labels=labels, relative=False)\n",
    "\n",
    "# Fit and show the feature importances\n",
    "viz.fit(X, y)\n",
    "viz.show()"
   ]
  },
  {
   "cell_type": "code",
   "execution_count": 15,
   "id": "14781a47",
   "metadata": {},
   "outputs": [
    {
     "name": "stderr",
     "output_type": "stream",
     "text": [
      "/Users/user/opt/anaconda3/envs/py38/lib/python3.8/site-packages/sklearn/linear_model/_coordinate_descent.py:648: ConvergenceWarning: Objective did not converge. You might want to increase the number of iterations, check the scale of the features or consider increasing regularisation. Duality gap: 1.936e+09, tolerance: 7.508e+05\n",
      "  model = cd_fast.enet_coordinate_descent(\n"
     ]
    },
    {
     "data": {
      "image/png": "[encoded data removed]",
      "text/plain": [
       "<Figure size 432x288 with 1 Axes>"
      ]
     },
     "metadata": {
      "needs_background": "light"
     },
     "output_type": "display_data"
    },
    {
     "data": {
      "text/plain": [
       "<AxesSubplot:title={'center':'Feature Importances of 10 Features using Lasso'}, xlabel='coefficient value'>"
      ]
     },
     "execution_count": 15,
     "metadata": {},
     "output_type": "execute_result"
    }
   ],
   "source": [
    "from sklearn.linear_model import Lasso\n",
    "from yellowbrick.model_selection import FeatureImportances\n",
    "\n",
    "# Load the regression dataset\n",
    "###################################################\n",
    "# Load a regression dataset\n",
    "\n",
    "input_indeces  = [1, 2, 3, 4, 5, 6, 7, 8, 9, 10]\n",
    "output_indeces = [20]                            \n",
    "\n",
    "\n",
    "X = CFDdata_np[:, input_indeces]\n",
    "y = CFDdata_np[:, output_indeces]\n",
    "\n",
    "###################################################\n",
    "\n",
    "# Title case the feature for better display and create the visualizer\n",
    "## labels = list(map(lambda s: s.title(), dataset.meta['features']))\n",
    "\n",
    "labels = ['i_pul_coal_inj_kg_thm','i_nat_gas_inj_kg_thm','i_nat_gas_t_k','i_o2_vol_perce','i_bf_windrate_nm3_hr',\n",
    "          'i_hb_moist_g_nm3', 'i_hot_blast_press_pa','i_hot_blast_temp_k','i_coke_weight_kg','i_ore_weight_kg']\n",
    "\n",
    "viz = FeatureImportances(Lasso(), labels=labels, relative=False)\n",
    "\n",
    "# Fit and show the feature importances\n",
    "viz.fit(X, y)\n",
    "viz.show()"
   ]
  },
  {
   "cell_type": "code",
   "execution_count": null,
   "id": "87880741",
   "metadata": {},
   "outputs": [],
   "source": []
  },
  {
   "cell_type": "markdown",
   "id": "aa0e23de",
   "metadata": {},
   "source": [
    "## \"Effect Plots\" for regression model visualization\n",
    "\n",
    "Visualization of regression models with Effect Plots"
   ]
  },
  {
   "cell_type": "code",
   "execution_count": 16,
   "id": "ddc08424",
   "metadata": {},
   "outputs": [],
   "source": [
    "# Load the regression dataset\n",
    "###################################################\n",
    "# Load a regression dataset\n",
    "\n",
    "input_indeces  = [1, 2, 3, 4, 5, 6, 7, 8, 9, 10]\n",
    "output_indeces = [13, 19, 20]                           \n",
    "\n",
    "\n",
    "X = CFDdata_np[:, input_indeces]\n",
    "y = CFDdata_np[:, output_indeces]\n",
    "\n",
    "###################################################"
   ]
  },
  {
   "cell_type": "code",
   "execution_count": 17,
   "id": "e76bbd94",
   "metadata": {},
   "outputs": [
    {
     "name": "stdout",
     "output_type": "stream",
     "text": [
      "(56, 10)\n"
     ]
    }
   ],
   "source": [
    "###################################################################\n",
    "## for scaling\n",
    "\n",
    "epsilon = 0.0001\n",
    "\n",
    "x_means      =  X.mean(0)\n",
    "x_deviations =  X.std(0) + epsilon\n",
    "\n",
    "X_scaled = (X - x_means) / x_deviations\n",
    "\n",
    "print(X_scaled.shape)\n",
    "## print(X_scaled)"
   ]
  },
  {
   "cell_type": "code",
   "execution_count": 18,
   "id": "42770fcb",
   "metadata": {},
   "outputs": [
    {
     "name": "stdout",
     "output_type": "stream",
     "text": [
      "(56, 3)\n"
     ]
    }
   ],
   "source": [
    "###################################################################\n",
    "\n",
    "\n",
    "y_means      = y.mean(0)\n",
    "y_deviations = y.std(0) + epsilon\n",
    "\n",
    "y_scaled = (y - y_means) / y_deviations\n",
    "\n",
    "print(y.shape)\n",
    "\n",
    "\n",
    "####################################################################"
   ]
  },
  {
   "cell_type": "markdown",
   "id": "10944afd",
   "metadata": {},
   "source": [
    "## Apply the Analytical Solution\n",
    "    \n",
    "Solve linear regression with analytical solution\n",
    "    \n",
    "$ \\large \\theta = (X^{T} X)^{-1} X^{T} y $\n",
    "    \n",
    "and then calculate y_pred\n",
    " \n",
    "$  \\large  \\hat{y} = X * \\theta  $\n",
    " "
   ]
  },
  {
   "cell_type": "code",
   "execution_count": 19,
   "id": "a9c25d38",
   "metadata": {},
   "outputs": [
    {
     "name": "stdout",
     "output_type": "stream",
     "text": [
      "[[     -2.48717072       1.08747494      -9.55178606]\n",
      " [     -3.59137595       1.54369668     -11.29871936]\n",
      " [      0.03502753      -0.12453373       0.00552947]\n",
      " [      0.12695678      -0.63529041      -1.57021091]\n",
      " [ 249215.43902819   30143.77630527  477384.14907687]\n",
      " [-154987.66676184   44521.04754737 -368008.36867505]\n",
      " [ 155625.51698866  -61045.50228644  476027.97679582]\n",
      " [-191782.09013479  147847.29923019 -204596.63364547]\n",
      " [ 118305.26013565 -352926.16972797 -522786.84241655]\n",
      " [      1.90864885      -0.38212491       8.74240533]]\n"
     ]
    }
   ],
   "source": [
    "## adding the little bit of noise avoids singular error\n",
    "\n",
    "n = 1000\n",
    "X_scaled = X_scaled + 0.00001 * np.random.rand(10)\n",
    "\n",
    "\n",
    "w = np.linalg.inv(X_scaled.T @ X_scaled) @ X_scaled.T @ y_scaled\n",
    "\n",
    "print(w)\n",
    "\n",
    "y_pred = X_scaled @ w"
   ]
  },
  {
   "cell_type": "code",
   "execution_count": 20,
   "id": "826f1c0c",
   "metadata": {},
   "outputs": [
    {
     "name": "stdout",
     "output_type": "stream",
     "text": [
      "[[-0.11265417  0.15512391 -1.04917252]\n",
      " [ 0.44782827 -0.72331969 -1.05377664]\n",
      " [ 0.96138184 -1.13759257 -0.72111469]\n",
      " [ 1.46564644 -1.83944477 -0.16824245]\n",
      " [-0.09416528 -0.14917161 -1.3783911 ]\n",
      " [-0.068064   -0.39101695 -1.63527631]\n",
      " [ 0.97888724 -1.35056068 -0.76518766]\n",
      " [ 1.00278147 -1.54124687 -0.68098773]\n",
      " [-0.70492201  0.66455752 -0.77255633]\n",
      " [-0.18945179 -0.17986102 -1.12560045]\n",
      " [ 0.27914378 -0.45572382 -0.40425236]\n",
      " [ 0.74437069 -1.33825908  0.36299791]\n",
      " [-0.66643414  0.43018888 -1.71330718]\n",
      " [-0.63720815  0.21749811 -0.77568102]\n",
      " [-1.03050457  1.06406696 -0.86488321]\n",
      " [-0.54846922  0.21831872 -0.49800168]\n",
      " [-0.09532301 -0.0789598  -0.35443697]\n",
      " [ 0.35032697 -0.76210506  0.14227463]\n",
      " [-1.00268798  0.86679308 -0.68473857]\n",
      " [-0.95992928  0.70116598 -0.42561045]\n",
      " [-1.43724076  1.43428887  0.27988014]\n",
      " [-1.0322431   0.86349923  0.14866564]\n",
      " [-0.61871151  0.27602378  0.2118849 ]\n",
      " [-0.20710045 -0.53463185  1.96507051]\n",
      " [-1.42056398  1.28019215  2.93911338]\n",
      " [-1.39419166  1.2009232  -0.00775019]\n",
      " [-0.58725523  0.2293932  -0.41122203]\n",
      " [-0.5352579   0.0163719  -0.25091976]\n",
      " [-1.67681804  2.20027047  1.13202731]\n",
      " [-1.38923547  1.18085237  0.94312956]\n",
      " [-1.06401689  0.8043163  -0.12345351]\n",
      " [-0.71362631  0.30583559  0.94053861]\n",
      " [-1.65412414  2.03385316  0.73122415]\n",
      " [-1.65000818  1.78170457  2.17939415]\n",
      " [-1.03341632  0.50985674 -0.04006801]\n",
      " [-0.9894844   0.42049349 -0.17805353]\n",
      " [ 0.0338785   0.60157546 -0.8584706 ]\n",
      " [ 0.61497557 -0.2941732  -0.51334012]\n",
      " [ 1.163296   -0.71371168  0.31132567]\n",
      " [ 1.67462703 -1.39117723  1.18977101]\n",
      " [-0.127       1.02106835 -0.45562232]\n",
      " [ 0.43777651  0.15334591 -0.17934037]\n",
      " [ 0.97453122 -0.20810379  0.49234692]\n",
      " [ 1.49121725 -1.11534484  2.23039274]\n",
      " [-0.21727224  1.36837388  0.21874229]\n",
      " [ 0.31861126  0.50568909 -0.02680233]\n",
      " [ 0.84422618  0.10220196  1.02248181]\n",
      " [ 1.36090834 -0.91441618  2.53433743]\n",
      " [ 0.33227949 -0.13007716 -0.7022465 ]\n",
      " [ 0.94322208 -1.01001002 -0.09075569]\n",
      " [ 1.4923324  -1.42693469 -0.10491956]\n",
      " [ 1.99490492 -2.0496927   0.04137428]\n",
      " [ 0.13979757  0.34044951 -1.23439888]\n",
      " [ 0.73239841 -0.57639954 -0.74164281]\n",
      " [ 1.28378935 -0.96935547  0.08975601]\n",
      " [ 1.79424143 -1.66700203  0.88349446]]\n"
     ]
    }
   ],
   "source": [
    "print(y_scaled)"
   ]
  },
  {
   "cell_type": "code",
   "execution_count": 21,
   "id": "86cd419f",
   "metadata": {},
   "outputs": [
    {
     "name": "stdout",
     "output_type": "stream",
     "text": [
      "[[-0.13908639  0.07259004 -1.39599337]\n",
      " [ 0.34354427 -0.56402444 -1.09050724]\n",
      " [ 0.82617493 -1.20063893 -0.78502111]\n",
      " [ 1.30880559 -1.83725341 -0.47953498]\n",
      " [-0.09100021 -0.09837124 -1.38840246]\n",
      " [-0.04291403 -0.26933253 -1.38081154]\n",
      " [ 0.87426111 -1.37160021 -0.77743019]\n",
      " [ 0.92234729 -1.54256149 -0.76983928]\n",
      " [-0.66981309  0.65180411 -0.87264792]\n",
      " [-0.18718243  0.01518963 -0.56716179]\n",
      " [ 0.29544824 -0.62142485 -0.26167566]\n",
      " [ 0.7780789  -1.25803934  0.04381047]\n",
      " [-0.62172691  0.48084283 -0.865057  ]\n",
      " [-0.57364073  0.30988154 -0.85746609]\n",
      " [-1.00048595  1.01268556 -0.54658526]\n",
      " [-0.51785529  0.37607108 -0.24109913]\n",
      " [-0.03522462 -0.26054341  0.06438701]\n",
      " [ 0.44740604 -0.89715789  0.36987314]\n",
      " [-0.95239977  0.84172427 -0.53899434]\n",
      " [-0.90431359  0.67076299 -0.53140342]\n",
      " [-1.49649524  1.55400773 -0.05749126]\n",
      " [-1.01386458  0.91739325  0.24799487]\n",
      " [-0.53123391  0.28077876  0.553481  ]\n",
      " [-0.04860325 -0.35583572  0.85896713]\n",
      " [-1.44840906  1.38304644 -0.04990034]\n",
      " [-1.40032288  1.21208516 -0.04230942]\n",
      " [-0.48314773  0.10981748  0.56107192]\n",
      " [-0.43506155 -0.06114381  0.56866284]\n",
      " [-1.99250453  2.0953299   0.43160274]\n",
      " [-1.50987387  1.45871542  0.73708887]\n",
      " [-1.0272432   0.82210093  1.042575  ]\n",
      " [-0.54461254  0.18548645  1.34806113]\n",
      " [-1.94441835  1.92436862  0.43919366]\n",
      " [-1.89633217  1.75340733  0.44678457]\n",
      " [-0.97915702  0.65113965  1.05016592]\n",
      " [-0.93107084  0.48017837  1.05775684]\n",
      " [ 0.15484508  0.49576709 -0.28952141]\n",
      " [ 0.63747574 -0.14084739  0.01596472]\n",
      " [ 1.1201064  -0.77746187  0.32145085]\n",
      " [ 1.60273706 -1.41407636  0.62693698]\n",
      " [-0.03120169  0.92606999  0.08541835]\n",
      " [ 0.45142898  0.28945551  0.39090448]\n",
      " [ 0.93405964 -0.34715897  0.69639061]\n",
      " [ 1.4166903  -0.98377345  1.00187674]\n",
      " [-0.17347274  1.25512516  0.37213699]\n",
      " [ 0.30915793  0.61851067  0.67762312]\n",
      " [ 0.79178859 -0.01810381  0.98310925]\n",
      " [ 1.27441925 -0.65471829  1.28859538]\n",
      " [ 0.43938718 -0.16234323 -0.86295869]\n",
      " [ 0.92201784 -0.79895771 -0.55747256]\n",
      " [ 1.40464851 -1.4355722  -0.25198643]\n",
      " [ 1.88727917 -2.07218668  0.05349971]\n",
      " [ 0.26428435  0.24264774 -0.51007421]\n",
      " [ 0.74691501 -0.39396675 -0.20458808]\n",
      " [ 1.22954567 -1.03058123  0.10089805]\n",
      " [ 1.71217633 -1.66719571  0.40638418]]\n"
     ]
    }
   ],
   "source": [
    "print(y_pred)"
   ]
  },
  {
   "cell_type": "markdown",
   "id": "5961ec61",
   "metadata": {},
   "source": [
    "## Visualize with Effect Plot"
   ]
  },
  {
   "cell_type": "code",
   "execution_count": 22,
   "id": "a155a150",
   "metadata": {},
   "outputs": [
    {
     "data": {
      "text/plain": [
       "[<matplotlib.lines.Line2D at 0x7fdf5d0e9970>]"
      ]
     },
     "execution_count": 22,
     "metadata": {},
     "output_type": "execute_result"
    },
    {
     "data": {
      "image/png": "[encoded data removed]",
      "text/plain": [
       "<Figure size 432x288 with 1 Axes>"
      ]
     },
     "metadata": {
      "needs_background": "light"
     },
     "output_type": "display_data"
    }
   ],
   "source": [
    "plt.xlabel(\"y_real\")\n",
    "plt.ylabel(\"y_pred\")\n",
    "\n",
    "plt.plot(y_scaled[0], y_pred[0]) # plot first line\n",
    "plt.plot(y_scaled[1], y_pred[1]) # plot first line\n",
    "plt.plot(y_scaled[2], y_pred[2]) # plot first line"
   ]
  },
  {
   "cell_type": "code",
   "execution_count": 23,
   "id": "47973895",
   "metadata": {},
   "outputs": [
    {
     "name": "stdout",
     "output_type": "stream",
     "text": [
      "(56, 3)\n"
     ]
    }
   ],
   "source": [
    "print(y_pred.shape)"
   ]
  },
  {
   "cell_type": "code",
   "execution_count": null,
   "id": "e2807f9d",
   "metadata": {},
   "outputs": [],
   "source": []
  }
 ],
 "metadata": {
  "kernelspec": {
   "display_name": "Python 3 (ipykernel)",
   "language": "python",
   "name": "python3"
  },
  "language_info": {
   "codemirror_mode": {
    "name": "ipython",
    "version": 3
   },
   "file_extension": ".py",
   "mimetype": "text/x-python",
   "name": "python",
   "nbconvert_exporter": "python",
   "pygments_lexer": "ipython3",
   "version": "3.8.13"
  }
 },
 "nbformat": 4,
 "nbformat_minor": 5
}
