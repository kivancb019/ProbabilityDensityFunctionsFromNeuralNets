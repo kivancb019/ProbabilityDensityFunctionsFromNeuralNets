{
 "cells": [
  {
   "cell_type": "markdown",
   "id": "07597f47",
   "metadata": {},
   "source": [
    "\n",
    "\n",
    "## Visualization of REAL inputs to tuyere outputs, and feature ranking\n",
    "\n",
    "REAL data\n",
    "\n",
    "Most inputs\n",
    "\n",
    "Outputs:\n",
    "\n",
    "NO DATA!"
   ]
  },
  {
   "cell_type": "code",
   "execution_count": 1,
   "id": "76c2138a",
   "metadata": {},
   "outputs": [],
   "source": [
    "#######################################################\n",
    "##\n",
    "## Visualization of regression models for system control\n",
    "##\n",
    "#######################################################\n",
    "\n",
    "import torch\n",
    "import numpy as np\n",
    "import pandas as pd\n",
    "import sklearn\n",
    "import torch.nn as nn\n",
    "import torch.nn.functional as F\n",
    "import matplotlib.pyplot as plt\n",
    "import yellowbrick\n",
    "\n",
    "from torch.utils.data import TensorDataset, DataLoader\n",
    "from sklearn.model_selection import train_test_split\n",
    "from mlxtend.plotting import heatmap\n",
    "\n",
    "## coefficient of determination (R**2)\n",
    "from sklearn.metrics import r2_score\n",
    "\n",
    "\n",
    "#######################################################\n",
    "\n",
    "np.set_printoptions(suppress=True)\n",
    "torch.set_printoptions(sci_mode=False)\n",
    "\n",
    "#######################################################"
   ]
  },
  {
   "cell_type": "code",
   "execution_count": 2,
   "id": "996ff707",
   "metadata": {},
   "outputs": [],
   "source": [
    "REAL_raw_data = pd.read_csv('REAL.6.2022.csv') "
   ]
  },
  {
   "cell_type": "code",
   "execution_count": 3,
   "id": "d27f9478",
   "metadata": {},
   "outputs": [
    {
     "name": "stdout",
     "output_type": "stream",
     "text": [
      "['time', 'i_pul_coal_inj_kg_thm', 'i_nat_gas_inj_kg_thm', 'i_nat_gas_t_k', 'i_o2_vol_perce', 'i_bf_windrate_nm3_hr', 'i_hb_moist_g_nm3', 'i_hot_blast_press_pa', 'i_hot_blast_temp_k', 'o_tuyere_exit_velocity_m_s', 'o_tuyere_t_k', 'o_raceway_flame_temp_k', 'o_raceway_coal_burn_perce', 'o_raceway_vol_m', 'o_raceway_depth_m', 'o_shaft_co_utiliz', 'o_shaft_h2_utiliz', 'o_shaft_top_gas_temp_c', 'o_shaft_press_drop_pa', 'o_shaft_coke_rate_kg_thm', 'o_shaft_cohesive_zone_tip_height_m', 'o_shaft_cohes_zone_root_height_m', 'o_shaft_co_v_perce', 'o_shaft_co2_v_perce', 'o_shaft_h2_v_perce', 'o_shaft_n2_v_perce']\n",
      "26\n",
      "(0, 'time')\n",
      "(1, 'i_pul_coal_inj_kg_thm')\n",
      "(2, 'i_nat_gas_inj_kg_thm')\n",
      "(3, 'i_nat_gas_t_k')\n",
      "(4, 'i_o2_vol_perce')\n",
      "(5, 'i_bf_windrate_nm3_hr')\n",
      "(6, 'i_hb_moist_g_nm3')\n",
      "(7, 'i_hot_blast_press_pa')\n",
      "(8, 'i_hot_blast_temp_k')\n",
      "(9, 'o_tuyere_exit_velocity_m_s')\n",
      "(10, 'o_tuyere_t_k')\n",
      "(11, 'o_raceway_flame_temp_k')\n",
      "(12, 'o_raceway_coal_burn_perce')\n",
      "(13, 'o_raceway_vol_m')\n",
      "(14, 'o_raceway_depth_m')\n",
      "(15, 'o_shaft_co_utiliz')\n",
      "(16, 'o_shaft_h2_utiliz')\n",
      "(17, 'o_shaft_top_gas_temp_c')\n",
      "(18, 'o_shaft_press_drop_pa')\n",
      "(19, 'o_shaft_coke_rate_kg_thm')\n",
      "(20, 'o_shaft_cohesive_zone_tip_height_m')\n",
      "(21, 'o_shaft_cohes_zone_root_height_m')\n",
      "(22, 'o_shaft_co_v_perce')\n",
      "(23, 'o_shaft_co2_v_perce')\n",
      "(24, 'o_shaft_h2_v_perce')\n",
      "(25, 'o_shaft_n2_v_perce')\n"
     ]
    }
   ],
   "source": [
    "headers_list = REAL_raw_data.columns.values.tolist()\n",
    "print(headers_list)\n",
    "print(len(headers_list))\n",
    "\n",
    "\n",
    "for i, name in enumerate(headers_list):\n",
    "    print((i, name))"
   ]
  },
  {
   "cell_type": "code",
   "execution_count": 4,
   "id": "cbf6be5f",
   "metadata": {},
   "outputs": [
    {
     "name": "stdout",
     "output_type": "stream",
     "text": [
      "(128281, 26)\n"
     ]
    }
   ],
   "source": [
    "REALdata_np = REAL_raw_data.to_numpy()\n",
    "\n",
    "print(REALdata_np.shape)"
   ]
  },
  {
   "cell_type": "code",
   "execution_count": 5,
   "id": "1f02b6a7",
   "metadata": {},
   "outputs": [
    {
     "name": "stdout",
     "output_type": "stream",
     "text": [
      "(128281, 9)\n",
      "(128281, 2)\n"
     ]
    }
   ],
   "source": [
    "#######################################################\n",
    "\n",
    "input_indeces  = [0, 1, 2, 3, 4, 5, 6, 7, 8]\n",
    "output_indeces = [9, 10]                           \n",
    "\n",
    "#######################################################\n",
    "\n",
    "X = REALdata_np[:, input_indeces]\n",
    "\n",
    "y = REALdata_np[:, output_indeces]\n",
    "\n",
    "print(X.shape)\n",
    "print(y.shape)"
   ]
  },
  {
   "cell_type": "code",
   "execution_count": 6,
   "id": "ab97701b",
   "metadata": {},
   "outputs": [],
   "source": [
    "from sklearn.linear_model import Ridge\n",
    "from sklearn.model_selection import train_test_split\n",
    "\n",
    "from yellowbrick.datasets import load_concrete\n",
    "from yellowbrick.regressor import ResidualsPlot"
   ]
  },
  {
   "cell_type": "markdown",
   "id": "e6b4f0d7",
   "metadata": {},
   "source": [
    "## Residuals plot\n",
    "\n",
    "A common use of the residuals plot is to analyze the variance of the error of the regressor. If the points are randomly dispersed around the horizontal axis, a linear regression model is usually appropriate for the data; otherwise, a non-linear model is more appropriate."
   ]
  },
  {
   "cell_type": "code",
   "execution_count": 7,
   "id": "dcf25bdd",
   "metadata": {},
   "outputs": [
    {
     "name": "stdout",
     "output_type": "stream",
     "text": [
      "(128281, 9)\n",
      "(128281, 1)\n"
     ]
    },
    {
     "data": {
      "image/png": "[encoded data removed]",
      "text/plain": [
       "<Figure size 432x288 with 2 Axes>"
      ]
     },
     "metadata": {
      "needs_background": "light"
     },
     "output_type": "display_data"
    },
    {
     "data": {
      "text/plain": [
       "<AxesSubplot:title={'center':'Residuals for Ridge Model'}, xlabel='Predicted Value', ylabel='Residuals'>"
      ]
     },
     "execution_count": 7,
     "metadata": {},
     "output_type": "execute_result"
    }
   ],
   "source": [
    "###################################################\n",
    "# Load a regression dataset\n",
    "\n",
    "input_indeces  = [0, 1, 2, 3, 4, 5, 6, 7, 8]\n",
    "output_indeces = [9]                           \n",
    "\n",
    "#######################################################\n",
    "\n",
    "X = REALdata_np[:, input_indeces]\n",
    "y = REALdata_np[:, output_indeces]\n",
    "\n",
    "###################################################\n",
    "\n",
    "print(X.shape)\n",
    "print(y.shape)\n",
    "\n",
    "# Create the train and test data\n",
    "X_train, X_test, y_train, y_test = train_test_split(X, y, test_size=0.2, random_state=42)\n",
    "\n",
    "# Instantiate the linear model and visualizer\n",
    "model = Ridge()\n",
    "visualizer = ResidualsPlot(model)\n",
    "\n",
    "visualizer.fit(X_train, y_train)  # Fit the training data to the visualizer\n",
    "visualizer.score(X_test, y_test)  # Evaluate the model on the test data\n",
    "visualizer.show()                 # Finalize and render the figure"
   ]
  },
  {
   "cell_type": "code",
   "execution_count": 8,
   "id": "8963f5eb",
   "metadata": {},
   "outputs": [
    {
     "name": "stdout",
     "output_type": "stream",
     "text": [
      "(128281, 9)\n",
      "(128281, 1)\n"
     ]
    },
    {
     "data": {
      "image/png": "[encoded data removed]",
      "text/plain": [
       "<Figure size 432x288 with 2 Axes>"
      ]
     },
     "metadata": {
      "needs_background": "light"
     },
     "output_type": "display_data"
    },
    {
     "data": {
      "text/plain": [
       "<AxesSubplot:title={'center':'Residuals for Ridge Model'}, xlabel='Predicted Value', ylabel='Residuals'>"
      ]
     },
     "execution_count": 8,
     "metadata": {},
     "output_type": "execute_result"
    }
   ],
   "source": [
    "###################################################\n",
    "# Load a regression dataset\n",
    "\n",
    "input_indeces  = [0, 1, 2, 3, 4, 5, 6, 7, 8]\n",
    "output_indeces = [10]                           \n",
    "\n",
    "#######################################################\n",
    "\n",
    "X = REALdata_np[:, input_indeces]\n",
    "y = REALdata_np[:, output_indeces]\n",
    "\n",
    "###################################################\n",
    "\n",
    "print(X.shape)\n",
    "print(y.shape)\n",
    "\n",
    "# Create the train and test data\n",
    "X_train, X_test, y_train, y_test = train_test_split(X, y, test_size=0.2, random_state=42)\n",
    "\n",
    "# Instantiate the linear model and visualizer\n",
    "model = Ridge()\n",
    "visualizer = ResidualsPlot(model)\n",
    "\n",
    "visualizer.fit(X_train, y_train)  # Fit the training data to the visualizer\n",
    "visualizer.score(X_test, y_test)  # Evaluate the model on the test data\n",
    "visualizer.show()                 # Finalize and render the figure"
   ]
  },
  {
   "cell_type": "code",
   "execution_count": null,
   "id": "0c4ccbaa",
   "metadata": {},
   "outputs": [],
   "source": []
  }
 ],
 "metadata": {
  "kernelspec": {
   "display_name": "Python 3 (ipykernel)",
   "language": "python",
   "name": "python3"
  },
  "language_info": {
   "codemirror_mode": {
    "name": "ipython",
    "version": 3
   },
   "file_extension": ".py",
   "mimetype": "text/x-python",
   "name": "python",
   "nbconvert_exporter": "python",
   "pygments_lexer": "ipython3",
   "version": "3.8.13"
  }
 },
 "nbformat": 4,
 "nbformat_minor": 5
}
