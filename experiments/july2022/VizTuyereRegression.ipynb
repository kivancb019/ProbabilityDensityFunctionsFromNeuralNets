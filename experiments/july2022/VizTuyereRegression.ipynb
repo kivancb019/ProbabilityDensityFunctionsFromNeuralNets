{
 "cells": [
  {
   "cell_type": "markdown",
   "id": "335c74ea",
   "metadata": {},
   "source": [
    "## Visualization of regression models and feature ranking\n",
    "\n",
    "Use of yellowbrick to visualize regression models\n",
    "\n"
   ]
  },
  {
   "cell_type": "code",
   "execution_count": 1,
   "id": "6a62847b",
   "metadata": {},
   "outputs": [],
   "source": [
    "#######################################################\n",
    "##\n",
    "## Visualization of regression models for system control\n",
    "##\n",
    "#######################################################\n",
    "\n",
    "import torch\n",
    "import numpy as np\n",
    "import pandas as pd\n",
    "import sklearn\n",
    "import torch.nn as nn\n",
    "import torch.nn.functional as F\n",
    "import matplotlib.pyplot as plt\n",
    "import yellowbrick\n",
    "\n",
    "from torch.utils.data import TensorDataset, DataLoader\n",
    "from sklearn.model_selection import train_test_split\n",
    "from mlxtend.plotting import heatmap\n",
    "\n",
    "## coefficient of determination (R**2)\n",
    "from sklearn.metrics import r2_score\n",
    "\n",
    "\n",
    "#######################################################\n",
    "\n",
    "np.set_printoptions(suppress=True)\n",
    "torch.set_printoptions(sci_mode=False)\n",
    "\n",
    "#######################################################"
   ]
  },
  {
   "cell_type": "code",
   "execution_count": 2,
   "id": "17e6d243",
   "metadata": {},
   "outputs": [],
   "source": [
    "CFD_raw_data = pd.read_csv('CFD.6.2022.csv') "
   ]
  },
  {
   "cell_type": "code",
   "execution_count": 3,
   "id": "2c7b3fb8",
   "metadata": {},
   "outputs": [
    {
     "name": "stdout",
     "output_type": "stream",
     "text": [
      "['index', 'i_pul_coal_inj_kg_thm', 'i_nat_gas_inj_kg_thm', 'i_nat_gas_t_k', 'i_o2_vol_perce', 'i_bf_windrate_nm3_hr', 'i_hb_moist_g_nm3', 'i_hot_blast_press_pa', 'i_hot_blast_temp_k', 'i_coke_weight_kg', 'i_ore_weight_kg', 'o_tuyere_exit_velo_m_s', 'o_tuyere_t_k', 'o_raceway_flame_temp_k', 'o_raceway_coal_burn_perce', 'o_raceway_volume_m', 'o_raceway_depth _m', 'o_shaft_co_utiliz', 'o_shaft_h2_utiliz', 'o_shaft_top_gas_temp_c', 'o_shaft_press_drop_pa', 'o_shaft_coke_rate_kg_thm', 'o_shaft_cohesive_zone_tip_height_m', 'o_shaft_cohes_zone_root_height_m', 'o_shaft_co_v_perc', 'o_shaft_co2_v_perc', 'o_shaft_h2_v_perce', 'o_shaft_n2_v_perc']\n",
      "28\n",
      "o_shaft_n2_v_perc\n",
      "(0, 'index')\n",
      "(1, 'i_pul_coal_inj_kg_thm')\n",
      "(2, 'i_nat_gas_inj_kg_thm')\n",
      "(3, 'i_nat_gas_t_k')\n",
      "(4, 'i_o2_vol_perce')\n",
      "(5, 'i_bf_windrate_nm3_hr')\n",
      "(6, 'i_hb_moist_g_nm3')\n",
      "(7, 'i_hot_blast_press_pa')\n",
      "(8, 'i_hot_blast_temp_k')\n",
      "(9, 'i_coke_weight_kg')\n",
      "(10, 'i_ore_weight_kg')\n",
      "(11, 'o_tuyere_exit_velo_m_s')\n",
      "(12, 'o_tuyere_t_k')\n",
      "(13, 'o_raceway_flame_temp_k')\n",
      "(14, 'o_raceway_coal_burn_perce')\n",
      "(15, 'o_raceway_volume_m')\n",
      "(16, 'o_raceway_depth _m')\n",
      "(17, 'o_shaft_co_utiliz')\n",
      "(18, 'o_shaft_h2_utiliz')\n",
      "(19, 'o_shaft_top_gas_temp_c')\n",
      "(20, 'o_shaft_press_drop_pa')\n",
      "(21, 'o_shaft_coke_rate_kg_thm')\n",
      "(22, 'o_shaft_cohesive_zone_tip_height_m')\n",
      "(23, 'o_shaft_cohes_zone_root_height_m')\n",
      "(24, 'o_shaft_co_v_perc')\n",
      "(25, 'o_shaft_co2_v_perc')\n",
      "(26, 'o_shaft_h2_v_perce')\n",
      "(27, 'o_shaft_n2_v_perc')\n"
     ]
    }
   ],
   "source": [
    "headers_list = CFD_raw_data.columns.values.tolist()\n",
    "print(headers_list)\n",
    "print(len(headers_list))\n",
    "print(headers_list[27])\n",
    "\n",
    "for i, name in enumerate(headers_list):\n",
    "    print((i, name))"
   ]
  },
  {
   "cell_type": "code",
   "execution_count": 4,
   "id": "fd48e092",
   "metadata": {},
   "outputs": [
    {
     "name": "stdout",
     "output_type": "stream",
     "text": [
      "(56, 28)\n"
     ]
    }
   ],
   "source": [
    "CFDdata_np = CFD_raw_data.to_numpy()\n",
    "## print(CFDdata_np)\n",
    "print(CFDdata_np.shape)"
   ]
  },
  {
   "cell_type": "code",
   "execution_count": 5,
   "id": "33b053cf",
   "metadata": {},
   "outputs": [
    {
     "name": "stdout",
     "output_type": "stream",
     "text": [
      "(56, 10)\n",
      "(56, 2)\n"
     ]
    }
   ],
   "source": [
    "#######################################################\n",
    "\n",
    "input_indeces  = [1, 2, 3, 4, 5, 6, 7, 8, 9, 10]\n",
    "output_indeces = [11, 12 ]                            ## tuyere\n",
    "\n",
    "#######################################################\n",
    "\n",
    "X = CFDdata_np[:, input_indeces]\n",
    "\n",
    "y = CFDdata_np[:, output_indeces]\n",
    "\n",
    "print(X.shape)\n",
    "print(y.shape)\n",
    "\n"
   ]
  },
  {
   "cell_type": "markdown",
   "id": "ade5e782",
   "metadata": {},
   "source": [
    "## Regression Visualizers"
   ]
  },
  {
   "cell_type": "code",
   "execution_count": 6,
   "id": "10993c77",
   "metadata": {},
   "outputs": [],
   "source": [
    "from sklearn.linear_model import Ridge\n",
    "from sklearn.model_selection import train_test_split\n",
    "\n",
    "from yellowbrick.datasets import load_concrete\n",
    "from yellowbrick.regressor import ResidualsPlot\n",
    "\n"
   ]
  },
  {
   "cell_type": "markdown",
   "id": "249faa82",
   "metadata": {},
   "source": [
    "## Residuals plot\n",
    "\n",
    "\n",
    "A common use of the residuals plot is to analyze the variance of the error of the regressor. If the points are randomly dispersed around the horizontal axis, a linear regression model is usually appropriate for the data; otherwise, a non-linear model is more appropriate.\n"
   ]
  },
  {
   "cell_type": "code",
   "execution_count": 7,
   "id": "26f5fb33",
   "metadata": {},
   "outputs": [
    {
     "name": "stdout",
     "output_type": "stream",
     "text": [
      "(56, 10)\n",
      "(56, 1)\n"
     ]
    },
    {
     "data": {
      "image/png": "[encoded data removed]",
      "text/plain": [
       "<Figure size 432x288 with 2 Axes>"
      ]
     },
     "metadata": {
      "needs_background": "light"
     },
     "output_type": "display_data"
    },
    {
     "data": {
      "text/plain": [
       "<AxesSubplot:title={'center':'Residuals for Ridge Model'}, xlabel='Predicted Value', ylabel='Residuals'>"
      ]
     },
     "execution_count": 7,
     "metadata": {},
     "output_type": "execute_result"
    }
   ],
   "source": [
    "###################################################\n",
    "# Load a regression dataset\n",
    "\n",
    "input_indeces  = [1, 2, 3, 4, 5, 6, 7, 8, 9, 10]\n",
    "output_indeces = [11]                            ## tuyere\n",
    "\n",
    "#######################################################\n",
    "\n",
    "X = CFDdata_np[:, input_indeces]\n",
    "y = CFDdata_np[:, output_indeces]\n",
    "\n",
    "###################################################\n",
    "\n",
    "print(X.shape)\n",
    "print(y.shape)\n",
    "\n",
    "# Create the train and test data\n",
    "X_train, X_test, y_train, y_test = train_test_split(X, y, test_size=0.2, random_state=42)\n",
    "\n",
    "# Instantiate the linear model and visualizer\n",
    "model = Ridge()\n",
    "visualizer = ResidualsPlot(model)\n",
    "\n",
    "visualizer.fit(X_train, y_train)  # Fit the training data to the visualizer\n",
    "visualizer.score(X_test, y_test)  # Evaluate the model on the test data\n",
    "visualizer.show()                 # Finalize and render the figure"
   ]
  },
  {
   "cell_type": "code",
   "execution_count": 8,
   "id": "bdd1e2e0",
   "metadata": {},
   "outputs": [
    {
     "name": "stdout",
     "output_type": "stream",
     "text": [
      "(56, 10)\n",
      "(56, 1)\n"
     ]
    },
    {
     "data": {
      "image/png": "[encoded data removed]",
      "text/plain": [
       "<Figure size 432x288 with 2 Axes>"
      ]
     },
     "metadata": {
      "needs_background": "light"
     },
     "output_type": "display_data"
    },
    {
     "data": {
      "text/plain": [
       "<AxesSubplot:title={'center':'Residuals for Ridge Model'}, xlabel='Predicted Value', ylabel='Residuals'>"
      ]
     },
     "execution_count": 8,
     "metadata": {},
     "output_type": "execute_result"
    }
   ],
   "source": [
    "###################################################\n",
    "# Load a regression dataset\n",
    "\n",
    "input_indeces  = [1, 2, 3, 4, 5, 6, 7, 8, 9, 10]\n",
    "output_indeces = [12]                            ## tuyere\n",
    "\n",
    "#######################################################\n",
    "\n",
    "X = CFDdata_np[:, input_indeces]\n",
    "y = CFDdata_np[:, output_indeces]\n",
    "\n",
    "###################################################\n",
    "\n",
    "print(X.shape)\n",
    "print(y.shape)\n",
    "\n",
    "# Create the train and test data\n",
    "X_train, X_test, y_train, y_test = train_test_split(X, y, test_size=0.2, random_state=42)\n",
    "\n",
    "# Instantiate the linear model and visualizer\n",
    "model = Ridge()\n",
    "visualizer = ResidualsPlot(model)\n",
    "\n",
    "visualizer.fit(X_train, y_train)  # Fit the training data to the visualizer\n",
    "visualizer.score(X_test, y_test)  # Evaluate the model on the test data\n",
    "visualizer.show()                 # Finalize and render the figure"
   ]
  },
  {
   "cell_type": "markdown",
   "id": "004c7ed2",
   "metadata": {},
   "source": [
    "## Prediction Error Plot\n",
    "\n",
    "A prediction error plot shows the actual targets from the dataset against the predicted values generated by our model. This allows us to see how much variance is in the model. Data scientists can diagnose regression models using this plot by comparing against the 45 degree line, where the prediction exactly matches the model."
   ]
  },
  {
   "cell_type": "code",
   "execution_count": 9,
   "id": "ccbbebb6",
   "metadata": {},
   "outputs": [
    {
     "data": {
      "image/png": "[encoded data removed]",
      "text/plain": [
       "<Figure size 432x288 with 1 Axes>"
      ]
     },
     "metadata": {
      "needs_background": "light"
     },
     "output_type": "display_data"
    },
    {
     "data": {
      "text/plain": [
       "<AxesSubplot:title={'center':'Prediction Error for Lasso'}, xlabel='$y$', ylabel='$\\\\hat{y}$'>"
      ]
     },
     "execution_count": 9,
     "metadata": {},
     "output_type": "execute_result"
    }
   ],
   "source": [
    "from sklearn.linear_model import Lasso\n",
    "from sklearn.model_selection import train_test_split\n",
    "\n",
    "from yellowbrick.datasets import load_concrete\n",
    "from yellowbrick.regressor import PredictionError\n",
    "\n",
    "# Load a regression dataset\n",
    "###################################################\n",
    "# Load a regression dataset\n",
    "\n",
    "input_indeces  = [1, 2, 3, 4, 5, 6, 7, 8, 9, 10]\n",
    "output_indeces = [11]                            ## tuyere\n",
    "\n",
    "\n",
    "X = CFDdata_np[:, input_indeces]\n",
    "y = CFDdata_np[:, output_indeces]\n",
    "\n",
    "###################################################\n",
    "\n",
    "\n",
    "# Create the train and test data\n",
    "X_train, X_test, y_train, y_test = train_test_split(X, y, test_size=0.2, random_state=42)\n",
    "\n",
    "# Instantiate the linear model and visualizer\n",
    "model = Lasso()\n",
    "visualizer = PredictionError(model)\n",
    "\n",
    "visualizer.fit(X_train, y_train)  # Fit the training data to the visualizer\n",
    "visualizer.score(X_test, y_test)  # Evaluate the model on the test data\n",
    "visualizer.show()                 # Finalize and render the figure"
   ]
  },
  {
   "cell_type": "code",
   "execution_count": 10,
   "id": "f73b7fb5",
   "metadata": {},
   "outputs": [
    {
     "data": {
      "image/png": "[encoded data removed]",
      "text/plain": [
       "<Figure size 432x288 with 1 Axes>"
      ]
     },
     "metadata": {
      "needs_background": "light"
     },
     "output_type": "display_data"
    },
    {
     "data": {
      "text/plain": [
       "<AxesSubplot:title={'center':'Prediction Error for Lasso'}, xlabel='$y$', ylabel='$\\\\hat{y}$'>"
      ]
     },
     "execution_count": 10,
     "metadata": {},
     "output_type": "execute_result"
    }
   ],
   "source": [
    "from sklearn.linear_model import Lasso\n",
    "from sklearn.model_selection import train_test_split\n",
    "\n",
    "from yellowbrick.datasets import load_concrete\n",
    "from yellowbrick.regressor import PredictionError\n",
    "\n",
    "# Load a regression dataset\n",
    "###################################################\n",
    "# Load a regression dataset\n",
    "\n",
    "input_indeces  = [1, 2, 3, 4, 5, 6, 7, 8, 9, 10]\n",
    "output_indeces = [12]                            ## tuyere\n",
    "\n",
    "\n",
    "X = CFDdata_np[:, input_indeces]\n",
    "y = CFDdata_np[:, output_indeces]\n",
    "\n",
    "###################################################\n",
    "\n",
    "\n",
    "# Create the train and test data\n",
    "X_train, X_test, y_train, y_test = train_test_split(X, y, test_size=0.2, random_state=42)\n",
    "\n",
    "# Instantiate the linear model and visualizer\n",
    "model = Lasso()\n",
    "visualizer = PredictionError(model)\n",
    "\n",
    "visualizer.fit(X_train, y_train)  # Fit the training data to the visualizer\n",
    "visualizer.score(X_test, y_test)  # Evaluate the model on the test data\n",
    "visualizer.show()                 # Finalize and render the figure"
   ]
  },
  {
   "cell_type": "markdown",
   "id": "58382837",
   "metadata": {},
   "source": [
    "               \n",
    "## Feature Ranking\n"
   ]
  },
  {
   "cell_type": "code",
   "execution_count": 11,
   "id": "19159bf8",
   "metadata": {},
   "outputs": [
    {
     "data": {
      "image/png": "[encoded data removed]",
      "text/plain": [
       "<Figure size 432x288 with 1 Axes>"
      ]
     },
     "metadata": {
      "needs_background": "light"
     },
     "output_type": "display_data"
    },
    {
     "data": {
      "text/plain": [
       "<AxesSubplot:title={'center':'Feature Importances of 10 Features using Lasso'}, xlabel='coefficient value'>"
      ]
     },
     "execution_count": 11,
     "metadata": {},
     "output_type": "execute_result"
    }
   ],
   "source": [
    "from sklearn.linear_model import Lasso\n",
    "from yellowbrick.model_selection import FeatureImportances\n",
    "\n",
    "# Load the regression dataset\n",
    "###################################################\n",
    "# Load a regression dataset\n",
    "\n",
    "input_indeces  = [1, 2, 3, 4, 5, 6, 7, 8, 9, 10]\n",
    "output_indeces = [11]                            ## tuyere\n",
    "\n",
    "\n",
    "X = CFDdata_np[:, input_indeces]\n",
    "y = CFDdata_np[:, output_indeces]\n",
    "\n",
    "###################################################\n",
    "\n",
    "# Title case the feature for better display and create the visualizer\n",
    "## labels = list(map(lambda s: s.title(), dataset.meta['features']))\n",
    "\n",
    "labels = ['i_pul_coal_inj_kg_thm','i_nat_gas_inj_kg_thm','i_nat_gas_t_k','i_o2_vol_perce','i_bf_windrate_nm3_hr',\n",
    "          'i_hb_moist_g_nm3', 'i_hot_blast_press_pa','i_hot_blast_temp_k','i_coke_weight_kg','i_ore_weight_kg']\n",
    "\n",
    "viz = FeatureImportances(Lasso(), labels=labels, relative=False)\n",
    "\n",
    "# Fit and show the feature importances\n",
    "viz.fit(X, y)\n",
    "viz.show()"
   ]
  },
  {
   "cell_type": "code",
   "execution_count": 12,
   "id": "773d0bc5",
   "metadata": {},
   "outputs": [
    {
     "data": {
      "image/png": "[encoded data removed]",
      "text/plain": [
       "<Figure size 432x288 with 1 Axes>"
      ]
     },
     "metadata": {
      "needs_background": "light"
     },
     "output_type": "display_data"
    },
    {
     "data": {
      "text/plain": [
       "<AxesSubplot:title={'center':'Feature Importances of 10 Features using Lasso'}, xlabel='coefficient value'>"
      ]
     },
     "execution_count": 12,
     "metadata": {},
     "output_type": "execute_result"
    }
   ],
   "source": [
    "from sklearn.linear_model import Lasso\n",
    "from yellowbrick.model_selection import FeatureImportances\n",
    "\n",
    "# Load the regression dataset\n",
    "###################################################\n",
    "# Load a regression dataset\n",
    "\n",
    "input_indeces  = [1, 2, 3, 4, 5, 6, 7, 8, 9, 10]\n",
    "output_indeces = [12]                            ## tuyere\n",
    "\n",
    "\n",
    "X = CFDdata_np[:, input_indeces]\n",
    "y = CFDdata_np[:, output_indeces]\n",
    "\n",
    "###################################################\n",
    "\n",
    "# Title case the feature for better display and create the visualizer\n",
    "## labels = list(map(lambda s: s.title(), dataset.meta['features']))\n",
    "\n",
    "labels = ['i_pul_coal_inj_kg_thm','i_nat_gas_inj_kg_thm','i_nat_gas_t_k','i_o2_vol_perce','i_bf_windrate_nm3_hr',\n",
    "          'i_hb_moist_g_nm3', 'i_hot_blast_press_pa','i_hot_blast_temp_k','i_coke_weight_kg','i_ore_weight_kg']\n",
    "\n",
    "viz = FeatureImportances(Lasso(), labels=labels, relative=False)\n",
    "\n",
    "# Fit and show the feature importances\n",
    "viz.fit(X, y)\n",
    "viz.show()"
   ]
  },
  {
   "cell_type": "markdown",
   "id": "b58dc91a",
   "metadata": {},
   "source": [
    "### \"Effect Plots\" for regression model visualization\n",
    "\n",
    "Visualization of regression models with Effect Plots"
   ]
  },
  {
   "cell_type": "code",
   "execution_count": 13,
   "id": "8c0576f3",
   "metadata": {},
   "outputs": [],
   "source": [
    "# Load the regression dataset\n",
    "###################################################\n",
    "# Load a regression dataset\n",
    "\n",
    "input_indeces  = [1, 2, 3, 4, 5, 6, 7, 8, 9, 10]\n",
    "output_indeces = [11, 12]                            ## tuyere\n",
    "\n",
    "\n",
    "X = CFDdata_np[:, input_indeces]\n",
    "y = CFDdata_np[:, output_indeces]\n",
    "\n",
    "###################################################"
   ]
  },
  {
   "cell_type": "code",
   "execution_count": 14,
   "id": "0e23edf4",
   "metadata": {},
   "outputs": [
    {
     "name": "stdout",
     "output_type": "stream",
     "text": [
      "(56, 10)\n"
     ]
    }
   ],
   "source": [
    "###################################################################\n",
    "## for scaling\n",
    "\n",
    "epsilon = 0.0001\n",
    "\n",
    "x_means      =  X.mean(0)\n",
    "x_deviations =  X.std(0) + epsilon\n",
    "\n",
    "X_scaled = (X - x_means) / x_deviations\n",
    "\n",
    "print(X_scaled.shape)\n",
    "## print(X_scaled)\n"
   ]
  },
  {
   "cell_type": "code",
   "execution_count": 15,
   "id": "1a1f4fce",
   "metadata": {},
   "outputs": [
    {
     "name": "stdout",
     "output_type": "stream",
     "text": [
      "(56, 2)\n"
     ]
    }
   ],
   "source": [
    "###################################################################\n",
    "\n",
    "\n",
    "y_means      = y.mean(0)\n",
    "y_deviations = y.std(0) + epsilon\n",
    "\n",
    "y_scaled = (y - y_means) / y_deviations\n",
    "\n",
    "print(y.shape)\n",
    "\n",
    "\n",
    "####################################################################"
   ]
  },
  {
   "cell_type": "markdown",
   "id": "68e029e9",
   "metadata": {},
   "source": [
    "## Apply the Analytical Solution\n",
    "\n",
    "Solve linear regression with analytical solution\n",
    "\n",
    "$ \\large \\theta = (X^{T} X)^{-1} X^{T} y $\n",
    "\n",
    "and then calculate y_pred\n",
    "\n",
    "$  \\large  \\hat{y} = X * \\theta  $\n"
   ]
  },
  {
   "cell_type": "code",
   "execution_count": null,
   "id": "eb9c134e",
   "metadata": {},
   "outputs": [],
   "source": []
  },
  {
   "cell_type": "code",
   "execution_count": 16,
   "id": "66fa8179",
   "metadata": {},
   "outputs": [
    {
     "name": "stdout",
     "output_type": "stream",
     "text": [
      "[[       -8.75453191        21.96644103]\n",
      " [       -9.46369472        25.24613632]\n",
      " [        0.22986258         0.15984329]\n",
      " [       -1.64984552         4.43629677]\n",
      " [   254264.65352778   -440255.54450973]\n",
      " [ 15291647.4156384  -37721521.24993419]\n",
      " [ -2062900.30226821   5122727.9798079 ]\n",
      " [  -524988.21893882   1267407.20256827]\n",
      " [  1658151.82212943  -4566156.21984591]\n",
      " [        7.5744881        -19.1764706 ]]\n"
     ]
    }
   ],
   "source": [
    "\n",
    "## adding the little bit of noise avoids singular error\n",
    "\n",
    "n = 1000\n",
    "X_scaled = X_scaled + 0.00001 * np.random.rand(10)\n",
    "\n",
    "\n",
    "w = np.linalg.inv(X_scaled.T @ X_scaled) @ X_scaled.T @ y_scaled\n",
    "\n",
    "print(w)\n",
    "\n",
    "tuyere_hat = X_scaled @ w\n",
    "\n"
   ]
  },
  {
   "cell_type": "code",
   "execution_count": 17,
   "id": "4a1087dc",
   "metadata": {},
   "outputs": [
    {
     "name": "stdout",
     "output_type": "stream",
     "text": [
      "[[-0.38068867  1.12885602]\n",
      " [-0.42876296  1.26280299]\n",
      " [-0.46731938  1.3701947 ]\n",
      " [-0.52078915  1.42428358]\n",
      " [-0.3696431   1.17430176]\n",
      " [-0.32989846  1.28464454]\n",
      " [-0.44137261  1.45347479]\n",
      " [-0.42251875  1.48846044]\n",
      " [-0.18544522  0.19503274]\n",
      " [-0.20580253  0.41589328]\n",
      " [-0.22994274  0.58603362]\n",
      " [-0.25327059  0.72482116]\n",
      " [-0.0776206   0.37284019]\n",
      " [ 0.06438345  0.55930904]\n",
      " [ 0.04732405 -0.41440091]\n",
      " [ 0.05473222 -0.08217842]\n",
      " [ 0.11217887  0.29497108]\n",
      " [ 0.0572784   0.2966223 ]\n",
      " [ 0.22923037 -0.20717935]\n",
      " [ 0.52155599  0.17252673]\n",
      " [ 0.57658498 -1.52463319]\n",
      " [ 0.61533419 -1.00741001]\n",
      " [ 0.64610052 -0.6918511 ]\n",
      " [ 0.70779081 -0.40533683]\n",
      " [ 0.85818028 -1.40971463]\n",
      " [ 1.44800632 -0.59777802]\n",
      " [ 0.97888736 -0.38816403]\n",
      " [ 1.44068787 -0.07303795]\n",
      " [ 1.19984115 -3.19614819]\n",
      " [ 1.41611846 -1.91112342]\n",
      " [ 1.47390824 -1.50021949]\n",
      " [ 1.59085425 -1.06144156]\n",
      " [ 1.73871087 -2.66879025]\n",
      " [ 2.51235772 -2.14284874]\n",
      " [ 1.96815557 -1.1169057 ]\n",
      " [ 2.75113962 -0.58722927]\n",
      " [-0.83372427  0.34976511]\n",
      " [-0.90635342  0.34646252]\n",
      " [-0.97057534  0.34524506]\n",
      " [-1.03503368  0.34110794]\n",
      " [-0.82676835  0.21407878]\n",
      " [-0.8991344   0.2111978 ]\n",
      " [-0.96347028  0.20911647]\n",
      " [-1.02723389  0.20708566]\n",
      " [-0.82290664  0.11488925]\n",
      " [-0.89515872  0.11222723]\n",
      " [-0.95954311  0.10984469]\n",
      " [-1.02328973  0.10757667]\n",
      " [-0.83986783  0.60023584]\n",
      " [-0.91223752  0.59849617]\n",
      " [-0.97654795  0.59793809]\n",
      " [-1.04102569  0.59413209]\n",
      " [-0.83831224  0.4338403 ]\n",
      " [-0.91070496  0.43135044]\n",
      " [-0.97523484  0.42943135]\n",
      " [-1.03914394  0.42730065]]\n"
     ]
    }
   ],
   "source": [
    "print(y_scaled)\n"
   ]
  },
  {
   "cell_type": "code",
   "execution_count": 18,
   "id": "b34e97b2",
   "metadata": {},
   "outputs": [
    {
     "name": "stdout",
     "output_type": "stream",
     "text": [
      "[[-0.9165367   1.0336812 ]\n",
      " [-0.90810152  1.24195949]\n",
      " [-0.89966633  1.45023777]\n",
      " [-0.89123115  1.65851606]\n",
      " [-0.60097881  1.25311584]\n",
      " [-0.28542092  1.47255049]\n",
      " [-0.58410844  1.66967242]\n",
      " [-0.26855055  1.88910706]\n",
      " [-0.27636998  0.15090649]\n",
      " [-0.26793479  0.35918478]\n",
      " [-0.25949961  0.56746306]\n",
      " [-0.25106443  0.77574135]\n",
      " [ 0.03918792  0.37034114]\n",
      " [ 0.35474581  0.58977578]\n",
      " [ 0.12247977 -0.39908857]\n",
      " [ 0.13091495 -0.19081029]\n",
      " [ 0.13935013  0.017468  ]\n",
      " [ 0.14778532  0.22574628]\n",
      " [ 0.43803766 -0.17965393]\n",
      " [ 0.75359555  0.03978072]\n",
      " [ 0.72075438 -1.22408117]\n",
      " [ 0.72918956 -1.01580288]\n",
      " [ 0.73762475 -0.8075246 ]\n",
      " [ 0.74605993 -0.59924631]\n",
      " [ 1.03631227 -1.00464653]\n",
      " [ 1.35187017 -0.78521188]\n",
      " [ 1.05318264 -0.58808995]\n",
      " [ 1.36874053 -0.36865531]\n",
      " [ 1.319029   -2.04907377]\n",
      " [ 1.32746418 -1.84079548]\n",
      " [ 1.33589936 -1.6325172 ]\n",
      " [ 1.34433454 -1.42423891]\n",
      " [ 1.63458689 -1.82963912]\n",
      " [ 1.95014478 -1.61020448]\n",
      " [ 1.65145725 -1.41308255]\n",
      " [ 1.96701515 -1.19364791]\n",
      " [-1.02336224  0.08416677]\n",
      " [-1.01492706  0.29244506]\n",
      " [-1.00649187  0.50072334]\n",
      " [-0.99805669  0.70900163]\n",
      " [-1.01773556 -0.06180317]\n",
      " [-1.00930038  0.14647512]\n",
      " [-1.0008652   0.3547534 ]\n",
      " [-0.99243001  0.56303169]\n",
      " [-1.01343281 -0.17342724]\n",
      " [-1.00499762  0.03485104]\n",
      " [-0.99656244  0.24312933]\n",
      " [-0.98812726  0.45140761]\n",
      " [-1.03196775  0.30741491]\n",
      " [-1.02353257  0.5156932 ]\n",
      " [-1.01509738  0.72397148]\n",
      " [-1.0066622   0.93224977]\n",
      " [-1.02667205  0.17003144]\n",
      " [-1.01823687  0.37830973]\n",
      " [-1.00980169  0.58658801]\n",
      " [-1.0013665   0.7948663 ]]\n"
     ]
    }
   ],
   "source": [
    "print(tuyere_hat)"
   ]
  },
  {
   "cell_type": "markdown",
   "id": "9049ae8e",
   "metadata": {},
   "source": [
    "## Visualize with Effect Plot"
   ]
  },
  {
   "cell_type": "code",
   "execution_count": 19,
   "id": "ab830a74",
   "metadata": {},
   "outputs": [
    {
     "data": {
      "text/plain": [
       "[<matplotlib.lines.Line2D at 0x7fafa11e2b50>]"
      ]
     },
     "execution_count": 19,
     "metadata": {},
     "output_type": "execute_result"
    },
    {
     "data": {
      "image/png": "[encoded data removed]",
      "text/plain": [
       "<Figure size 432x288 with 1 Axes>"
      ]
     },
     "metadata": {
      "needs_background": "light"
     },
     "output_type": "display_data"
    }
   ],
   "source": [
    "\n",
    "plt.xlabel(\"y_real\")\n",
    "plt.ylabel(\"y_pred\")\n",
    "\n",
    "plt.plot(y_scaled[0], tuyere_hat[0]) # plot first line\n",
    "plt.plot(y_scaled[1], tuyere_hat[1]) # plot first line"
   ]
  },
  {
   "cell_type": "code",
   "execution_count": null,
   "id": "29434043",
   "metadata": {},
   "outputs": [],
   "source": []
  }
 ],
 "metadata": {
  "kernelspec": {
   "display_name": "Python 3 (ipykernel)",
   "language": "python",
   "name": "python3"
  },
  "language_info": {
   "codemirror_mode": {
    "name": "ipython",
    "version": 3
   },
   "file_extension": ".py",
   "mimetype": "text/x-python",
   "name": "python",
   "nbconvert_exporter": "python",
   "pygments_lexer": "ipython3",
   "version": "3.8.13"
  }
 },
 "nbformat": 4,
 "nbformat_minor": 5
}
