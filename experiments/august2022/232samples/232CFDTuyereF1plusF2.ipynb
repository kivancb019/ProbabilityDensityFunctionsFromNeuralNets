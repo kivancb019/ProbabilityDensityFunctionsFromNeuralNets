{
 "cells": [
  {
   "cell_type": "markdown",
   "id": "fbc0ae8f",
   "metadata": {},
   "source": [
    "# Dataset has 232 samples and Model is g(x) = F1(x) + F2(x)\n",
    "\n",
    "The model consists of the sum of a linear function and a non-linear function.\n",
    "\n",
    "The function is of the form:\n",
    "\n",
    "$ g(x) = w*x + b + f(x)  $\n",
    "\n",
    "\n",
    "where f(x) is non-linear.\n",
    "\n",
    "This model uses the CFD Tuyere data with 232 samples.\n",
    "\n",
    "# Web application x inputs and y outputs\n",
    "\n",
    "Run interactively on the web at: \n",
    "\n",
    "# Inputs\n",
    "\n",
    "(1, 'i_pul_coal_inj_kg_thm')\n",
    "\n",
    "(2, 'i_nat_gas_inj_kg_thm')\n",
    "\n",
    "(3, 'i_nat_gas_t_k')\n",
    "\n",
    "(4, 'i_o2_vol_perce')\n",
    "\n",
    "# Outputs\n",
    "\n",
    "(11, 'o_tuyere_exit_velo_m_s')\n",
    "\n",
    "(12, 'o_tuyere_t_k')"
   ]
  },
  {
   "cell_type": "code",
   "execution_count": 1,
   "id": "256e6d7f",
   "metadata": {},
   "outputs": [],
   "source": [
    "################################################\n",
    "##\n",
    "## regression with ML for system control\n",
    "##\n",
    "################################################\n",
    "\n",
    "import torch\n",
    "import numpy as np\n",
    "import pandas as pd\n",
    "import sklearn\n",
    "import torch.nn as nn\n",
    "import torch.nn.functional as F\n",
    "import matplotlib.pyplot as plt\n",
    "\n",
    "from torch.utils.data import TensorDataset, DataLoader\n",
    "from sklearn.model_selection import train_test_split\n",
    "from mlxtend.plotting import heatmap\n",
    "\n",
    "## coefficient of determination (R**2)\n",
    "from sklearn.metrics import r2_score\n",
    "\n",
    "\n",
    "#######################################################\n",
    "\n",
    "N_EPOCHS = 10000\n",
    "batch_size = 10   ## 5\n",
    "learning_rate =  0.1    ## 0.01   ## 1e-5 \n",
    "\n",
    "## probably needs adjustable learning rate scheduler\n",
    "\n",
    "#######################################################\n",
    "\n",
    "np.set_printoptions(suppress=True)\n",
    "torch.set_printoptions(sci_mode=False)\n",
    "\n",
    "#######################################################"
   ]
  },
  {
   "cell_type": "code",
   "execution_count": 2,
   "id": "7fd0ce5b",
   "metadata": {},
   "outputs": [],
   "source": [
    "CFD_raw_data = pd.read_csv('232.CFD.7.2022.csv') "
   ]
  },
  {
   "cell_type": "code",
   "execution_count": 3,
   "id": "022393f2",
   "metadata": {},
   "outputs": [
    {
     "name": "stdout",
     "output_type": "stream",
     "text": [
      "['index', 'i_pul_coal_inj_kg_thm', 'i_nat_gas_inj_kg_thm', 'i_nat_gas_t_k', 'i_o2_vol_perce', 'i_bf_windrate_nm3_hr', 'i_hb_moist_g_nm3', 'i_hot_blast_press_pa', 'i_hot_blast_temp_k', 'i_ore_moisture_weight_perce', 'i_coke_weight_kg', 'i_ore_weight_kg', 'o_production_rate_thmperday', 'o_tuyere_exit_velo_m_s', 'o_tuyere_t_k', 'o_raceway_flame_temp_k', 'o_raceway_coal_burn_perce', 'o_raceway_volume_m', 'o_raceway_depth_m', 'o_shaft_co_utiliz', 'o_shaft_h2_utiliz', 'o_shaft_top_gas_temp_c', 'o_shaft_press_drop_pa', 'o_shaft_coke_rate_kg_thm', 'o_shaft_cohesive_zone_tip_height_m', 'o_shaft_co_v_perc', 'o_shaft_co2_v_perc', 'o_shaft_h2_v_perce', 'o_shaft_n2_v_perc']\n",
      "29\n",
      "(0, 'index')\n",
      "(1, 'i_pul_coal_inj_kg_thm')\n",
      "(2, 'i_nat_gas_inj_kg_thm')\n",
      "(3, 'i_nat_gas_t_k')\n",
      "(4, 'i_o2_vol_perce')\n",
      "(5, 'i_bf_windrate_nm3_hr')\n",
      "(6, 'i_hb_moist_g_nm3')\n",
      "(7, 'i_hot_blast_press_pa')\n",
      "(8, 'i_hot_blast_temp_k')\n",
      "(9, 'i_ore_moisture_weight_perce')\n",
      "(10, 'i_coke_weight_kg')\n",
      "(11, 'i_ore_weight_kg')\n",
      "(12, 'o_production_rate_thmperday')\n",
      "(13, 'o_tuyere_exit_velo_m_s')\n",
      "(14, 'o_tuyere_t_k')\n",
      "(15, 'o_raceway_flame_temp_k')\n",
      "(16, 'o_raceway_coal_burn_perce')\n",
      "(17, 'o_raceway_volume_m')\n",
      "(18, 'o_raceway_depth_m')\n",
      "(19, 'o_shaft_co_utiliz')\n",
      "(20, 'o_shaft_h2_utiliz')\n",
      "(21, 'o_shaft_top_gas_temp_c')\n",
      "(22, 'o_shaft_press_drop_pa')\n",
      "(23, 'o_shaft_coke_rate_kg_thm')\n",
      "(24, 'o_shaft_cohesive_zone_tip_height_m')\n",
      "(25, 'o_shaft_co_v_perc')\n",
      "(26, 'o_shaft_co2_v_perc')\n",
      "(27, 'o_shaft_h2_v_perce')\n",
      "(28, 'o_shaft_n2_v_perc')\n"
     ]
    }
   ],
   "source": [
    "headers_list = CFD_raw_data.columns.values.tolist()\n",
    "print(headers_list)\n",
    "print(len(headers_list))\n",
    "\n",
    "\n",
    "for i, name in enumerate(headers_list):\n",
    "    print((i, name))"
   ]
  },
  {
   "cell_type": "code",
   "execution_count": null,
   "id": "6963cc33",
   "metadata": {},
   "outputs": [],
   "source": []
  }
 ],
 "metadata": {
  "kernelspec": {
   "display_name": "Python 3 (ipykernel)",
   "language": "python",
   "name": "python3"
  },
  "language_info": {
   "codemirror_mode": {
    "name": "ipython",
    "version": 3
   },
   "file_extension": ".py",
   "mimetype": "text/x-python",
   "name": "python",
   "nbconvert_exporter": "python",
   "pygments_lexer": "ipython3",
   "version": "3.8.13"
  }
 },
 "nbformat": 4,
 "nbformat_minor": 5
}
