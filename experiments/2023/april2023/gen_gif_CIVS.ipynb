{
 "cells": [
  {
   "cell_type": "code",
   "execution_count": 3,
   "id": "188abd9e",
   "metadata": {},
   "outputs": [],
   "source": [
    "import imageio\n",
    "import glob\n",
    "from PIL import Image, ImageDraw, ImageSequence\n",
    "import io\n",
    "import imageio.v3 as iio\n",
    "import cv2\n"
   ]
  },
  {
   "cell_type": "code",
   "execution_count": 4,
   "id": "812effa8",
   "metadata": {},
   "outputs": [
    {
     "name": "stdout",
     "output_type": "stream",
     "text": [
      "['frame1.png', 'frame3.png', 'frame5.png', 'frame7.png', 'frame9.png', 'frame11.png', 'frame13.png', 'frame15.png', 'frame16.png', 'frame18.png', 'frame21.png', 'frame23.png', 'frame25.png', 'frame26.png', 'frame27.png', 'frame29.png', 'frame31.png', 'frame33.png', 'frame37.png', 'frame39.png']\n"
     ]
    },
    {
     "name": "stderr",
     "output_type": "stream",
     "text": [
      "/var/folders/q4/zdsjyw0d297_fn6_fh5n7g9h0000gn/T/ipykernel_4133/1280514271.py:13: DeprecationWarning: Starting with ImageIO v3 the behavior of this function will switch to that of iio.v3.imread. To keep the current behavior (and make this warning disappear) use `import imageio.v2 as imageio` or call `imageio.v2.imread` directly.\n",
      "  image = imageio.imread(filename)\n"
     ]
    }
   ],
   "source": [
    "\n",
    "imageio.plugins.freeimage.download()\n",
    "\n",
    "anim_file = 'pdf_shaping_in_action2.gif'\n",
    "\n",
    "filenames = [\"frame\" + str(i) + \".png\" for i in [1, 3, 5, 7, 9, 11, 13, 15, 16, 18, 21, 23, 25, 26, 27, \n",
    "                                                 29, 31, 33, 37, 39]] \n",
    "## print(filenames )\n",
    "## filenames = sorted(filenames)\n",
    "print(filenames )\n",
    "last = -1\n",
    "images = []\n",
    "for i, filename in enumerate(filenames):\n",
    "  image = imageio.imread(filename)\n",
    "  text = str(i)\n",
    "  text = \"Epoch \" + text\n",
    "  foo = cv2.putText(\n",
    "        image,\n",
    "        text, ## \"Hey look some metadata\",\n",
    "        (65, 75),\n",
    "        cv2.FONT_HERSHEY_SIMPLEX,\n",
    "        0.6,\n",
    "        (0, 0, 0),\n",
    "        2\n",
    "  )\n",
    "  images.append(image)\n",
    "\n",
    "imageio.mimsave(anim_file, images, 'GIF-FI', fps=1)\n",
    "\n",
    "## display(IPyImage(open(anim_file, 'rb').read()))\n"
   ]
  },
  {
   "cell_type": "code",
   "execution_count": null,
   "id": "76d884b6",
   "metadata": {},
   "outputs": [],
   "source": []
  },
  {
   "cell_type": "code",
   "execution_count": null,
   "id": "5e47b45d",
   "metadata": {},
   "outputs": [],
   "source": []
  }
 ],
 "metadata": {
  "kernelspec": {
   "display_name": "Python 3 (ipykernel)",
   "language": "python",
   "name": "python3"
  },
  "language_info": {
   "codemirror_mode": {
    "name": "ipython",
    "version": 3
   },
   "file_extension": ".py",
   "mimetype": "text/x-python",
   "name": "python",
   "nbconvert_exporter": "python",
   "pygments_lexer": "ipython3",
   "version": "3.8.13"
  }
 },
 "nbformat": 4,
 "nbformat_minor": 5
}
