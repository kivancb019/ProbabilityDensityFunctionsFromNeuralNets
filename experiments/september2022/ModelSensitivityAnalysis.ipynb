{
 "cells": [
  {
   "cell_type": "markdown",
   "id": "d7826a99",
   "metadata": {},
   "source": [
    "## Sensitivity Analysis\n",
    "\n",
    "Calculate partial derivatives of the function with respect to the independent variables. "
   ]
  },
  {
   "cell_type": "code",
   "execution_count": 19,
   "id": "f56fcb98",
   "metadata": {},
   "outputs": [],
   "source": [
    "import torch\n",
    "\n"
   ]
  },
  {
   "cell_type": "code",
   "execution_count": 20,
   "id": "c7ea53cb",
   "metadata": {},
   "outputs": [
    {
     "name": "stdout",
     "output_type": "stream",
     "text": [
      "tensor([-0.2450], grad_fn=<SubBackward0>)\n"
     ]
    }
   ],
   "source": [
    "\n",
    "## x1 = torch.randn(100, requires_grad=True)\n",
    "\n",
    "x1 = torch.randn(1, requires_grad=True)\n",
    "\n",
    "x2 = torch.randn(1, requires_grad=True)\n",
    "\n",
    "\n",
    "\n",
    "## u = u(x1,x2)\n",
    "\n",
    "u = 3 * x1 ** 3 - x2 ** 2\n",
    "\n",
    "\n",
    "print(u)\n",
    "\n"
   ]
  },
  {
   "cell_type": "code",
   "execution_count": 21,
   "id": "8b37e08c",
   "metadata": {},
   "outputs": [
    {
     "name": "stdout",
     "output_type": "stream",
     "text": [
      "tensor([0.9112])\n",
      "tensor([1.1689])\n"
     ]
    }
   ],
   "source": [
    "\n",
    "# 1st derivatives\n",
    "\n",
    "dx1 = torch.autograd.grad(u, x1)[0]\n",
    "dx2 = torch.autograd.grad(u, x2)[0]\n",
    "\n",
    "print(dx1)\n",
    "print(dx2)\n",
    "\n"
   ]
  },
  {
   "cell_type": "code",
   "execution_count": 22,
   "id": "61cf59b3",
   "metadata": {},
   "outputs": [
    {
     "data": {
      "text/plain": [
       "'\\n\\n# 2nd derivatives (higher orders require `create_graph=True`)\\n\\ndx2 = torch.autograd.grad(u, x, create_graph=True)[0]\\n\\nddx = torch.autograd.grad(dx, x)[0]\\n\\n'"
      ]
     },
     "execution_count": 22,
     "metadata": {},
     "output_type": "execute_result"
    }
   ],
   "source": [
    "'''\n",
    "\n",
    "# 2nd derivatives (higher orders require `create_graph=True`)\n",
    "\n",
    "dx2 = torch.autograd.grad(u, x, create_graph=True)[0]\n",
    "\n",
    "ddx = torch.autograd.grad(dx, x)[0]\n",
    "\n",
    "'''"
   ]
  },
  {
   "cell_type": "code",
   "execution_count": null,
   "id": "d7135035",
   "metadata": {},
   "outputs": [],
   "source": []
  }
 ],
 "metadata": {
  "kernelspec": {
   "display_name": "Python 3 (ipykernel)",
   "language": "python",
   "name": "python3"
  },
  "language_info": {
   "codemirror_mode": {
    "name": "ipython",
    "version": 3
   },
   "file_extension": ".py",
   "mimetype": "text/x-python",
   "name": "python",
   "nbconvert_exporter": "python",
   "pygments_lexer": "ipython3",
   "version": "3.8.13"
  }
 },
 "nbformat": 4,
 "nbformat_minor": 5
}
