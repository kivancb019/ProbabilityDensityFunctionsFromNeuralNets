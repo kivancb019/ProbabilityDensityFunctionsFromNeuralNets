{
 "cells": [
  {
   "cell_type": "markdown",
   "id": "0b97a424",
   "metadata": {},
   "source": [
    "## Kernel Density Funcs"
   ]
  },
  {
   "cell_type": "code",
   "execution_count": 1,
   "id": "45ba5f25",
   "metadata": {},
   "outputs": [],
   "source": [
    "######################################################\n",
    "##\n",
    "## Probability Density Function (PDF) Estimation\n",
    "##\n",
    "######################################################\n",
    "\n",
    "import torch\n",
    "import numpy as np\n",
    "import pandas as pd\n",
    "import sklearn\n",
    "import torch.nn as nn\n",
    "import torch.nn.functional as F\n",
    "import matplotlib.pyplot as plt\n",
    "import math\n",
    "\n",
    "\n",
    "from torch.utils.data import TensorDataset, DataLoader\n",
    "from sklearn.model_selection import train_test_split\n",
    "from mlxtend.plotting import heatmap\n",
    "from numpy.random import normal\n",
    "from scipy.stats import norm\n",
    "import scipy.stats as stats\n",
    "from numpy import hstack\n",
    "from numpy import asarray\n",
    "from numpy import exp\n",
    "from sklearn.neighbors import KernelDensity\n",
    "\n",
    "## coefficient of determination (R**2)\n",
    "from sklearn.metrics import r2_score\n",
    "\n",
    "\n",
    "#######################################################\n",
    "\n",
    "N_EPOCHS = 50000\n",
    "batch_size = 10\n",
    "learning_rate =  0.001    ## 0.01   ## 1e-5 \n",
    "\n",
    "## probably need adjustable learning rate scheduler\n",
    "\n",
    "#######################################################\n",
    "\n",
    "np.set_printoptions(suppress=True)\n",
    "torch.set_printoptions(sci_mode=False)\n",
    "\n",
    "#######################################################"
   ]
  },
  {
   "cell_type": "markdown",
   "id": "eae4e15b",
   "metadata": {},
   "source": [
    "## Assume 400 predicted errors with Unknown distribution"
   ]
  },
  {
   "cell_type": "code",
   "execution_count": 2,
   "id": "11466633",
   "metadata": {},
   "outputs": [
    {
     "name": "stdout",
     "output_type": "stream",
     "text": [
      "400\n"
     ]
    },
    {
     "data": {
      "image/png": "[encoded data removed]",
      "text/plain": [
       "<Figure size 432x288 with 1 Axes>"
      ]
     },
     "metadata": {
      "needs_background": "light"
     },
     "output_type": "display_data"
    }
   ],
   "source": [
    "\n",
    "\n",
    "error1 = normal(loc=7, scale=3, size=300)\n",
    "error2 = normal(loc=-7, scale=3, size=100)\n",
    "\n",
    "\n",
    "errors = hstack((error1, error2))\n",
    "\n",
    "print(len(errors))\n",
    "\n",
    "plt.hist(errors, bins=50)\n",
    "plt.show()\n"
   ]
  },
  {
   "cell_type": "code",
   "execution_count": 3,
   "id": "192444fd",
   "metadata": {},
   "outputs": [
    {
     "name": "stdout",
     "output_type": "stream",
     "text": [
      "(400,)\n"
     ]
    },
    {
     "data": {
      "text/plain": [
       "array([  1.40664254,  12.02409844,   8.57476839,   3.4974444 ,\n",
       "        10.26608485,   7.17620073,   5.01057522,   3.97134575,\n",
       "         3.66638536,   4.54293194,   2.48262609,   3.59002303,\n",
       "         4.32367184,   4.83129758,   4.51223691,   6.45689014,\n",
       "         1.86574558,   9.4059279 ,  12.46401738,   6.31432826,\n",
       "         5.60793237,   5.34148317,   3.62198217,  -0.19224909,\n",
       "        10.75772249,   4.92168567,   9.33526924,  10.58845115,\n",
       "         7.94957342,   6.70030948,   3.15676103,   4.02421619,\n",
       "         4.57662899,   7.92183639,   9.93464989,   3.26853919,\n",
       "         7.79306277,   6.82462222,   3.06287227,   5.60602819,\n",
       "         3.15728869,   5.73025588,   9.55451661,   5.98333133,\n",
       "         8.61121077,   6.66079532,   6.19667061,   1.94832982,\n",
       "         2.81838786,   2.64825654,  11.86474841,   3.90015118,\n",
       "         6.77647453,   6.56111541,   8.7089474 ,  13.77895625,\n",
       "         5.28477666,   3.52910846,   3.4276362 ,   7.99067183,\n",
       "         7.91489806,   1.51774124,   6.83921217,   3.97561437,\n",
       "         5.08408914,   6.941818  ,   8.70783112,   8.44060741,\n",
       "         7.00352664,   7.8120299 ,   7.77453044,   5.0960044 ,\n",
       "        10.72712822,   7.86078972,   9.81061666,   6.3199224 ,\n",
       "         7.62263338,   7.75638772,   7.38193083,   5.69910105,\n",
       "         8.22456339,   8.50521452,   6.05288949,   4.42655239,\n",
       "         5.33432232,   5.4433218 ,   8.68810618,   2.9012628 ,\n",
       "        11.76966774,  10.75356445,   8.55432795,   6.85000872,\n",
       "         9.72170374,   5.55513333,   9.50769596,   5.66085297,\n",
       "         2.65805913,  10.73046096,   6.12934737,  12.52825929,\n",
       "         5.17447644,   3.20251972,   5.28283593,   3.41638092,\n",
       "        10.22188823,   9.28171956,   8.2922242 ,   6.11324871,\n",
       "         9.42380759,   9.48874563,   2.1180539 ,  -0.14100937,\n",
       "         8.03871154,   7.10356361,   8.5976138 ,   4.42224034,\n",
       "         9.24919718,   5.88329909,   4.14412247,   9.06837656,\n",
       "         5.19381536,   3.77199212,   8.47558336,   8.87941185,\n",
       "         7.78789525,   8.29828339,   8.03946185,   6.22882355,\n",
       "         4.37846131,   4.87109842,   7.4820702 ,   3.39200612,\n",
       "         5.87750633,   4.24935538,   9.50309403,   9.41138187,\n",
       "        12.26922861,   4.3168753 ,   6.97049857,   8.11435129,\n",
       "         9.15760029,   5.82322189,   8.47107501,   6.09082658,\n",
       "         3.3620795 ,  10.98580991,   4.91801515,   8.39346774,\n",
       "         3.88774353,   9.74775456,   3.77049079,   8.72770384,\n",
       "        11.75461419,  12.67851622,   8.46221624,   1.31316445,\n",
       "         6.23559957,   2.90076326,  11.17840893,   5.62173042,\n",
       "        13.16811563,  12.79153504,   3.44739152,   9.949119  ,\n",
       "         1.28933561,   9.12212568,   5.1951453 ,   4.89743308,\n",
       "         7.42846086,   9.41007654,   4.71806695,   2.82186938,\n",
       "         6.94676048,   5.8262024 ,   6.76059494,   5.76507399,\n",
       "         8.3557335 ,   7.4111915 ,   9.50833669,   6.11333598,\n",
       "         7.90551071,   6.47864544,  11.65827945,  12.59095193,\n",
       "         4.02221858,   7.48074975,   8.25635604,   7.04753146,\n",
       "         5.53964543,   3.9046797 ,   7.62675982,   7.0669298 ,\n",
       "        11.08715189,   8.71382378,   5.29208531,   4.02124281,\n",
       "         3.87023521,   7.19924758,   8.68199496,   5.42824039,\n",
       "         8.63462767,   4.76134377,   4.10641463,   8.03164439,\n",
       "         6.870864  ,   5.11660025,   3.56777033,   5.69086685,\n",
       "         4.20664491,  12.28533212,   8.79677011,   4.30524713,\n",
       "         6.31849402,   6.91838248,   8.24005444,   3.43122513,\n",
       "         6.55187608,   5.74865474,   5.86087924,   6.51396325,\n",
       "         5.50547921,   4.14900751,   7.81927825,   5.90829523,\n",
       "         5.97783654,   5.25223696,   7.24275074,   8.80436278,\n",
       "        10.4493783 ,   6.21763202,   7.83167674,   3.21832452,\n",
       "         5.75301867,  13.90457826,  11.67051638,   5.72415252,\n",
       "         8.16147256,  10.40267536,   5.90039328,   4.47103959,\n",
       "         6.26652528,   5.91890034,  11.17556618,   8.93513413,\n",
       "         8.17846346,   6.96257255,   1.32340299,  11.5246786 ,\n",
       "        10.92182534,   8.81705493,   4.50847191,   8.3926346 ,\n",
       "         7.44716012,   5.78206832,   7.70893748,   6.36672118,\n",
       "         7.15874677,  12.66053793,   7.0497452 ,  12.15116748,\n",
       "         6.76501665,   6.83748274,   9.15628485,   5.70675912,\n",
       "         8.06033171,   8.0614814 ,   3.93534512,   6.11382855,\n",
       "        10.1870249 ,   4.74469654,   6.37104779,   6.56965038,\n",
       "         6.46940206,   7.28337997,   9.81169881,  11.67196343,\n",
       "        10.41950512,   5.31877717,   3.54337694,  12.63142391,\n",
       "         3.03339306,   3.80615296,   4.22863383,   6.34900827,\n",
       "         9.46314781,   7.97822526,   7.74222119,   6.72746206,\n",
       "         6.99267974,   9.82976308,   8.78714614,   5.32146462,\n",
       "         6.34107754,   6.1048083 ,  12.34883487,  13.01407627,\n",
       "         7.27514251,   8.49402279,   4.77120113,   4.97108756,\n",
       "        -5.73667355,  -8.10501745,  -3.98243231,  -5.07865301,\n",
       "        -3.92172465,  -6.23069377, -13.18290876,  -2.52766202,\n",
       "        -6.80750986,  -7.80066002,  -4.89207326, -10.42213006,\n",
       "        -8.1865103 ,   0.69964587,  -4.51814752,  -4.62472087,\n",
       "       -10.38125459,  -4.56256443,  -1.50327682,  -7.14783508,\n",
       "        -5.53846759, -11.43165963,  -6.0896618 ,  -6.43889875,\n",
       "        -8.72352076, -10.07211053,  -6.24941347,  -8.57615191,\n",
       "        -2.51918463,  -2.21766101, -10.90672807,  -6.12931   ,\n",
       "        -5.62602313,  -4.90651568,  -6.17086578,  -2.12612272,\n",
       "        -7.04294969,  -7.22439732,  -2.34737388,  -7.03165346,\n",
       "        -8.82245767,  -4.25246599,  -8.4252669 ,  -7.92849233,\n",
       "        -4.87647747,  -5.18737838,  -9.56594847,  -3.97696403,\n",
       "        -7.3252415 ,  -6.45424064,  -7.55804941,  -6.80413528,\n",
       "       -12.02169994,  -6.66130542,  -7.26949841,  -9.41214731,\n",
       "        -3.13540626, -11.85286224,  -4.6886493 ,  -6.65918716,\n",
       "        -9.7605826 ,  -4.07218133,  -9.47267743,  -5.40477536,\n",
       "        -9.74194773,  -8.89015617,  -8.12027366,  -9.72530676,\n",
       "        -3.75316468,  -1.84175609,  -8.74087713,  -6.86037389,\n",
       "        -3.815966  ,  -4.25103473,  -7.53154773,  -9.09925485,\n",
       "       -12.27072659, -10.47616156,  -5.81079718,  -3.89464622,\n",
       "        -6.88895244,  -7.12762988,  -9.55273774,  -4.83713543,\n",
       "        -6.58090502,  -7.38788318,  -7.22246952,  -0.68703389,\n",
       "       -10.93513454,  -7.09858119,  -7.48581121,  -9.18246986,\n",
       "        -7.83053749,  -4.03170058,  -3.02888277,  -1.79105947,\n",
       "        -8.36788575, -11.01206532,  -4.92407798,  -8.84752516])"
      ]
     },
     "execution_count": 3,
     "metadata": {},
     "output_type": "execute_result"
    }
   ],
   "source": [
    "print(errors[:].shape)\n",
    "errors[:]"
   ]
  },
  {
   "cell_type": "markdown",
   "id": "c62810b3",
   "metadata": {},
   "source": [
    "## Learn the function that predicts the unknown error distribution\n",
    "\n",
    "* sum of basis funcs (e.g. sum of gaussians)"
   ]
  },
  {
   "cell_type": "code",
   "execution_count": 4,
   "id": "939fc5c2",
   "metadata": {},
   "outputs": [],
   "source": [
    "\n",
    "## Bandwidth (smoothing parameter) is a window size required by the algorithm that controls \n",
    "## the number of observations (samples) to look at per new point to estimate. \n",
    "## The kernel is the basis function. \n",
    "\n",
    "\n",
    "\n",
    "def sum_of_basis_func(errors, bandwidth):\n",
    "    \n",
    "    model = KernelDensity(bandwidth=bandwidth, kernel='gaussian')\n",
    "\n",
    "    errors = errors.reshape(  (len(errors), 1)   )              ## 1000x1\n",
    "\n",
    "    model.fit(errors)\n",
    "    \n",
    "    return model\n"
   ]
  },
  {
   "cell_type": "code",
   "execution_count": 5,
   "id": "4dc074c3",
   "metadata": {},
   "outputs": [],
   "source": [
    "\n",
    "bandwidth = 0.2\n",
    "\n",
    "basis_func_trained = sum_of_basis_func(errors,  bandwidth)\n"
   ]
  },
  {
   "cell_type": "markdown",
   "id": "9cc418d0",
   "metadata": {},
   "source": [
    "## This is the scale in which to compare impulse to unknown error distribution \n",
    "\n",
    "* [-20, 20] with step 0.1 which will give a vector of 4000"
   ]
  },
  {
   "cell_type": "code",
   "execution_count": 6,
   "id": "cd1d4b73",
   "metadata": {},
   "outputs": [],
   "source": [
    "\n",
    "N_error_range = 20\n",
    "\n",
    "x = torch.arange(-N_error_range, N_error_range, 0.01)                   ## the error is in this range "
   ]
  },
  {
   "cell_type": "code",
   "execution_count": 7,
   "id": "8e281c81",
   "metadata": {},
   "outputs": [
    {
     "data": {
      "text/plain": [
       "tensor([-20.0000, -19.9900, -19.9800,  ...,  19.9700,  19.9800,  19.9900])"
      ]
     },
     "execution_count": 7,
     "metadata": {},
     "output_type": "execute_result"
    }
   ],
   "source": [
    "x"
   ]
  },
  {
   "cell_type": "markdown",
   "id": "0ecff68c",
   "metadata": {},
   "source": [
    "## Given x range [-20,20] predict using learned error PDF func"
   ]
  },
  {
   "cell_type": "code",
   "execution_count": 8,
   "id": "2460725f",
   "metadata": {},
   "outputs": [
    {
     "name": "stdout",
     "output_type": "stream",
     "text": [
      "torch.Size([4000, 1])\n",
      "[-586.21012711 -584.50706535 -582.8065037  ... -465.16762242 -466.68526244\n",
      " -468.20540259]\n",
      "(4000,)\n"
     ]
    }
   ],
   "source": [
    "\n",
    "x = x.reshape(   (len(x), 1)    )\n",
    "\n",
    "print(x.shape)\n",
    "\n",
    "probabilities = basis_func_trained.score_samples(x) \n",
    "print(probabilities)\n",
    "print(probabilities.shape)\n",
    "\n"
   ]
  },
  {
   "cell_type": "markdown",
   "id": "57965c83",
   "metadata": {},
   "source": [
    "## Now invert from log space to exponent space "
   ]
  },
  {
   "cell_type": "code",
   "execution_count": 9,
   "id": "a3ade744",
   "metadata": {},
   "outputs": [
    {
     "name": "stdout",
     "output_type": "stream",
     "text": [
      "[0. 0. 0. ... 0. 0. 0.]\n",
      "(4000,)\n"
     ]
    }
   ],
   "source": [
    "\n",
    "probabilities_exp = exp(probabilities)\n",
    "print(probabilities_exp)\n",
    "print(probabilities_exp.shape)\n",
    "\n"
   ]
  },
  {
   "cell_type": "markdown",
   "id": "d3a47dba",
   "metadata": {},
   "source": [
    "## The yellow line is the preds using the learned unknown func "
   ]
  },
  {
   "cell_type": "code",
   "execution_count": 10,
   "id": "c8e57872",
   "metadata": {},
   "outputs": [
    {
     "data": {
      "image/png": "[encoded data removed]",
      "text/plain": [
       "<Figure size 432x288 with 1 Axes>"
      ]
     },
     "metadata": {
      "needs_background": "light"
     },
     "output_type": "display_data"
    }
   ],
   "source": [
    "plt.hist(errors, bins=50, density=True)     ## see probs instead of counts with density=True\n",
    "plt.plot(x[:], probabilities_exp)          ## reshaped to 2D\n",
    "plt.show()"
   ]
  },
  {
   "cell_type": "markdown",
   "id": "13ea7b84",
   "metadata": {},
   "source": [
    "## This is the vector that will be compared to the impulse func\n",
    "\n",
    "* size 4000"
   ]
  },
  {
   "cell_type": "code",
   "execution_count": 11,
   "id": "afac5e93",
   "metadata": {},
   "outputs": [
    {
     "name": "stdout",
     "output_type": "stream",
     "text": [
      "[0. 0. 0. ... 0. 0. 0.]\n",
      "(4000,)\n"
     ]
    }
   ],
   "source": [
    "\n",
    "print(probabilities_exp)\n",
    "print(probabilities_exp.shape)\n"
   ]
  },
  {
   "cell_type": "code",
   "execution_count": 12,
   "id": "bd72e1ba",
   "metadata": {},
   "outputs": [
    {
     "data": {
      "text/plain": [
       "array([0.01396553, 0.01427177, 0.01460324, 0.01495916, 0.01533866,\n",
       "       0.01574067, 0.01616401, 0.01660731, 0.01706923, 0.01754815,\n",
       "       0.01804238, 0.01855006, 0.0190694 , 0.01959832, 0.02013474,\n",
       "       0.02067645, 0.02122131, 0.02176699, 0.02231118, 0.02285148,\n",
       "       0.02338567, 0.02391135, 0.02442622, 0.02492797, 0.02541448,\n",
       "       0.02588357, 0.02633318, 0.02676134, 0.02716627, 0.02754623,\n",
       "       0.02789965, 0.02822506, 0.02852125, 0.02878707, 0.0290216 ,\n",
       "       0.02922404, 0.02939386, 0.02953062, 0.02963411, 0.02970429,\n",
       "       0.02974133, 0.02974555, 0.02971747, 0.02965778, 0.02956735,\n",
       "       0.02944719, 0.02929849, 0.02912262, 0.02892102, 0.0286953 ,\n",
       "       0.02844722, 0.02817863, 0.02789142, 0.02758765, 0.02726942,\n",
       "       0.02693891, 0.02659823, 0.02624972, 0.02589558, 0.02553811,\n",
       "       0.02517947, 0.02482191, 0.02446761, 0.02411872, 0.02377723,\n",
       "       0.02344518, 0.02312444, 0.02281688, 0.02252412, 0.0222478 ,\n",
       "       0.02198941, 0.02175032, 0.02153175, 0.02133484, 0.02116057,\n",
       "       0.02100983, 0.02088332, 0.02078169, 0.02070541, 0.02065484,\n",
       "       0.02063023, 0.0206317 , 0.02065924, 0.02071272, 0.02079192,\n",
       "       0.02089649, 0.02102594, 0.02117968, 0.02135703, 0.02155716,\n",
       "       0.02177913, 0.02202187, 0.02228426, 0.022565  , 0.02286268,\n",
       "       0.02317578, 0.02350273, 0.0238418 , 0.02419115, 0.02454884,\n",
       "       0.02491295, 0.02528136, 0.02565194, 0.02602248, 0.02639081,\n",
       "       0.02675466, 0.02711178, 0.0274599 , 0.0277969 , 0.02812059,\n",
       "       0.0284289 , 0.02871982, 0.02899155, 0.02924233, 0.02947057,\n",
       "       0.02967484, 0.02985396, 0.03000687, 0.03013277, 0.03023104,\n",
       "       0.03030132, 0.03034347, 0.03035757, 0.03034394, 0.03030313,\n",
       "       0.03023589, 0.0301432 , 0.03002625, 0.02988634, 0.02972503,\n",
       "       0.02954396, 0.02934495, 0.02912985, 0.02890068, 0.02865947,\n",
       "       0.02840835, 0.02814936, 0.02788463, 0.02761626, 0.02734629,\n",
       "       0.02707667, 0.02680931, 0.02654602, 0.02628854, 0.02603839,\n",
       "       0.02579707, 0.02556591, 0.0253461 , 0.02513866, 0.0249445 ,\n",
       "       0.02476438, 0.02459892, 0.02444855, 0.02431364, 0.02419438,\n",
       "       0.02409084, 0.02400294, 0.02393053, 0.02387333, 0.02383096,\n",
       "       0.02380295, 0.02378873, 0.02378768, 0.02379909, 0.0238222 ,\n",
       "       0.02385617, 0.02390016, 0.02395325, 0.0240145 , 0.02408296,\n",
       "       0.02415765, 0.02423758, 0.02432176, 0.02440921, 0.02449895,\n",
       "       0.02459002, 0.02468152, 0.02477251, 0.02486216, 0.02494961,\n",
       "       0.02503413, 0.02511498, 0.02519149, 0.02526307, 0.02532918,\n",
       "       0.02538934, 0.02544317, 0.02549031, 0.02553054, 0.02556365,\n",
       "       0.02558953, 0.02560814, 0.02561951, 0.02562375, 0.02562102,\n",
       "       0.02561156, 0.02559565, 0.02557365, 0.02554599, 0.02551313,\n",
       "       0.0254756 , 0.02543398, 0.02538889, 0.02534101, 0.02529107,\n",
       "       0.02523983, 0.02518809, 0.02513672, 0.02508661, 0.02503867,\n",
       "       0.02499388, 0.02495323, 0.02491775, 0.02488849, 0.02486653,\n",
       "       0.02485297, 0.02484891, 0.02485548, 0.02487378, 0.02490494,\n",
       "       0.02495004, 0.02501016, 0.02508636, 0.02517964, 0.02529096,\n",
       "       0.02542123, 0.02557127, 0.02574189, 0.02593373, 0.02614743,\n",
       "       0.02638346, 0.02664226, 0.02692411, 0.02722921, 0.02755762,\n",
       "       0.02790935, 0.0282842 , 0.02868198, 0.02910226, 0.02954462,\n",
       "       0.03000844, 0.03049308, 0.0309977 , 0.03152151, 0.03206348,\n",
       "       0.03262263, 0.0331978 , 0.03378786, 0.0343915 , 0.03500746,\n",
       "       0.03563434, 0.03627075, 0.03691517, 0.03756616, 0.03822209,\n",
       "       0.03888143, 0.03954248, 0.04020364, 0.04086316, 0.04151937,\n",
       "       0.04217046, 0.04281473, 0.04345035, 0.04407557, 0.04468856,\n",
       "       0.04528759, 0.04587083, 0.04643659, 0.0469831 , 0.04750874,\n",
       "       0.04801184, 0.04849091, 0.04894442, 0.04937104, 0.04976946,\n",
       "       0.05013856, 0.05047728, 0.05078475, 0.05106022, 0.05130312,\n",
       "       0.05151302, 0.05168968, 0.05183302, 0.05194316, 0.05202038,\n",
       "       0.05206513, 0.05207805, 0.05205992, 0.05201168, 0.05193442,\n",
       "       0.05182936, 0.05169782, 0.05154126, 0.05136116, 0.05115915,\n",
       "       0.05093682, 0.05069587, 0.05043794, 0.05016472, 0.04987784,\n",
       "       0.04957891, 0.04926946, 0.04895099, 0.04862486, 0.04829241,\n",
       "       0.0479548 , 0.04761316, 0.04726842, 0.0469215 , 0.0465731 ,\n",
       "       0.04622391, 0.0458744 , 0.04552504, 0.04517613, 0.04482794,\n",
       "       0.04448058, 0.0441342 , 0.04378878, 0.04344434, 0.04310082,\n",
       "       0.04275817, 0.04241628, 0.04207511, 0.04173456, 0.04139462,\n",
       "       0.04105525, 0.04071652, 0.04037847, 0.04004125, 0.03970505,\n",
       "       0.03937013, 0.03903678, 0.03870541, 0.03837644, 0.0380504 ,\n",
       "       0.03772782, 0.03740935, 0.03709564, 0.0367874 , 0.03648536,\n",
       "       0.03619032, 0.03590301, 0.03562425, 0.03535478, 0.0350954 ,\n",
       "       0.03484678, 0.03460964, 0.03438458, 0.03417215, 0.03397281,\n",
       "       0.03378695, 0.03361481, 0.03345656, 0.0333122 , 0.03318163,\n",
       "       0.03306457, 0.03296064, 0.03286926, 0.03278973, 0.03272118,\n",
       "       0.0326626 , 0.03261282, 0.03257054, 0.03253434, 0.03250266,\n",
       "       0.03247386, 0.03244621, 0.0324179 , 0.03238707, 0.03235186,\n",
       "       0.0323104 , 0.03226081, 0.0322013 , 0.03213013, 0.03204567,\n",
       "       0.0319464 , 0.03183094, 0.03169811, 0.0315469 , 0.03137648,\n",
       "       0.0311863 , 0.03097599, 0.03074547, 0.03049485, 0.03022458,\n",
       "       0.02993527, 0.02962786, 0.02930346, 0.02896346, 0.02860941,\n",
       "       0.02824311, 0.02786647, 0.0274816 , 0.02709068, 0.02669602,\n",
       "       0.02629996, 0.0259049 , 0.02551319, 0.0251272 , 0.0247492 ,\n",
       "       0.02438139, 0.02402582, 0.02368444, 0.02335897, 0.02305101,\n",
       "       0.02276187, 0.02249272, 0.02224442, 0.02201767, 0.02181284,\n",
       "       0.02163013, 0.02146944, 0.02133047, 0.02121268, 0.02111532,\n",
       "       0.02103742, 0.02097786, 0.02093533, 0.02090838, 0.02089546,\n",
       "       0.02089489, 0.02090494, 0.02092382, 0.0209497 , 0.02098076,\n",
       "       0.02101519, 0.02105122, 0.02108713, 0.02112129, 0.02115215,\n",
       "       0.02117828, 0.02119837, 0.02121123, 0.02121584, 0.0212113 ,\n",
       "       0.02119689, 0.02117204, 0.02113637, 0.02108963, 0.02103176,\n",
       "       0.02096285, 0.02088316, 0.0207931 , 0.02069322, 0.02058424,\n",
       "       0.02046698, 0.02034241, 0.02021161, 0.02007577, 0.01993617,\n",
       "       0.0197942 , 0.01965129, 0.01950898, 0.01936881, 0.01923242,\n",
       "       0.01910144, 0.01897754, 0.01886238, 0.01875765, 0.01866498,\n",
       "       0.01858603, 0.01852238, 0.01847557, 0.01844711, 0.01843841,\n",
       "       0.01845081, 0.01848558, 0.01854388, 0.01862675, 0.01873515,\n",
       "       0.01886988, 0.01903163, 0.01922095, 0.01943823, 0.01968371,\n",
       "       0.01995749, 0.02025948, 0.02058946, 0.02094697, 0.02133145,\n",
       "       0.02174212, 0.02217803, 0.02263803, 0.02312086, 0.023625  ,\n",
       "       0.02414886, 0.02469058, 0.02524827, 0.02581976, 0.02640288,\n",
       "       0.02699522, 0.02759437, 0.02819771, 0.02880269, 0.02940656,\n",
       "       0.03000665, 0.03060017, 0.03118445, 0.03175672, 0.03231439,\n",
       "       0.03285481, 0.03337553, 0.03387413, 0.03434839, 0.03479617,\n",
       "       0.03521556, 0.03560477, 0.03596228, 0.03628668, 0.03657687,\n",
       "       0.03683189, 0.03705105, 0.03723386, 0.03738007, 0.03748962,\n",
       "       0.03756267, 0.0375996 , 0.03760096, 0.03756749, 0.03750008,\n",
       "       0.03739978, 0.03726777, 0.03710537, 0.03691397, 0.03669509,\n",
       "       0.03645028, 0.03618119, 0.03588947, 0.03557685, 0.03524508,\n",
       "       0.03489593, 0.03453113, 0.03415249, 0.03376175, 0.03336071,\n",
       "       0.0329511 , 0.03253473, 0.0321133 , 0.03168862, 0.0312624 ,\n",
       "       0.03083642, 0.03041241, 0.02999215, 0.02957738, 0.02916988,\n",
       "       0.0287714 , 0.02838373, 0.02800861, 0.02764782, 0.02730308,\n",
       "       0.02697615, 0.0266687 , 0.02638244, 0.02611895, 0.02587984,\n",
       "       0.02566659, 0.02548064, 0.02532333, 0.0251959 , 0.02509948,\n",
       "       0.02503506, 0.02500352, 0.02500556, 0.02504177, 0.02511252,\n",
       "       0.02521804, 0.02535835, 0.02553331, 0.02574256, 0.02598554,\n",
       "       0.02626149, 0.02656947, 0.02690826, 0.02727653, 0.02767265,\n",
       "       0.02809488, 0.0285412 , 0.02900944, 0.02949722, 0.03000203,\n",
       "       0.03052112, 0.03105168, 0.03159064, 0.03213492, 0.03268123,\n",
       "       0.03322625, 0.03376651, 0.03429859, 0.03481889, 0.03532394,\n",
       "       0.03581014, 0.03627403, 0.03671213, 0.03712108, 0.03749758,\n",
       "       0.03783852, 0.03814087, 0.03840184, 0.03861878, 0.0387893 ,\n",
       "       0.03891123, 0.03898268, 0.03900201, 0.03896788, 0.03887926,\n",
       "       0.03873542, 0.03853596, 0.03828081, 0.0379702 , 0.03760471,\n",
       "       0.03718522, 0.03671295, 0.0361894 , 0.03561637, 0.03499593,\n",
       "       0.03433043, 0.0336224 , 0.03287469, 0.03209026, 0.03127227,\n",
       "       0.03042405, 0.02954901, 0.02865069, 0.02773268, 0.02679863,\n",
       "       0.0258522 , 0.02489704, 0.02393678, 0.022975  , 0.02201519,\n",
       "       0.02106076, 0.02011499, 0.01918107, 0.018262  , 0.01736066,\n",
       "       0.01647973, 0.01562175, 0.01478905, 0.01398378, 0.0132079 ,\n",
       "       0.01246314, 0.01175112, 0.01107318, 0.01043049, 0.00982405,\n",
       "       0.00925466, 0.00872292, 0.00822928, 0.00777402, 0.00735722,\n",
       "       0.00697885, 0.0066387 , 0.0063364 , 0.00607148, 0.0058433 ,\n",
       "       0.00565111, 0.00549405, 0.00537112, 0.00528122, 0.00522315,\n",
       "       0.00519561, 0.00519719, 0.00522641, 0.00528169, 0.00536139,\n",
       "       0.00546376, 0.00558703, 0.00572932, 0.00588873, 0.0060633 ,\n",
       "       0.00625103, 0.00644989, 0.00665781, 0.00687275, 0.00709263,\n",
       "       0.00731539, 0.00753901, 0.00776149, 0.00798088, 0.00819528,\n",
       "       0.0084029 , 0.00860201, 0.00879098, 0.00896832, 0.00913266,\n",
       "       0.00928275, 0.00941751, 0.00953605, 0.0096376 , 0.0097216 ,\n",
       "       0.00978768, 0.00983564, 0.00986551, 0.00987748, 0.00987195,\n",
       "       0.00984952, 0.00981096, 0.00975723, 0.00968946, 0.00960894,\n",
       "       0.00951712, 0.00941558, 0.00930601, 0.00919021, 0.00907007,\n",
       "       0.00894755, 0.00882463, 0.00870336, 0.00858575, 0.00847384,\n",
       "       0.00836959, 0.00827493, 0.00819172, 0.0081217 , 0.00806654,\n",
       "       0.00802773, 0.00800665, 0.00800452, 0.00802238, 0.0080611 ,\n",
       "       0.00812136, 0.00820364, 0.00830823, 0.00843523, 0.00858452,\n",
       "       0.0087558 , 0.00894858, 0.00916217, 0.00939573, 0.00964822,\n",
       "       0.00991848, 0.01020519, 0.01050691, 0.01082209, 0.01114909,\n",
       "       0.01148618, 0.0118316 , 0.01218352, 0.01254011, 0.01289953,\n",
       "       0.01325994, 0.01361955, 0.01397661, 0.01432941, 0.01467633,\n",
       "       0.01501583, 0.01534645, 0.01566685, 0.01597579, 0.01627213,\n",
       "       0.01655488, 0.01682314, 0.01707613, 0.01731321, 0.01753382,\n",
       "       0.01773755, 0.01792407, 0.01809318, 0.01824474, 0.01837874,\n",
       "       0.01849523, 0.01859435, 0.0186763 , 0.01874135, 0.01878985,\n",
       "       0.01882218, 0.01883878, 0.01884013, 0.01882676, 0.01879924,\n",
       "       0.01875816, 0.01870417, 0.01863793, 0.01856014, 0.01847153,\n",
       "       0.01837286, 0.01826491, 0.01814849, 0.01802442, 0.01789357,\n",
       "       0.0177568 , 0.01761499, 0.01746905, 0.01731986, 0.01716833,\n",
       "       0.01701534, 0.01686177, 0.01670848, 0.01655629, 0.01640597,\n",
       "       0.01625828, 0.01611389, 0.01597342, 0.01583742, 0.01570636,\n",
       "       0.01558063, 0.01546051, 0.01534621, 0.01523782, 0.01513535,\n",
       "       0.0150387 , 0.01494768, 0.01486198, 0.01478123, 0.01470497,\n",
       "       0.01463264, 0.01456364, 0.01449729, 0.01443287, 0.01436964,\n",
       "       0.0143068 , 0.01424357, 0.01417916, 0.01411279, 0.0140437 ,\n",
       "       0.01397118, 0.01389454, 0.01381317, 0.01372651, 0.01363406,\n",
       "       0.0135354 , 0.01343019, 0.01331815, 0.0131991 , 0.01307292,\n",
       "       0.01293956, 0.01279904, 0.01265146, 0.01249695, 0.01233572,\n",
       "       0.01216799, 0.01199405, 0.01181418, 0.01162873, 0.01143801,\n",
       "       0.01124237, 0.01104215, 0.01083769, 0.01062931, 0.01041733,\n",
       "       0.01020204, 0.00998373, 0.00976264, 0.00953904, 0.00931314,\n",
       "       0.00908516, 0.0088553 , 0.00862375, 0.00839069, 0.00815632,\n",
       "       0.00792082, 0.00768438, 0.00744721, 0.00720952, 0.00697154,\n",
       "       0.00673353, 0.00649576, 0.00625853, 0.00602214, 0.00578694,\n",
       "       0.00555329, 0.00532158, 0.0050922 , 0.00486557, 0.00464213,\n",
       "       0.00442232, 0.0042066 , 0.00399542, 0.00378924, 0.00358852,\n",
       "       0.00339369, 0.0032052 , 0.00302348, 0.00284892, 0.00268193,\n",
       "       0.00252287, 0.00237209, 0.00222991, 0.00209662, 0.0019725 ,\n",
       "       0.00185779, 0.0017527 , 0.00165743, 0.00157214, 0.00149696,\n",
       "       0.00143201, 0.00137737, 0.0013331 , 0.00129924, 0.00127578,\n",
       "       0.00126273, 0.00126002, 0.0012676 , 0.00128537, 0.00131321,\n",
       "       0.00135096, 0.00139844, 0.00145543, 0.00152168, 0.0015969 ,\n",
       "       0.00168078, 0.00177294, 0.00187299, 0.00198048, 0.00209492,\n",
       "       0.00221579, 0.00234251, 0.00247447, 0.00261102, 0.00275147,\n",
       "       0.00289511, 0.00304117, 0.00318888, 0.00333743, 0.00348603,\n",
       "       0.00363384, 0.00378006, 0.00392386, 0.00406445, 0.00420108,\n",
       "       0.00433301, 0.00445955, 0.00458008, 0.00469402, 0.0048009 ,\n",
       "       0.00490028, 0.00499184, 0.00507537, 0.00515073, 0.00521789,\n",
       "       0.00527695, 0.0053281 , 0.00537166, 0.00540805, 0.00543779,\n",
       "       0.00546153, 0.00547999, 0.005494  , 0.00550447, 0.00551237,\n",
       "       0.00551875, 0.0055247 , 0.00553133, 0.00553979, 0.00555122,\n",
       "       0.00556676, 0.0055875 , 0.00561452, 0.00564879, 0.00569125,\n",
       "       0.00574272, 0.00580393, 0.00587546, 0.0059578 , 0.00605127,\n",
       "       0.00615603, 0.00627212, 0.00639938, 0.0065375 , 0.006686  ,\n",
       "       0.00684423, 0.00701139, 0.00718651, 0.00736849, 0.00755608,\n",
       "       0.0077479 , 0.00794247, 0.00813821, 0.00833346, 0.00852651,\n",
       "       0.0087156 , 0.00889895, 0.00907479, 0.00924137, 0.00939698,\n",
       "       0.00953997, 0.00966878, 0.00978194, 0.00987812, 0.00995612,\n",
       "       0.01001486, 0.01005346, 0.01007119, 0.01006751, 0.01004206,\n",
       "       0.00999466, 0.00992532, 0.00983426, 0.00972186, 0.00958867,\n",
       "       0.00943543, 0.00926303, 0.00907249, 0.00886499, 0.0086418 ,\n",
       "       0.00840431, 0.00815399, 0.00789238, 0.00762106, 0.00734165])"
      ]
     },
     "execution_count": 12,
     "metadata": {},
     "output_type": "execute_result"
    }
   ],
   "source": [
    "probabilities_exp[1000:2000]"
   ]
  },
  {
   "cell_type": "code",
   "execution_count": 13,
   "id": "8e1fa8fd",
   "metadata": {},
   "outputs": [
    {
     "data": {
      "text/plain": [
       "array([0.00705579, 0.00676512, 0.00647126, 0.00617581, 0.00588031,\n",
       "       0.00558627, 0.0052951 , 0.00500817, 0.00472675, 0.00445203,\n",
       "       0.00418508, 0.00392691, 0.00367841, 0.00344038, 0.00321352,\n",
       "       0.00299844, 0.00279565, 0.00260556, 0.00242854, 0.00226483,\n",
       "       0.00211463, 0.00197807, 0.0018552 , 0.00174604, 0.00165055,\n",
       "       0.00156863, 0.00150016, 0.00144498, 0.00140289, 0.00137368,\n",
       "       0.0013571 , 0.00135287, 0.0013607 , 0.00138027, 0.00141125,\n",
       "       0.00145326, 0.00150593, 0.00156884, 0.00164155, 0.0017236 ,\n",
       "       0.00181449, 0.00191369, 0.00202064, 0.00213475, 0.00225538,\n",
       "       0.00238186, 0.0025135 , 0.00264955, 0.00278926, 0.0029318 ,\n",
       "       0.00307637, 0.00322211, 0.00336815, 0.00351361, 0.00365761,\n",
       "       0.00379925, 0.00393768, 0.00407202, 0.00420144, 0.00432517,\n",
       "       0.00444244, 0.00455256, 0.00465491, 0.00474894, 0.00483418,\n",
       "       0.00491026, 0.0049769 , 0.00503395, 0.00508135, 0.00511917,\n",
       "       0.00514762, 0.00516703, 0.00517785, 0.00518067, 0.00517621,\n",
       "       0.00516534, 0.00514902, 0.00512835, 0.00510455, 0.00507895,\n",
       "       0.00505297, 0.00502811, 0.00500599, 0.00498824, 0.00497659,\n",
       "       0.00497279, 0.00497861, 0.00499585, 0.00502628, 0.00507166,\n",
       "       0.00513371, 0.00521408, 0.00531436, 0.00543604, 0.0055805 ,\n",
       "       0.005749  , 0.00594264, 0.00616239, 0.00640902, 0.00668314,\n",
       "       0.00698512, 0.00731515, 0.0076732 , 0.00805898, 0.00847199,\n",
       "       0.00891147, 0.00937644, 0.00986564, 0.0103776 , 0.01091059,\n",
       "       0.01146265, 0.01203162, 0.01261508, 0.01321048, 0.01381503,\n",
       "       0.01442584, 0.01503983, 0.01565383, 0.0162646 , 0.01686883,\n",
       "       0.01746314, 0.01804421, 0.01860872, 0.01915341, 0.01967513,\n",
       "       0.02017082, 0.02063762, 0.02107281, 0.02147389, 0.02183862,\n",
       "       0.02216499, 0.02245127, 0.02269604, 0.02289819, 0.02305691,\n",
       "       0.02317176, 0.0232426 , 0.02326964, 0.02325344, 0.02319485,\n",
       "       0.02309509, 0.02295563, 0.02277827, 0.02256507, 0.02231833,\n",
       "       0.02204059, 0.02173459, 0.02140321, 0.02104951, 0.02067665,\n",
       "       0.02028786, 0.01988642, 0.01947565, 0.01905882, 0.01863918,\n",
       "       0.01821989, 0.01780403, 0.01739451, 0.01699414, 0.01660549,\n",
       "       0.016231  , 0.01587283, 0.01553293, 0.01521303, 0.01491457,\n",
       "       0.01463875, 0.01438647, 0.0141584 , 0.01395491, 0.01377614,\n",
       "       0.01362193, 0.0134919 , 0.01338542, 0.01330164, 0.0132395 ,\n",
       "       0.01319774, 0.01317495, 0.01316955, 0.01317982, 0.01320395,\n",
       "       0.01324004, 0.01328611, 0.01334016, 0.01340018, 0.01346412,\n",
       "       0.01353001, 0.0135959 , 0.01365992, 0.01372027, 0.01377527,\n",
       "       0.01382335, 0.01386309, 0.0138932 , 0.01391255, 0.01392018,\n",
       "       0.01391531, 0.01389731, 0.01386576, 0.01382042, 0.01376121,\n",
       "       0.01368825, 0.01360184, 0.01350244, 0.01339067, 0.01326733,\n",
       "       0.01313334, 0.01298979, 0.01283788, 0.01267892, 0.01251433,\n",
       "       0.01234565, 0.01217444, 0.01200239, 0.01183119, 0.01166258,\n",
       "       0.01149835, 0.01134026, 0.01119008, 0.01104958, 0.01092047,\n",
       "       0.01080444, 0.0107031 , 0.01061802, 0.01055067, 0.01050244,\n",
       "       0.01047463, 0.01046844, 0.01048493, 0.01052506, 0.01058969,\n",
       "       0.01067952, 0.01079514, 0.010937  , 0.01110542, 0.01130059,\n",
       "       0.01152258, 0.01177131, 0.01204661, 0.01234816, 0.01267554,\n",
       "       0.01302823, 0.01340558, 0.01380687, 0.01423128, 0.01467793,\n",
       "       0.01514584, 0.01563398, 0.01614128, 0.01666658, 0.01720873,\n",
       "       0.01776652, 0.01833871, 0.01892407, 0.01952134, 0.02012926,\n",
       "       0.02074659, 0.02137208, 0.02200451, 0.02264267, 0.02328539,\n",
       "       0.02393152, 0.02457996, 0.02522964, 0.02587954, 0.02652871,\n",
       "       0.02717619, 0.02782114, 0.02846277, 0.02910034, 0.02973319,\n",
       "       0.03036071, 0.0309824 , 0.03159781, 0.03220659, 0.03280844,\n",
       "       0.03340319, 0.03399072, 0.03457101, 0.03514414, 0.03571025,\n",
       "       0.03626959, 0.0368225 , 0.03736938, 0.03791072, 0.03844709,\n",
       "       0.03897915, 0.03950758, 0.04003318, 0.04055676, 0.04107918,\n",
       "       0.04160136, 0.04212424, 0.04264879, 0.04317598, 0.0437068 ,\n",
       "       0.04424223, 0.04478322, 0.04533072, 0.04588563, 0.04644883,\n",
       "       0.04702113, 0.04760329, 0.04819602, 0.04879993, 0.04941557,\n",
       "       0.05004341, 0.0506838 , 0.05133704, 0.05200328, 0.05268258,\n",
       "       0.05337491, 0.0540801 , 0.05479786, 0.05552778, 0.05626935,\n",
       "       0.05702188, 0.05778459, 0.05855656, 0.05933673, 0.06012389,\n",
       "       0.06091676, 0.06171384, 0.06251356, 0.06331423, 0.06411404,\n",
       "       0.06491105, 0.06570325, 0.06648855, 0.06726476, 0.06802966,\n",
       "       0.068781  , 0.06951648, 0.07023384, 0.07093084, 0.07160528,\n",
       "       0.07225506, 0.07287815, 0.0734727 , 0.07403699, 0.07456949,\n",
       "       0.07506887, 0.07553405, 0.07596421, 0.07635879, 0.07671754,\n",
       "       0.07704048, 0.07732799, 0.07758074, 0.07779973, 0.07798629,\n",
       "       0.07814203, 0.07826889, 0.07836907, 0.07844503, 0.07849946,\n",
       "       0.07853526, 0.07855547, 0.07856328, 0.07856197, 0.07855485,\n",
       "       0.07854525, 0.07853643, 0.07853159, 0.07853379, 0.07854591,\n",
       "       0.07857064, 0.0786104 , 0.07866734, 0.07874328, 0.07883972,\n",
       "       0.07895781, 0.0790983 , 0.07926159, 0.07944769, 0.07965623,\n",
       "       0.07988645, 0.08013727, 0.08040724, 0.08069462, 0.08099738,\n",
       "       0.08131324, 0.0816397 , 0.0819741 , 0.08231364, 0.08265542,\n",
       "       0.08299651, 0.08333398, 0.08366492, 0.0839865 , 0.08429602,\n",
       "       0.08459094, 0.08486888, 0.08512768, 0.08536542, 0.08558044,\n",
       "       0.08577134, 0.08593701, 0.08607659, 0.08618955, 0.0862756 ,\n",
       "       0.08633473, 0.08636719, 0.08637344, 0.08635418, 0.08631028,\n",
       "       0.08624278, 0.08615287, 0.08604182, 0.08591099, 0.08576178,\n",
       "       0.08559562, 0.08541391, 0.08521804, 0.08500929, 0.08478893,\n",
       "       0.08455805, 0.08431768, 0.08406869, 0.08381182, 0.08354767,\n",
       "       0.08327669, 0.08299917, 0.0827153 , 0.08242509, 0.08212849,\n",
       "       0.08182527, 0.08151519, 0.08119789, 0.080873  , 0.08054007,\n",
       "       0.08019872, 0.07984851, 0.0794891 , 0.07912021, 0.07874166,\n",
       "       0.07835331, 0.07795523, 0.07754756, 0.07713068, 0.07670504,\n",
       "       0.07627137, 0.0758305 , 0.07538349, 0.07493155, 0.07447612,\n",
       "       0.07401872, 0.07356114, 0.0731052 , 0.07265295, 0.07220644,\n",
       "       0.07176789, 0.07133951, 0.07092361, 0.07052242, 0.07013824,\n",
       "       0.06977321, 0.0694295 , 0.06910908, 0.06881386, 0.06854554,\n",
       "       0.06830569, 0.06809565, 0.06791657, 0.06776936, 0.06765473,\n",
       "       0.06757312, 0.06752476, 0.06750964, 0.0675275 , 0.0675779 ,\n",
       "       0.06766017, 0.06777347, 0.06791678, 0.06808896, 0.06828871,\n",
       "       0.06851466, 0.06876536, 0.06903933, 0.06933504, 0.06965101,\n",
       "       0.06998575, 0.07033784, 0.0707059 , 0.0710887 , 0.07148505,\n",
       "       0.07189393, 0.07231437, 0.07274559, 0.07318687, 0.07363768,\n",
       "       0.07409751, 0.07456605, 0.07504299, 0.07552816, 0.07602137,\n",
       "       0.07652256, 0.07703158, 0.07754837, 0.07807274, 0.07860455,\n",
       "       0.07914349, 0.07968928, 0.08024142, 0.0807994 , 0.0813625 ,\n",
       "       0.08192995, 0.08250078, 0.08307398, 0.0836483 , 0.08422251,\n",
       "       0.08479517, 0.08536488, 0.08593007, 0.08648925, 0.08704082,\n",
       "       0.08758334, 0.08811529, 0.08863538, 0.08914234, 0.08963515,\n",
       "       0.09011288, 0.09057495, 0.0910209 , 0.09145064, 0.09186428,\n",
       "       0.09226233, 0.09264553, 0.09301499, 0.09337211, 0.09371859,\n",
       "       0.09405644, 0.09438794, 0.0947156 , 0.09504219, 0.09537059,\n",
       "       0.09570389, 0.0960452 , 0.09639775, 0.09676469, 0.09714919,\n",
       "       0.09755421, 0.09798266, 0.09843711, 0.09891997, 0.09943325,\n",
       "       0.09997868, 0.10055751, 0.10117064, 0.10181842, 0.10250083,\n",
       "       0.10321723, 0.10396661, 0.10474733, 0.10555738, 0.10639414,\n",
       "       0.10725468, 0.10813549, 0.10903284, 0.10994247, 0.11086   ,\n",
       "       0.11178064, 0.11269956, 0.11361165, 0.11451188, 0.11539508,\n",
       "       0.11625626, 0.11709042, 0.11789289, 0.11865908, 0.11938485,\n",
       "       0.12006625, 0.12069988, 0.12128262, 0.12181196, 0.12228575,\n",
       "       0.12270246, 0.12306103, 0.12336095, 0.12360224, 0.12378546,\n",
       "       0.12391167, 0.12398242, 0.12399973, 0.12396602, 0.12388413,\n",
       "       0.12375721, 0.12358875, 0.12338243, 0.12314217, 0.12287199,\n",
       "       0.12257602, 0.12225839, 0.12192322, 0.12157452, 0.12121622,\n",
       "       0.12085199, 0.12048535, 0.1201195 , 0.11975739, 0.11940158,\n",
       "       0.11905432, 0.11871746, 0.11839248, 0.11808043, 0.11778201,\n",
       "       0.11749747, 0.11722673, 0.11696928, 0.11672431, 0.11649063,\n",
       "       0.11626681, 0.11605107, 0.11584148, 0.11563584, 0.11543185,\n",
       "       0.11522703, 0.11501889, 0.11480484, 0.11458237, 0.11434894,\n",
       "       0.11410217, 0.11383977, 0.11355963, 0.11325981, 0.11293868,\n",
       "       0.11259476, 0.11222698, 0.11183445, 0.11141673, 0.11097361,\n",
       "       0.11050533, 0.1100124 , 0.10949574, 0.10895662, 0.10839669,\n",
       "       0.10781784, 0.10722241, 0.10661293, 0.10599234, 0.1053637 ,\n",
       "       0.10473046, 0.10409611, 0.10346445, 0.1028393 , 0.10222467,\n",
       "       0.10162453, 0.10104297, 0.10048394, 0.09995143, 0.09944921,\n",
       "       0.098981  , 0.09855024, 0.09816022, 0.09781388, 0.09751391,\n",
       "       0.09726263, 0.09706202, 0.09691362, 0.0968186 , 0.09677766,\n",
       "       0.09679104, 0.09685853, 0.09697945, 0.09715265, 0.09737646,\n",
       "       0.09764884, 0.09796719, 0.09832857, 0.09872956, 0.09916641,\n",
       "       0.09963495, 0.10013077, 0.10064908, 0.10118495, 0.10173313,\n",
       "       0.10228834, 0.10284508, 0.10339788, 0.10394117, 0.1044695 ,\n",
       "       0.10497746, 0.10545976, 0.10591128, 0.10632719, 0.10670284,\n",
       "       0.10703396, 0.10731652, 0.10754695, 0.107722  , 0.1078389 ,\n",
       "       0.10789528, 0.10788922, 0.10781929, 0.10768448, 0.1074843 ,\n",
       "       0.10721868, 0.10688805, 0.1064932 , 0.10603547, 0.10551647,\n",
       "       0.10493832, 0.10430337, 0.10361443, 0.10287446, 0.10208684,\n",
       "       0.101255  , 0.10038276, 0.0994739 , 0.0985325 , 0.09756256,\n",
       "       0.09656829, 0.09555376, 0.0945232 , 0.0934806 , 0.09243011,\n",
       "       0.09137555, 0.09032084, 0.08926958, 0.08822542, 0.08719164,\n",
       "       0.08617157, 0.08516815, 0.08418436, 0.08322283, 0.08228617,\n",
       "       0.0813767 , 0.08049671, 0.07964822, 0.07883325, 0.07805364,\n",
       "       0.07731118, 0.07660748, 0.07594421, 0.07532285, 0.07474497,\n",
       "       0.07421201, 0.07372546, 0.07328674, 0.07289733, 0.07255862,\n",
       "       0.07227209, 0.07203912, 0.07186114, 0.07173951, 0.07167556,\n",
       "       0.07167055, 0.07172569, 0.07184205, 0.07202058, 0.07226212,\n",
       "       0.07256725, 0.07293643, 0.07336981, 0.07386734, 0.07442862,\n",
       "       0.07505302, 0.07573947, 0.07648667, 0.07729283, 0.07815591,\n",
       "       0.07907336, 0.08004239, 0.08105965, 0.08212163, 0.08322424,\n",
       "       0.08436327, 0.08553398, 0.08673156, 0.08795071, 0.08918617,\n",
       "       0.09043224, 0.09168336, 0.0929336 , 0.09417727, 0.09540844,\n",
       "       0.09662146, 0.09781064, 0.09897048, 0.10009566, 0.10118125,\n",
       "       0.10222242, 0.10321486, 0.10415443, 0.10503761, 0.10586109,\n",
       "       0.1066222 , 0.10731859, 0.10794852, 0.10851062, 0.10900415,\n",
       "       0.10942873, 0.10978458, 0.11007233, 0.11029313, 0.11044855,\n",
       "       0.11054059, 0.11057167, 0.11054457, 0.11046244, 0.11032871,\n",
       "       0.11014715, 0.10992171, 0.10965659, 0.10935619, 0.10902495,\n",
       "       0.10866749, 0.10828847, 0.10789262, 0.10748451, 0.10706879,\n",
       "       0.10665001, 0.10623262, 0.10582079, 0.10541865, 0.1050301 ,\n",
       "       0.1046588 , 0.10430809, 0.10398112, 0.10368073, 0.10340945,\n",
       "       0.10316943, 0.10296255, 0.10279035, 0.10265399, 0.10255428,\n",
       "       0.1024917 , 0.10246637, 0.10247805, 0.10252618, 0.10260984,\n",
       "       0.10272782, 0.10287854, 0.1030602 , 0.10327066, 0.10350751,\n",
       "       0.10376808, 0.10404953, 0.10434872, 0.10466235, 0.1049869 ,\n",
       "       0.10531878, 0.1056542 , 0.10598924, 0.10631988, 0.1066421 ,\n",
       "       0.10695176, 0.1072447 , 0.10751672, 0.10776373, 0.10798159,\n",
       "       0.10816622, 0.10831366, 0.10842005, 0.10848165, 0.10849485,\n",
       "       0.10845626, 0.10836265, 0.10821105, 0.10799873, 0.10772325,\n",
       "       0.10738241, 0.10697438, 0.10649768, 0.10595121, 0.10533412,\n",
       "       0.10464612, 0.10388725, 0.10305811, 0.10215945, 0.10119274,\n",
       "       0.10015978, 0.09906297, 0.09790481, 0.09668857, 0.09541781,\n",
       "       0.09409666, 0.09272926, 0.09132046, 0.08987537, 0.0883995 ,\n",
       "       0.08689824, 0.08537762, 0.08384371, 0.08230291, 0.08076123,\n",
       "       0.07922521, 0.07770125, 0.07619582, 0.0747149 , 0.07326475,\n",
       "       0.07185132, 0.07048046, 0.06915734, 0.06788726, 0.06667501,\n",
       "       0.06552516, 0.06444151, 0.06342782, 0.06248726, 0.06162264,\n",
       "       0.06083606, 0.0601294 , 0.05950398, 0.05896067, 0.05849975,\n",
       "       0.05812116, 0.05782436, 0.05760834, 0.05747165, 0.05741246,\n",
       "       0.05742851, 0.05751719, 0.05767551, 0.05790015, 0.05818747,\n",
       "       0.05853349, 0.05893408, 0.05938475, 0.0598808 , 0.06041729,\n",
       "       0.06098926, 0.06159142, 0.06221845, 0.06286481, 0.06352511,\n",
       "       0.06419373, 0.0648651 , 0.06553359, 0.06619382, 0.06684032,\n",
       "       0.06746779, 0.06807103, 0.0686452 , 0.06918552, 0.06968753,\n",
       "       0.07014701, 0.07056022, 0.07092361, 0.07123409, 0.07148895,\n",
       "       0.07168599, 0.07182337, 0.07189975, 0.07191426, 0.0718665 ,\n",
       "       0.07175656, 0.07158496, 0.07135273, 0.07106125, 0.07071237,\n",
       "       0.07030829, 0.06985162, 0.06934508, 0.06879193, 0.06819548,\n",
       "       0.06755929, 0.0668869 , 0.06618208, 0.06544858, 0.06469019,\n",
       "       0.06391044, 0.06311294, 0.06230111, 0.06147827, 0.06064726,\n",
       "       0.05981096, 0.05897189, 0.05813241, 0.05729434, 0.05645947,\n",
       "       0.05562926, 0.05480496, 0.05398736, 0.05317723, 0.05237508,\n",
       "       0.05158131, 0.05079594, 0.05001912, 0.0492508 , 0.04849099,\n",
       "       0.04773942, 0.04699608, 0.04626091, 0.04553398, 0.04481524,\n",
       "       0.04410496, 0.04340346, 0.04271124, 0.04202878, 0.04135685,\n",
       "       0.04069633, 0.04004829, 0.03941372, 0.03879392, 0.03819022,\n",
       "       0.03760405, 0.03703676, 0.03648987, 0.03596484, 0.03546314])"
      ]
     },
     "execution_count": 13,
     "metadata": {},
     "output_type": "execute_result"
    }
   ],
   "source": [
    "probabilities_exp[2000:3000]"
   ]
  },
  {
   "cell_type": "markdown",
   "id": "ead01f2a",
   "metadata": {},
   "source": [
    "## Probabilities_exp adds up to 1.0  (Unknown error PDF)\n",
    "\n",
    "* (unknown error vector size 4000)\n",
    "* this vector is what compared to impulse vector of size 4000"
   ]
  },
  {
   "cell_type": "code",
   "execution_count": 14,
   "id": "dbe2129e",
   "metadata": {},
   "outputs": [
    {
     "data": {
      "text/plain": [
       "99.99999672042615"
      ]
     },
     "execution_count": 14,
     "metadata": {},
     "output_type": "execute_result"
    }
   ],
   "source": [
    "sum(probabilities_exp)"
   ]
  },
  {
   "cell_type": "markdown",
   "id": "abea0a6e",
   "metadata": {},
   "source": [
    "## Impulse function \n",
    "\n",
    "* the produced vector of size 4000 is basically a constant of vector size 4000"
   ]
  },
  {
   "cell_type": "code",
   "execution_count": 15,
   "id": "98a7754c",
   "metadata": {},
   "outputs": [],
   "source": [
    "\n",
    "def ImpulseGaussian(x, mu, sigma): \n",
    "   \n",
    "    left  = 1 / (    torch.sqrt(   2 * torch.tensor(math.pi)   ) * torch.sqrt(torch.tensor(sigma) )    )\n",
    "    \n",
    "    right = torch.exp(   -(x - mu)**2 / (2 * sigma)    )\n",
    "    \n",
    "    vector_vals = left * right\n",
    "    \n",
    "    return vector_vals         ## .unsqueeze(0)\n"
   ]
  },
  {
   "cell_type": "code",
   "execution_count": 16,
   "id": "dcaeecee",
   "metadata": {},
   "outputs": [],
   "source": [
    "\n",
    "mean_impulse    = 0.0\n",
    "std_impulse     = 0.01\n"
   ]
  },
  {
   "cell_type": "code",
   "execution_count": 17,
   "id": "03cd2dfb",
   "metadata": {},
   "outputs": [],
   "source": [
    "\n",
    "impulseFunc = ImpulseGaussian(x, mean_impulse, std_impulse**2)  \n"
   ]
  },
  {
   "cell_type": "code",
   "execution_count": 18,
   "id": "ce5b169e",
   "metadata": {},
   "outputs": [
    {
     "data": {
      "text/plain": [
       "torch.Size([4000, 1])"
      ]
     },
     "execution_count": 18,
     "metadata": {},
     "output_type": "execute_result"
    }
   ],
   "source": [
    "impulseFunc.shape"
   ]
  },
  {
   "cell_type": "code",
   "execution_count": 19,
   "id": "73465003",
   "metadata": {},
   "outputs": [
    {
     "data": {
      "image/png": "[encoded data removed]",
      "text/plain": [
       "<Figure size 432x288 with 1 Axes>"
      ]
     },
     "metadata": {
      "needs_background": "light"
     },
     "output_type": "display_data"
    }
   ],
   "source": [
    "\n",
    "plt.plot(x, impulseFunc)\n",
    "plt.show()\n"
   ]
  },
  {
   "cell_type": "markdown",
   "id": "5305d803",
   "metadata": {},
   "source": [
    "## Impulse function vector of size 4000 adds up to 1.0 "
   ]
  },
  {
   "cell_type": "code",
   "execution_count": 20,
   "id": "9f33c511",
   "metadata": {},
   "outputs": [],
   "source": [
    "## impulseFunc = impulseFunc/100.0"
   ]
  },
  {
   "cell_type": "code",
   "execution_count": 21,
   "id": "9d6ebc18",
   "metadata": {},
   "outputs": [
    {
     "data": {
      "text/plain": [
       "tensor([100.0000])"
      ]
     },
     "execution_count": 21,
     "metadata": {},
     "output_type": "execute_result"
    }
   ],
   "source": [
    "sum(impulseFunc)"
   ]
  },
  {
   "cell_type": "code",
   "execution_count": 22,
   "id": "caf98acc",
   "metadata": {},
   "outputs": [
    {
     "data": {
      "text/plain": [
       "tensor([[0.],\n",
       "        [0.],\n",
       "        [0.],\n",
       "        ...,\n",
       "        [0.],\n",
       "        [0.],\n",
       "        [0.]])"
      ]
     },
     "execution_count": 22,
     "metadata": {},
     "output_type": "execute_result"
    }
   ],
   "source": [
    "impulseFunc"
   ]
  },
  {
   "cell_type": "code",
   "execution_count": 23,
   "id": "735eb1dc",
   "metadata": {},
   "outputs": [
    {
     "data": {
      "text/plain": [
       "tensor([[    0.0000],\n",
       "        [    0.0000],\n",
       "        [    0.0000],\n",
       "        [    0.0000],\n",
       "        [    0.0000],\n",
       "        [    0.0000],\n",
       "        [    0.0000],\n",
       "        [    0.0000],\n",
       "        [    0.0000],\n",
       "        [    0.0000],\n",
       "        [    0.0000],\n",
       "        [    0.0000],\n",
       "        [    0.0000],\n",
       "        [    0.0000],\n",
       "        [    0.0000],\n",
       "        [    0.0000],\n",
       "        [    0.0000],\n",
       "        [    0.0000],\n",
       "        [    0.0000],\n",
       "        [    0.0000],\n",
       "        [    0.0000],\n",
       "        [    0.0000],\n",
       "        [    0.0000],\n",
       "        [    0.0000],\n",
       "        [    0.0000],\n",
       "        [    0.0001],\n",
       "        [    0.0134],\n",
       "        [    0.4432],\n",
       "        [    5.3991],\n",
       "        [   24.1971],\n",
       "        [   39.8942],\n",
       "        [   24.1971],\n",
       "        [    5.3991],\n",
       "        [    0.4432],\n",
       "        [    0.0134],\n",
       "        [    0.0001],\n",
       "        [    0.0000],\n",
       "        [    0.0000],\n",
       "        [    0.0000],\n",
       "        [    0.0000],\n",
       "        [    0.0000],\n",
       "        [    0.0000],\n",
       "        [    0.0000],\n",
       "        [    0.0000],\n",
       "        [    0.0000],\n",
       "        [    0.0000],\n",
       "        [    0.0000],\n",
       "        [    0.0000],\n",
       "        [    0.0000],\n",
       "        [    0.0000],\n",
       "        [    0.0000],\n",
       "        [    0.0000],\n",
       "        [    0.0000],\n",
       "        [    0.0000],\n",
       "        [    0.0000],\n",
       "        [    0.0000],\n",
       "        [    0.0000],\n",
       "        [    0.0000],\n",
       "        [    0.0000],\n",
       "        [    0.0000]])"
      ]
     },
     "execution_count": 23,
     "metadata": {},
     "output_type": "execute_result"
    }
   ],
   "source": [
    "impulseFunc[1970:2030]"
   ]
  },
  {
   "cell_type": "code",
   "execution_count": null,
   "id": "3d389513",
   "metadata": {},
   "outputs": [],
   "source": []
  },
  {
   "cell_type": "code",
   "execution_count": null,
   "id": "25a7b9bd",
   "metadata": {},
   "outputs": [],
   "source": []
  }
 ],
 "metadata": {
  "kernelspec": {
   "display_name": "Python 3 (ipykernel)",
   "language": "python",
   "name": "python3"
  },
  "language_info": {
   "codemirror_mode": {
    "name": "ipython",
    "version": 3
   },
   "file_extension": ".py",
   "mimetype": "text/x-python",
   "name": "python",
   "nbconvert_exporter": "python",
   "pygments_lexer": "ipython3",
   "version": "3.8.13"
  }
 },
 "nbformat": 4,
 "nbformat_minor": 5
}
