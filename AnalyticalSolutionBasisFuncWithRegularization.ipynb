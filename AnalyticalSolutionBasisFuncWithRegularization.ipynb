{
 "cells": [
  {
   "cell_type": "markdown",
   "id": "6c0dcbdd",
   "metadata": {},
   "source": [
    "This notebook uses the analytical solution to linear regression\n",
    "\n",
    "$ \\theta = (X^{T} X)^{-1} X^{T} y $"
   ]
  },
  {
   "cell_type": "code",
   "execution_count": 28,
   "id": "867ce169",
   "metadata": {},
   "outputs": [],
   "source": [
    "################################################\n",
    "## Improve your linear regression with basis\n",
    "## functions and regularization\n",
    "##\n",
    "##\n",
    "################################################\n",
    "\n",
    "import numpy as np\n",
    "\n",
    "################################################\n",
    "\n",
    "M_basis = 4            ## number of basis to use\n",
    "\n",
    "lambd = 0.00001        ## regularization parameter\n",
    "\n",
    "\n"
   ]
  },
  {
   "cell_type": "markdown",
   "id": "761f0783",
   "metadata": {},
   "source": [
    "The following is the gaussian basis function\n",
    "\n",
    "\n",
    "\n",
    "$ \\large \\phi _{i} (x) = e^{- \\gamma_{i} \\lVert \\mu _{i} - x \\rVert _{2} ^{2} }  $    \n"
   ]
  },
  {
   "cell_type": "code",
   "execution_count": 29,
   "id": "ca746dd8",
   "metadata": {},
   "outputs": [],
   "source": [
    "################################################\n",
    "## np.linalg.norm    ->     norm\n",
    "\n",
    "def gaussian_basis(x, mu, gamma=1):\n",
    "    return np.exp(-gamma * np.linalg.norm(mu-x)**2)\n",
    "\n"
   ]
  },
  {
   "cell_type": "markdown",
   "id": "9cd7665b",
   "metadata": {},
   "source": [
    "The data"
   ]
  },
  {
   "cell_type": "code",
   "execution_count": 30,
   "id": "e17b33c5",
   "metadata": {},
   "outputs": [
    {
     "name": "stdout",
     "output_type": "stream",
     "text": [
      "(11, 4)\n",
      "[[1.         0.36787944 0.20961139 0.10539922]\n",
      " [1.         0.52729242 0.33203995 0.18451952]\n",
      " [1.         0.69767633 0.4855369  0.29819728]\n",
      " [1.         0.85214379 0.65540625 0.44485807]\n",
      " [1.         0.96078944 0.81668648 0.61262639]\n",
      " [1.         1.         0.93941306 0.77880078]\n",
      " [1.         0.96078944 0.99750312 0.91393119]\n",
      " [1.         0.85214379 0.97775124 0.99004983]\n",
      " [1.         0.69767633 0.8847059  0.99004983]\n",
      " [1.         0.52729242 0.73896849 0.91393119]\n",
      " [1.         0.36787944 0.56978282 0.77880078]]\n"
     ]
    }
   ],
   "source": [
    "################################################\n",
    "## data \n",
    "\n",
    "x = np.array(  [-1,   -0.8, -0.6, -0.4, -0.2,    0,  0.2, 0.4, 0.6, 0.8,   1]  )\n",
    "\n",
    "t = np.array(  [-4.9, -3.5, -2.8,  0.8,  0.3, -1.6, -1.3, 0.5, 2.1, 2.9, 5.6]    )\n",
    "\n",
    "################################################\n",
    "## calculate matrix Phi\n",
    "\n",
    "Phi = np.ones(   (t.shape[0], M_basis)   )\n",
    "print(Phi.shape)\n",
    "\n",
    "for m in range(M_basis-1):\n",
    "    mu = m/M_basis\n",
    "    Phi[:, m+1] = np.vectorize(gaussian_basis)(x, mu)\n",
    "    \n",
    "print(Phi)\n",
    "\n",
    "    \n",
    "################################################"
   ]
  },
  {
   "cell_type": "markdown",
   "id": "0adbc6fa",
   "metadata": {},
   "source": [
    "Normal Linear Regression\n",
    "\n",
    "\n",
    "$ h(x, w) = w^T x $\n",
    "\n",
    "    \n",
    "\n",
    "Linear Regression with basis functions\n",
    "\n",
    "\n",
    "$ h(x, w) = w_{0} \\phi_{0}(x) + ... + w_{M-1} \\phi_{M-1}(x) $ \n",
    "\n",
    "\n",
    "<br/>\n",
    "\n",
    "\n",
    "$ h(x, w) = \\sum \\limits _{m=0} ^{M-1} w_{m} \\phi_{m}(x)  $ \n",
    "\n",
    "<br/>\n",
    "\n",
    "$ h(x, w) = w^T \\phi (x) $\n"
   ]
  },
  {
   "cell_type": "code",
   "execution_count": 31,
   "id": "4cf82fb6",
   "metadata": {},
   "outputs": [
    {
     "name": "stdout",
     "output_type": "stream",
     "text": [
      "[ -18.08330188  125.73936387 -230.07785175  137.65059622]\n",
      "0.9397171260456706\n"
     ]
    }
   ],
   "source": [
    "w = np.linalg.inv(Phi.T @ Phi) @ Phi.T @ t\n",
    "\n",
    "print(w)\n",
    "\n",
    "alpha = sum((t - Phi @ w)**2) / len(t)\n",
    "\n",
    "print(alpha)"
   ]
  },
  {
   "cell_type": "code",
   "execution_count": null,
   "id": "81763aad",
   "metadata": {},
   "outputs": [],
   "source": []
  },
  {
   "cell_type": "markdown",
   "id": "de04e1d6",
   "metadata": {},
   "source": [
    "Linear regression with basis functions and normalization\n",
    "\n",
    "<br/>\n",
    "\n",
    "\n",
    "$ E(w) = \\sum \\limits _{i=1} ^{N} ( t_{n} - w^T \\phi(x_i) )^2 + \\lambda \\sum \\limits _{j=0} ^{M-1} | w_{j} | ^{q} $ \n",
    "\n",
    "<br/>\n",
    "\n",
    "q can be 1 or 2 \n"
   ]
  },
  {
   "cell_type": "code",
   "execution_count": 32,
   "id": "4aa6ffed",
   "metadata": {},
   "outputs": [
    {
     "name": "stdout",
     "output_type": "stream",
     "text": [
      "[ -17.52389644  121.36512632 -222.40282234  133.31883125]\n",
      "0.9422854323201991\n"
     ]
    }
   ],
   "source": [
    "w = np.linalg.inv(lambd * np.identity(M_basis) + Phi.T @ Phi) @ Phi.T @ t      ## added regularization parameter\n",
    "\n",
    "print(w)\n",
    "\n",
    "alpha = sum((t - Phi @ w)**2) / len(t)\n",
    "\n",
    "print(alpha)"
   ]
  },
  {
   "cell_type": "code",
   "execution_count": null,
   "id": "e785d791",
   "metadata": {},
   "outputs": [],
   "source": []
  },
  {
   "cell_type": "code",
   "execution_count": null,
   "id": "dc8537b9",
   "metadata": {},
   "outputs": [],
   "source": []
  }
 ],
 "metadata": {
  "kernelspec": {
   "display_name": "Python 3 (ipykernel)",
   "language": "python",
   "name": "python3"
  },
  "language_info": {
   "codemirror_mode": {
    "name": "ipython",
    "version": 3
   },
   "file_extension": ".py",
   "mimetype": "text/x-python",
   "name": "python",
   "nbconvert_exporter": "python",
   "pygments_lexer": "ipython3",
   "version": "3.8.13"
  }
 },
 "nbformat": 4,
 "nbformat_minor": 5
}
