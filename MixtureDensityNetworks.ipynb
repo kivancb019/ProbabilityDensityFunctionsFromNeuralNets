{
 "cells": [
  {
   "cell_type": "markdown",
   "id": "6df7d2be",
   "metadata": {},
   "source": [
    "\n",
    "## Mixture Density Networks\n",
    "\n",
    "This technique was proposed by Christopher M. Bishop in 1994. It is a type of PDF shaping regression technique using gaussian distributions only. \n",
    "\n",
    "The paper: https://publications.aston.ac.uk/id/eprint/373/1/NCRG_94_004.pdf\n",
    "\n"
   ]
  },
  {
   "cell_type": "code",
   "execution_count": null,
   "id": "67ee8286",
   "metadata": {},
   "outputs": [],
   "source": [
    "##############################################################\n",
    "## \n",
    "## Mixture Density Networks (MDN)\n",
    "##\n",
    "## 2022\n",
    "## \n",
    "##############################################################\n",
    "\n",
    "import torch\n",
    "import numpy as np\n",
    "import pandas as pd\n",
    "import seaborn as sns\n",
    "import matplotlib.pyplot as plt\n",
    "\n",
    "from sklearn.utils import shuffle\n",
    "\n",
    "###############################################################\n",
    "\n",
    "epochs = 500\n",
    "batch_size = 50\n",
    "learning_rate = 0.0003\n",
    "sigma_0 = 0.1\n",
    "samples = 50\n",
    "display_step = 50\n",
    "\n",
    "###############################################################\n",
    "\n"
   ]
  },
  {
   "cell_type": "markdown",
   "id": "bd53ee9f",
   "metadata": {},
   "source": [
    "## The Probability Density Function of the Normal Distribution\n",
    "\n",
    "<br/>\n",
    "\n",
    "<center>\n",
    "    \n",
    "$ \\large p(x) = \\frac{1}{\\sqrt{2 \\pi \\sigma ^2}} e^{- \\frac{(x - \\mu)^2}{2 \\sigma ^2}} $\n",
    "    \n",
    "</center>\n",
    "\n",
    "<br/>"
   ]
  },
  {
   "cell_type": "code",
   "execution_count": 34,
   "id": "6dcfd541",
   "metadata": {},
   "outputs": [
    {
     "name": "stdout",
     "output_type": "stream",
     "text": [
      "0.000512634165158752\n",
      "0.004507890676188384\n",
      "[0.04993575 0.04993575 0.199743   0.399486   0.2996145  0.64916474\n",
      " 0.84890774 1.19845799 1.79768698 2.19717297 2.59665897 3.84505271\n",
      " 3.64530971 3.99485995 3.74518121 4.5441532  3.84505271 3.99485995\n",
      " 2.99614497 1.94749423 2.29704447 1.54800823 0.99871499 0.79897199\n",
      " 0.64916474 0.0998715  0.399486   0.0998715  0.14980725 0.04993575]\n",
      "[-0.29596338 -0.27593765 -0.25591191 -0.23588618 -0.21586045 -0.19583471\n",
      " -0.17580898 -0.15578325 -0.13575751 -0.11573178 -0.09570605 -0.07568031\n",
      " -0.05565458 -0.03562885 -0.01560311  0.00442262  0.02444835  0.04447409\n",
      "  0.06449982  0.08452555  0.10455129  0.12457702  0.14460275  0.16462849\n",
      "  0.18465422  0.20467995  0.22470569  0.24473142  0.26475715  0.28478289\n",
      "  0.30480862]\n",
      "(31,)\n"
     ]
    },
    {
     "data": {
      "image/png": "[encoded data removed]",
      "text/plain": [
       "<Figure size 432x288 with 1 Axes>"
      ]
     },
     "metadata": {
      "needs_background": "light"
     },
     "output_type": "display_data"
    }
   ],
   "source": [
    "\n",
    "\n",
    "mu_rc    = 0         ## zero mean\n",
    "sigma_rc = 0.1       ## standard deviation\n",
    "\n",
    "s_rc = np.random.normal(mu_rc, sigma_rc, 1000)\n",
    "\n",
    "## verify the mean and variance\n",
    "\n",
    "print(  abs(mu_rc     -  np.mean(s_rc))  )\n",
    "print(  abs(sigma_rc  -  np.std(s_rc, ddof=1)))\n",
    "\n",
    "\n",
    "## Display the histogram of the samples, and the PDF function\n",
    "\n",
    "count, bins, ignored = plt.hist(s_rc, 30, density=True)\n",
    "\n",
    "print(count)\n",
    "print(bins)\n",
    "print(bins.shape)\n"
   ]
  },
  {
   "cell_type": "code",
   "execution_count": 35,
   "id": "451a9e16",
   "metadata": {},
   "outputs": [],
   "source": [
    "\n",
    "def gaussian_pdf(x):\n",
    "    return 1/(sigma_rc * np.sqrt(2 * np.pi)) * np.exp( - (x - mu_rc)**2 / (2 * sigma_rc**2))\n"
   ]
  },
  {
   "cell_type": "code",
   "execution_count": 40,
   "id": "28ceffd5",
   "metadata": {},
   "outputs": [
    {
     "data": {
      "text/plain": [
       "[<matplotlib.lines.Line2D at 0x7f8ca14e6940>]"
      ]
     },
     "execution_count": 40,
     "metadata": {},
     "output_type": "execute_result"
    },
    {
     "data": {
      "image/png": "[encoded data removed]",
      "text/plain": [
       "<Figure size 432x288 with 1 Axes>"
      ]
     },
     "metadata": {
      "needs_background": "light"
     },
     "output_type": "display_data"
    }
   ],
   "source": [
    "\n",
    "plt.plot(gaussian_pdf(bins), linewidth=2, color='r')\n"
   ]
  },
  {
   "cell_type": "code",
   "execution_count": 41,
   "id": "696cb08b",
   "metadata": {},
   "outputs": [
    {
     "data": {
      "image/png": "[encoded data removed]",
      "text/plain": [
       "<Figure size 432x288 with 1 Axes>"
      ]
     },
     "metadata": {
      "needs_background": "light"
     },
     "output_type": "display_data"
    }
   ],
   "source": [
    "\n",
    "count, bins, ignored = plt.hist(s_rc, 30, density=True)\n",
    "plt.plot(bins, gaussian_pdf(bins), linewidth=2, color='r')\n",
    "plt.show()\n"
   ]
  },
  {
   "cell_type": "code",
   "execution_count": 42,
   "id": "fd9ac39f",
   "metadata": {},
   "outputs": [],
   "source": [
    "\n",
    "###############################################################\n",
    "\n",
    "def f(x):\n",
    "    return x**2-6*x+9 \n",
    "\n",
    "###############################################################\n",
    "## the sigma*x is what increases the error proportionally as\n",
    "## x grows\n",
    "\n",
    "def data_generator(x, sigma_0, samples):\n",
    "    ##                      mean     standard dev      \n",
    "    return np.random.normal(f(x),    sigma_0*x,     samples)\n"
   ]
  },
  {
   "cell_type": "code",
   "execution_count": null,
   "id": "2b1abaf4",
   "metadata": {},
   "outputs": [],
   "source": []
  },
  {
   "cell_type": "code",
   "execution_count": 43,
   "id": "5a8e09f0",
   "metadata": {},
   "outputs": [
    {
     "data": {
      "text/plain": [
       "'\\n\\ndef mdn_cost(mu, sigma, y):\\n    dist = tfp.distributions.Normal(loc=mu, scale=sigma)\\n    return tf.reduce_mean(-dist.log_prob(y))\\n\\n'"
      ]
     },
     "execution_count": 43,
     "metadata": {},
     "output_type": "execute_result"
    }
   ],
   "source": [
    "\n",
    "\n",
    "\n",
    "###############################################################\n",
    "\n",
    "'''\n",
    "\n",
    "def mdn_cost(mu, sigma, y):\n",
    "    dist = tfp.distributions.Normal(loc=mu, scale=sigma)\n",
    "    return tf.reduce_mean(-dist.log_prob(y))\n",
    "\n",
    "'''\n",
    "###############################################################\n",
    "\n"
   ]
  },
  {
   "cell_type": "markdown",
   "id": "5caee522",
   "metadata": {},
   "source": [
    "## Data x for quadratic curve"
   ]
  },
  {
   "cell_type": "code",
   "execution_count": 44,
   "id": "85ab1dab",
   "metadata": {},
   "outputs": [
    {
     "name": "stdout",
     "output_type": "stream",
     "text": [
      "[1.  1.2 1.4 1.6 1.8 2.  2.2 2.4 2.6 2.8 3.  3.2 3.4 3.6 3.8 4.  4.2 4.4\n",
      " 4.6 4.8 5. ]\n"
     ]
    }
   ],
   "source": [
    "x_vals = np.arange(1, 5.2, 0.2)\n",
    "print(x_vals)"
   ]
  },
  {
   "cell_type": "markdown",
   "id": "523b0932",
   "metadata": {},
   "source": [
    "## Data points for scatter x to y with error"
   ]
  },
  {
   "cell_type": "code",
   "execution_count": 45,
   "id": "f7e22127",
   "metadata": {},
   "outputs": [],
   "source": [
    "\n",
    "\n",
    "x_arr = np.array([])\n",
    "y_arr = np.array([])\n",
    "\n",
    "\n",
    "for x in x_vals:\n",
    "    ## for every sample in x_vals, generate n=50 normal dist samples for y_arr\n",
    "    x_arr = np.append(    x_arr,   np.full(samples, x)                       )\n",
    "    y_arr = np.append(    y_arr,   data_generator(x, sigma_0, samples)       )\n",
    "\n",
    "   \n",
    "    \n",
    "x_arr, y_arr   =   shuffle(x_arr, y_arr)\n",
    "\n",
    "## x_test         =   np.arange( 1.1, 5.1, 0.2)\n",
    "\n",
    "\n"
   ]
  },
  {
   "cell_type": "code",
   "execution_count": 46,
   "id": "fe46af59",
   "metadata": {},
   "outputs": [
    {
     "data": {
      "image/png": "[encoded data removed]",
      "text/plain": [
       "<Figure size 720x720 with 1 Axes>"
      ]
     },
     "metadata": {
      "needs_background": "light"
     },
     "output_type": "display_data"
    }
   ],
   "source": [
    "fig, ax = plt.subplots(figsize=(10,10))\n",
    "plt.grid(True)\n",
    "plt.xlabel('x')\n",
    "plt.ylabel('g(x)')\n",
    "\n",
    "ax.scatter(x_arr,y_arr,label='sampled data')\n",
    "\n",
    "ax.plot( x_vals, list(map(f,x_vals)), c='m', label='f(x)')\n",
    "\n",
    "ax.legend(loc='upper center',fontsize='large',shadow=True)\n",
    "plt.show()"
   ]
  },
  {
   "cell_type": "code",
   "execution_count": null,
   "id": "b9ef7ab4",
   "metadata": {},
   "outputs": [],
   "source": [
    "'''\n",
    "##################################################################\n",
    "\n",
    "\n",
    "\n",
    "\n",
    "model = Sequential()\n",
    "model.add(Dense(12,input_shape=(1,),activation=\"tanh\"))\n",
    "model.add(Dense(12,activation=\"tanh\"))\n",
    "model.add(Dense(1,activation=\"linear\"))\n",
    "adamOptimizer = optimizers.Adam(learning_rate=learning_rate)\n",
    "model.compile(loss='mse',optimizer=adamOptimizer,metrics=['mse'])\n",
    "\n",
    "history_cache = model.fit(x_arr,\n",
    "                          y_arr,\n",
    "                          verbose=0, # write =1 if you wish to see the progress for each epoch\n",
    "                          epochs=epochs,\n",
    "                          batch_size=batch_size)\n",
    "                          \n",
    "                          \n",
    "y_pred = model.predict(x_test)\n",
    "\n",
    "\n",
    "fig, ax = plt.subplots(figsize=(10,10))\n",
    "plt.grid(True)\n",
    "plt.xlabel('x')\n",
    "plt.ylabel('y')\n",
    "ax.scatter(x_arr,y_arr,c='b',label='sampled data')\n",
    "ax.scatter(x_test,y_pred,c='r',label='predicted values')\n",
    "ax.plot(x_vals,list(map(f,x_vals)),c='m',label='f(x)')\n",
    "ax.legend(loc='upper center',fontsize='large',shadow=True)\n",
    "plt.show()\n",
    "print('Final cost: {0:.4f}'.format(history_cache.history['mse'][-1]))\n",
    "\n",
    "\n",
    "###############################################################################\n",
    "\n",
    "\n",
    "\n",
    "InputLayer = Input(shape=(1,))\n",
    "Layer_1 = Dense(12,activation=\"tanh\")(InputLayer)\n",
    "Layer_2 = Dense(12,activation=\"tanh\")(Layer_1)\n",
    "mu = Dense(1, activation=\"linear\")(Layer_2)\n",
    "sigma = Dense(1, activation=lambda x: tf.nn.elu(x) + 1)(Layer_2)\n",
    "y_real = Input(shape=(1,))\n",
    "lossF = mdn_cost(mu,sigma,y_real)\n",
    "model = Model(inputs=[InputLayer, y_real], outputs=[mu, sigma])\n",
    "model.add_loss(lossF)\n",
    "adamOptimizer = optimizers.Adam(learning_rate=learning_rate)\n",
    "model.compile(optimizer=adamOptimizer,metrics=['mse'])\n",
    "history_cache = model.fit([x_arr, y_arr], #notice we are using an input to pass the real values due to the inner workings of keras\n",
    "                          verbose=0, # write =1 if you wish to see the progress for each epoch\n",
    "                          epochs=epochs,\n",
    "                          batch_size=batch_size)\n",
    "                          \n",
    "print('Final cost: {0:.4f}'.format(history_cache.history['loss'][-1]))\n",
    "\n",
    "mu_pred, sigma_pred = model.predict(list((x_test,x_test))) \n",
    "# the model expects a list of arrays as it has 2 inputs\n",
    "\n",
    "\n",
    "fig, ax = plt.subplots(figsize=(10,10))\n",
    "plt.grid(True)\n",
    "plt.xlabel('x')\n",
    "plt.ylabel('y')\n",
    "ax.errorbar(x_test,mu_pred,yerr=np.absolute(sigma_pred),c='r',ls='None',marker='.',\n",
    "                                    ms=10,label='predicted distributions')\n",
    "                                    \n",
    "ax.scatter(x_arr,y_arr,c='b',alpha=0.05,label='sampled data')\n",
    "ax.errorbar(x_vals,list(map(f,x_vals)),yerr=list(map(lambda x: sigma_0*x,x_vals)),c='b',\n",
    "                                lw=2,ls='None',marker='.',ms=10,label='true distributions')\n",
    "                                \n",
    "ax.plot(x_vals,list(map(f,x_vals)),c='m',label='f(x)')\n",
    "ax.legend(loc='upper center',fontsize='large',shadow=True)\n",
    "plt.show()\n",
    "\n",
    "'''\n",
    "\n",
    "\n"
   ]
  },
  {
   "cell_type": "code",
   "execution_count": null,
   "id": "658ca070",
   "metadata": {},
   "outputs": [],
   "source": []
  }
 ],
 "metadata": {
  "kernelspec": {
   "display_name": "Python 3 (ipykernel)",
   "language": "python",
   "name": "python3"
  },
  "language_info": {
   "codemirror_mode": {
    "name": "ipython",
    "version": 3
   },
   "file_extension": ".py",
   "mimetype": "text/x-python",
   "name": "python",
   "nbconvert_exporter": "python",
   "pygments_lexer": "ipython3",
   "version": "3.8.13"
  }
 },
 "nbformat": 4,
 "nbformat_minor": 5
}
