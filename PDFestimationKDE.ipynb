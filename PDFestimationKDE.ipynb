{
 "cells": [
  {
   "cell_type": "markdown",
   "id": "7abf1539",
   "metadata": {},
   "source": [
    "## Probability Density Function (PDF) Estimation \n",
    "\n",
    "A random variable x has a probability distribution $ p(x) $.\n",
    "\n",
    "Common probability distributions include uniform, normal, exponential, binomial, poisson, etc.\n",
    "\n"
   ]
  },
  {
   "cell_type": "code",
   "execution_count": 1,
   "id": "badaf5b4",
   "metadata": {},
   "outputs": [],
   "source": [
    "######################################################\n",
    "##\n",
    "## Probability Density Function (PDF) Estimation\n",
    "##\n",
    "######################################################\n",
    "\n",
    "import torch\n",
    "import numpy as np\n",
    "import pandas as pd\n",
    "import sklearn\n",
    "import torch.nn as nn\n",
    "import torch.nn.functional as F\n",
    "import matplotlib.pyplot as plt\n",
    "\n",
    "\n",
    "from torch.utils.data import TensorDataset, DataLoader\n",
    "from sklearn.model_selection import train_test_split\n",
    "from mlxtend.plotting import heatmap\n",
    "from numpy.random import normal\n",
    "from scipy.stats import norm\n",
    "from numpy import hstack\n",
    "from numpy import asarray\n",
    "from numpy import exp\n",
    "from sklearn.neighbors import KernelDensity\n",
    "\n",
    "## coefficient of determination (R**2)\n",
    "from sklearn.metrics import r2_score\n",
    "\n",
    "\n",
    "#######################################################\n",
    "\n",
    "N_EPOCHS = 50000\n",
    "batch_size = 10\n",
    "learning_rate =  0.01    ## 0.01   ## 1e-5 \n",
    "\n",
    "## probably need adjustable learning rate scheduler\n",
    "\n",
    "#######################################################\n",
    "\n",
    "np.set_printoptions(suppress=True)\n",
    "torch.set_printoptions(sci_mode=False)\n",
    "\n",
    "#######################################################"
   ]
  },
  {
   "cell_type": "markdown",
   "id": "1f8d4ca7",
   "metadata": {},
   "source": [
    "## The Histogram"
   ]
  },
  {
   "cell_type": "code",
   "execution_count": 2,
   "id": "9c823993",
   "metadata": {},
   "outputs": [
    {
     "data": {
      "image/png": "[encoded data removed]",
      "text/plain": [
       "<Figure size 432x288 with 1 Axes>"
      ]
     },
     "metadata": {
      "needs_background": "light"
     },
     "output_type": "display_data"
    }
   ],
   "source": [
    "\n",
    "sample = normal(size=1000)\n",
    "\n",
    "\n",
    "plt.hist(sample, bins=10)\n",
    "plt.show()\n"
   ]
  },
  {
   "cell_type": "markdown",
   "id": "e23764ce",
   "metadata": {},
   "source": [
    "## Parametric Density Estimation\n",
    "\n",
    "First identify one of the common probability distributions, and then you estimate the parameters for it. "
   ]
  },
  {
   "cell_type": "code",
   "execution_count": 3,
   "id": "ebc96eb0",
   "metadata": {},
   "outputs": [],
   "source": [
    "\n",
    "## loc -> mean -> 50\n",
    "## scale -> standard deviation -> 5\n",
    "\n",
    "sample = normal(loc=50, scale=5, size=1000)"
   ]
  },
  {
   "cell_type": "code",
   "execution_count": 4,
   "id": "6a6cf64b",
   "metadata": {},
   "outputs": [
    {
     "name": "stdout",
     "output_type": "stream",
     "text": [
      "mean=49.913, Standard Deviation=4.836\n"
     ]
    }
   ],
   "source": [
    "## calculate parameters\n",
    "\n",
    "sample_mean         = np.mean(sample)\n",
    "sample_standard_dev = np.std(sample)\n",
    "\n",
    "print('mean=%.3f, Standard Deviation=%.3f' % (sample_mean, sample_standard_dev))"
   ]
  },
  {
   "cell_type": "markdown",
   "id": "1870e09a",
   "metadata": {},
   "source": [
    "## Define the normal distribution function with learned parameters\n",
    "\n"
   ]
  },
  {
   "cell_type": "code",
   "execution_count": 5,
   "id": "a4d3a03b",
   "metadata": {},
   "outputs": [],
   "source": [
    "\n",
    "\n",
    "dist = norm(sample_mean, sample_standard_dev)\n",
    "\n"
   ]
  },
  {
   "cell_type": "markdown",
   "id": "29f74989",
   "metadata": {},
   "source": [
    "## Now sample probabilities from this distribution for a range of values"
   ]
  },
  {
   "cell_type": "code",
   "execution_count": 6,
   "id": "0d091253",
   "metadata": {},
   "outputs": [
    {
     "name": "stdout",
     "output_type": "stream",
     "text": [
      "[1.7187558099923707e-05, 3.941388564941389e-05, 8.660001892838958e-05, 0.00018231415266619435, 0.0003677531839115066, 0.0007107652084864507, 0.0013162232036428123, 0.0023354285544449883, 0.003970427687659962, 0.006467577735344059, 0.010094380836223613, 0.015095634622188683, 0.021630010346917916, 0.02969584861251574, 0.039063253824982, 0.049235091836506324, 0.05945860980119668, 0.06879999567035965, 0.07627737392169608, 0.08102829792884347, 0.0824729181409151, 0.08043029626029426, 0.07515565030711517, 0.06728794536339587, 0.057722689653847886, 0.04744489753429541, 0.037365098239722755, 0.028195279592025373, 0.020385451950782594, 0.014122056503243087, 0.00937366021967774, 0.005961480543159064, 0.0036327266205930775, 0.0021210209768539766, 0.0011865631935480418, 0.0006360195179386314, 0.0003266507620357276, 0.00016074244491961026, 7.578986360363818e-05, 3.423933671491936e-05]\n"
     ]
    }
   ],
   "source": [
    "## sample probabilities for a range of values\n",
    "\n",
    "values = [value for value in range(30 ,70)]\n",
    "\n",
    "probabilities = [dist.pdf(value) for value in values]\n",
    "\n",
    "print(probabilities)\n"
   ]
  },
  {
   "cell_type": "code",
   "execution_count": 7,
   "id": "41e703fb",
   "metadata": {},
   "outputs": [
    {
     "data": {
      "image/png": "[encoded data removed]",
      "text/plain": [
       "<Figure size 432x288 with 1 Axes>"
      ]
     },
     "metadata": {
      "needs_background": "light"
     },
     "output_type": "display_data"
    }
   ],
   "source": [
    "\n",
    "## plot the histogram and PDF\n",
    "\n",
    "## plt.hist(sample, bins=10)                       ## shows the count\n",
    "plt.hist(sample, bins=10, density=True)      ## shows a normalized probability instead of counts\n",
    "plt.plot(values, probabilities)\n",
    "plt.show()\n",
    "\n"
   ]
  },
  {
   "cell_type": "markdown",
   "id": "ff6aa9bb",
   "metadata": {},
   "source": [
    "## Nonparametric Density Estimation\n",
    "\n",
    "This approach is useful when there is no clear distribution from observation but you can still create a pdf.\n",
    "\n",
    "Possibly, the most common non-parametric approach for estimating the PDF of a random variable is \"Kernel Smoothing\" or \"Kernel Density Estimation (KDE)\". In this case, a kernel is a mathematical function that returns a probability for a given value of a random variable. \n",
    "\n",
    "I think this is a sum of basis functions to approximate a new PDF function where the area equals to 1. \n",
    "\n",
    "## First generate the data with no clear known distribution"
   ]
  },
  {
   "cell_type": "code",
   "execution_count": 8,
   "id": "005699f9",
   "metadata": {},
   "outputs": [
    {
     "data": {
      "image/png": "[encoded data removed]",
      "text/plain": [
       "<Figure size 432x288 with 1 Axes>"
      ]
     },
     "metadata": {
      "needs_background": "light"
     },
     "output_type": "display_data"
    }
   ],
   "source": [
    "\n",
    "sample1 = normal(loc=20, scale=5, size=300)\n",
    "sample2 = normal(loc=40, scale=5, size=700)\n",
    "\n",
    "sample = hstack((sample1, sample2))\n",
    "plt.hist(sample, bins=50)\n",
    "plt.show()\n"
   ]
  },
  {
   "cell_type": "markdown",
   "id": "58694ab5",
   "metadata": {},
   "source": [
    "## Now perform Kernel Density Estimation on this data to find the PDF\n",
    "\n",
    "The data needs to have a 2D shape in the form (rows, columns)."
   ]
  },
  {
   "cell_type": "code",
   "execution_count": 9,
   "id": "7fa0b259",
   "metadata": {},
   "outputs": [
    {
     "data": {
      "text/html": [
       "<style>#sk-container-id-1 {color: black;background-color: white;}#sk-container-id-1 pre{padding: 0;}#sk-container-id-1 div.sk-toggleable {background-color: white;}#sk-container-id-1 label.sk-toggleable__label {cursor: pointer;display: block;width: 100%;margin-bottom: 0;padding: 0.3em;box-sizing: border-box;text-align: center;}#sk-container-id-1 label.sk-toggleable__label-arrow:before {content: \"▸\";float: left;margin-right: 0.25em;color: #696969;}#sk-container-id-1 label.sk-toggleable__label-arrow:hover:before {color: black;}#sk-container-id-1 div.sk-estimator:hover label.sk-toggleable__label-arrow:before {color: black;}#sk-container-id-1 div.sk-toggleable__content {max-height: 0;max-width: 0;overflow: hidden;text-align: left;background-color: #f0f8ff;}#sk-container-id-1 div.sk-toggleable__content pre {margin: 0.2em;color: black;border-radius: 0.25em;background-color: #f0f8ff;}#sk-container-id-1 input.sk-toggleable__control:checked~div.sk-toggleable__content {max-height: 200px;max-width: 100%;overflow: auto;}#sk-container-id-1 input.sk-toggleable__control:checked~label.sk-toggleable__label-arrow:before {content: \"▾\";}#sk-container-id-1 div.sk-estimator input.sk-toggleable__control:checked~label.sk-toggleable__label {background-color: #d4ebff;}#sk-container-id-1 div.sk-label input.sk-toggleable__control:checked~label.sk-toggleable__label {background-color: #d4ebff;}#sk-container-id-1 input.sk-hidden--visually {border: 0;clip: rect(1px 1px 1px 1px);clip: rect(1px, 1px, 1px, 1px);height: 1px;margin: -1px;overflow: hidden;padding: 0;position: absolute;width: 1px;}#sk-container-id-1 div.sk-estimator {font-family: monospace;background-color: #f0f8ff;border: 1px dotted black;border-radius: 0.25em;box-sizing: border-box;margin-bottom: 0.5em;}#sk-container-id-1 div.sk-estimator:hover {background-color: #d4ebff;}#sk-container-id-1 div.sk-parallel-item::after {content: \"\";width: 100%;border-bottom: 1px solid gray;flex-grow: 1;}#sk-container-id-1 div.sk-label:hover label.sk-toggleable__label {background-color: #d4ebff;}#sk-container-id-1 div.sk-serial::before {content: \"\";position: absolute;border-left: 1px solid gray;box-sizing: border-box;top: 0;bottom: 0;left: 50%;z-index: 0;}#sk-container-id-1 div.sk-serial {display: flex;flex-direction: column;align-items: center;background-color: white;padding-right: 0.2em;padding-left: 0.2em;position: relative;}#sk-container-id-1 div.sk-item {position: relative;z-index: 1;}#sk-container-id-1 div.sk-parallel {display: flex;align-items: stretch;justify-content: center;background-color: white;position: relative;}#sk-container-id-1 div.sk-item::before, #sk-container-id-1 div.sk-parallel-item::before {content: \"\";position: absolute;border-left: 1px solid gray;box-sizing: border-box;top: 0;bottom: 0;left: 50%;z-index: -1;}#sk-container-id-1 div.sk-parallel-item {display: flex;flex-direction: column;z-index: 1;position: relative;background-color: white;}#sk-container-id-1 div.sk-parallel-item:first-child::after {align-self: flex-end;width: 50%;}#sk-container-id-1 div.sk-parallel-item:last-child::after {align-self: flex-start;width: 50%;}#sk-container-id-1 div.sk-parallel-item:only-child::after {width: 0;}#sk-container-id-1 div.sk-dashed-wrapped {border: 1px dashed gray;margin: 0 0.4em 0.5em 0.4em;box-sizing: border-box;padding-bottom: 0.4em;background-color: white;}#sk-container-id-1 div.sk-label label {font-family: monospace;font-weight: bold;display: inline-block;line-height: 1.2em;}#sk-container-id-1 div.sk-label-container {text-align: center;}#sk-container-id-1 div.sk-container {/* jupyter's `normalize.less` sets `[hidden] { display: none; }` but bootstrap.min.css set `[hidden] { display: none !important; }` so we also need the `!important` here to be able to override the default hidden behavior on the sphinx rendered scikit-learn.org. See: https://github.com/scikit-learn/scikit-learn/issues/21755 */display: inline-block !important;position: relative;}#sk-container-id-1 div.sk-text-repr-fallback {display: none;}</style><div id=\"sk-container-id-1\" class=\"sk-top-container\"><div class=\"sk-text-repr-fallback\"><pre>KernelDensity(bandwidth=2)</pre><b>In a Jupyter environment, please rerun this cell to show the HTML representation or trust the notebook. <br />On GitHub, the HTML representation is unable to render, please try loading this page with nbviewer.org.</b></div><div class=\"sk-container\" hidden><div class=\"sk-item\"><div class=\"sk-estimator sk-toggleable\"><input class=\"sk-toggleable__control sk-hidden--visually\" id=\"sk-estimator-id-1\" type=\"checkbox\" checked><label for=\"sk-estimator-id-1\" class=\"sk-toggleable__label sk-toggleable__label-arrow\">KernelDensity</label><div class=\"sk-toggleable__content\"><pre>KernelDensity(bandwidth=2)</pre></div></div></div></div></div>"
      ],
      "text/plain": [
       "KernelDensity(bandwidth=2)"
      ]
     },
     "execution_count": 9,
     "metadata": {},
     "output_type": "execute_result"
    }
   ],
   "source": [
    "\n",
    "## Bandwidth (smoothing parameter) is a window size required by the algorithm that controls \n",
    "## the number of observations (samples) to look at per new point to estimate. \n",
    "## The kernel is the basis function. \n",
    "\n",
    "model = KernelDensity(bandwidth=2, kernel='gaussian')\n",
    "\n",
    "sample = sample.reshape((len(sample), 1))              ## 1000x1\n",
    "\n",
    "model.fit(sample)\n"
   ]
  },
  {
   "cell_type": "markdown",
   "id": "d5d2a225",
   "metadata": {},
   "source": [
    "## Now compare the estimated PDF to the histogram\n",
    "\n",
    "The model calculates the log probability for the input data with model.score_samples(). We then need to invert the log operation by calculating the exponent to return the values to the 0-1 range for normal probabilities. \n",
    "\n",
    "if\n",
    "\n",
    "$ \\large log_a b = c  $\n",
    "\n",
    "\n",
    "then\n",
    "\n",
    "$ \\large a^c = b $\n",
    "\n",
    "The irrational number $ e $ is also known as Euler’s number. It is approximately 2.718281, and is the base of the natural logarithm (ln). This means that, if \n",
    "\n",
    "$ \\large x = \\ln y = log_{e} y  $ \n",
    "\n",
    "\n",
    "then \n",
    "\n",
    "$  \\large e^x = y  $\n",
    "\n",
    "\n",
    "For real input, exp(x) is always positive."
   ]
  },
  {
   "cell_type": "code",
   "execution_count": 10,
   "id": "5c71fe83",
   "metadata": {},
   "outputs": [
    {
     "name": "stdout",
     "output_type": "stream",
     "text": [
      "[-8.72160332 -8.91120356 -8.84941128 -8.55724127 -8.2203527  -7.84445673\n",
      " -7.35688874 -6.79688409 -6.26619867 -5.81292192 -5.42769216 -5.08205901\n",
      " -4.76186073 -4.47543392 -4.23702097 -4.05132458 -3.91294071 -3.81407688\n",
      " -3.7514596  -3.72843211 -3.75163176 -3.824226   -3.94055492 -4.08560137\n",
      " -4.23696    -4.36639272 -4.44662452 -4.46509402 -4.42565578 -4.33314983\n",
      " -4.18732175 -3.99495689 -3.77825668 -3.56644515 -3.38234363 -3.23596629\n",
      " -3.12599006 -3.04620064 -2.99292649 -2.96812921 -2.97653726 -3.02121522\n",
      " -3.10174634 -3.2152831  -3.35907938 -3.53286198 -3.73977539 -3.98654347\n",
      " -4.28316759 -4.6392272  -5.05587006 -5.51998034 -6.00693334 -6.48701365\n",
      " -6.93359777 -7.35098029 -7.79790182 -8.35689648 -9.09175513]\n"
     ]
    }
   ],
   "source": [
    "values = asarray([value for value in range(1, 60)])\n",
    "values = values.reshape((len(values), 1))\n",
    "probabilities = model.score_samples(values)\n",
    "print(probabilities)"
   ]
  },
  {
   "cell_type": "code",
   "execution_count": 11,
   "id": "306127dc",
   "metadata": {},
   "outputs": [
    {
     "name": "stdout",
     "output_type": "stream",
     "text": [
      "[0.00016303 0.00013487 0.00014347 0.00019215 0.00026912 0.00039192\n",
      " 0.00063818 0.00111725 0.00189944 0.00298868 0.00439322 0.00620712\n",
      " 0.00854969 0.01138528 0.01445058 0.01739931 0.01998165 0.02205807\n",
      " 0.02348344 0.02403048 0.0234794  0.02183533 0.01943743 0.01681303\n",
      " 0.01445146 0.01269696 0.01171805 0.01150361 0.01196636 0.01312614\n",
      " 0.0151869  0.01840824 0.02286251 0.02825612 0.03396775 0.03932219\n",
      " 0.04389345 0.0475392  0.05014049 0.05139938 0.05096902 0.04874195\n",
      " 0.0449706  0.04014397 0.03476725 0.02922117 0.02375944 0.01856377\n",
      " 0.01379888 0.00966516 0.00637182 0.00400593 0.00246163 0.00152309\n",
      " 0.00097449 0.00064196 0.0004106  0.00023477 0.00011259]\n"
     ]
    }
   ],
   "source": [
    "## now invert from log space to exponent space \n",
    "\n",
    "probabilities = exp(probabilities)\n",
    "print(probabilities)"
   ]
  },
  {
   "cell_type": "code",
   "execution_count": 12,
   "id": "8544bcb5",
   "metadata": {},
   "outputs": [
    {
     "data": {
      "image/png": "[encoded data removed]",
      "text/plain": [
       "<Figure size 432x288 with 1 Axes>"
      ]
     },
     "metadata": {
      "needs_background": "light"
     },
     "output_type": "display_data"
    }
   ],
   "source": [
    "\n",
    "plt.hist(sample, bins=50, density=True)     ## see probs instead of counts with density=True\n",
    "plt.plot(values[:], probabilities)          ## reshaped to 2D\n",
    "plt.show()\n"
   ]
  },
  {
   "cell_type": "code",
   "execution_count": null,
   "id": "eb6e71b6",
   "metadata": {},
   "outputs": [],
   "source": []
  }
 ],
 "metadata": {
  "kernelspec": {
   "display_name": "Python 3 (ipykernel)",
   "language": "python",
   "name": "python3"
  },
  "language_info": {
   "codemirror_mode": {
    "name": "ipython",
    "version": 3
   },
   "file_extension": ".py",
   "mimetype": "text/x-python",
   "name": "python",
   "nbconvert_exporter": "python",
   "pygments_lexer": "ipython3",
   "version": "3.8.13"
  }
 },
 "nbformat": 4,
 "nbformat_minor": 5
}
