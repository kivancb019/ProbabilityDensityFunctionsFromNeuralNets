{
 "cells": [
  {
   "cell_type": "markdown",
   "id": "7abf1539",
   "metadata": {},
   "source": [
    "## Probability Density Function (PDF) Estimation \n",
    "\n",
    "A random variable x has a probability distribution $ p(x) $.\n",
    "\n",
    "Common probability distributions include uniform, normal, exponential, binomial, poisson, etc.\n",
    "\n"
   ]
  },
  {
   "cell_type": "code",
   "execution_count": 1,
   "id": "badaf5b4",
   "metadata": {},
   "outputs": [],
   "source": [
    "######################################################\n",
    "##\n",
    "## Probability Density Function (PDF) Estimation\n",
    "##\n",
    "######################################################\n",
    "\n",
    "import torch\n",
    "import numpy as np\n",
    "import pandas as pd\n",
    "import sklearn\n",
    "import torch.nn as nn\n",
    "import torch.nn.functional as F\n",
    "import matplotlib.pyplot as plt\n",
    "\n",
    "\n",
    "from torch.utils.data import TensorDataset, DataLoader\n",
    "from sklearn.model_selection import train_test_split\n",
    "from mlxtend.plotting import heatmap\n",
    "from numpy.random import normal\n",
    "from scipy.stats import norm\n",
    "from numpy import hstack\n",
    "from numpy import asarray\n",
    "from numpy import exp\n",
    "from sklearn.neighbors import KernelDensity\n",
    "\n",
    "## coefficient of determination (R**2)\n",
    "from sklearn.metrics import r2_score\n",
    "\n",
    "\n",
    "#######################################################\n",
    "\n",
    "N_EPOCHS = 50000\n",
    "batch_size = 10\n",
    "learning_rate =  0.01    ## 0.01   ## 1e-5 \n",
    "\n",
    "## probably need adjustable learning rate scheduler\n",
    "\n",
    "#######################################################\n",
    "\n",
    "np.set_printoptions(suppress=True)\n",
    "torch.set_printoptions(sci_mode=False)\n",
    "\n",
    "#######################################################"
   ]
  },
  {
   "cell_type": "markdown",
   "id": "1f8d4ca7",
   "metadata": {},
   "source": [
    "## The Histogram"
   ]
  },
  {
   "cell_type": "code",
   "execution_count": 2,
   "id": "9c823993",
   "metadata": {},
   "outputs": [
    {
     "data": {
      "image/png": "[encoded data removed]",
      "text/plain": [
       "<Figure size 432x288 with 1 Axes>"
      ]
     },
     "metadata": {
      "needs_background": "light"
     },
     "output_type": "display_data"
    }
   ],
   "source": [
    "\n",
    "sample = normal(size=1000)\n",
    "\n",
    "\n",
    "plt.hist(sample, bins=10)\n",
    "plt.show()\n"
   ]
  },
  {
   "cell_type": "markdown",
   "id": "e23764ce",
   "metadata": {},
   "source": [
    "## Parametric Density Estimation\n",
    "\n",
    "First identify one of the common probability distributions, and then you estimate the parameters for it. "
   ]
  },
  {
   "cell_type": "code",
   "execution_count": 3,
   "id": "ebc96eb0",
   "metadata": {},
   "outputs": [],
   "source": [
    "\n",
    "## loc -> mean -> 50\n",
    "## scale -> standard deviation -> 5\n",
    "\n",
    "sample = normal(loc=50, scale=5, size=1000)"
   ]
  },
  {
   "cell_type": "code",
   "execution_count": 4,
   "id": "6a6cf64b",
   "metadata": {},
   "outputs": [
    {
     "name": "stdout",
     "output_type": "stream",
     "text": [
      "mean=49.887, Standard Deviation=5.192\n"
     ]
    }
   ],
   "source": [
    "## calculate parameters\n",
    "\n",
    "sample_mean         = np.mean(sample)\n",
    "sample_standard_dev = np.std(sample)\n",
    "\n",
    "print('mean=%.3f, Standard Deviation=%.3f' % (sample_mean, sample_standard_dev))"
   ]
  },
  {
   "cell_type": "markdown",
   "id": "1870e09a",
   "metadata": {},
   "source": [
    "## Define the normal distribution function with learned parameters\n",
    "\n"
   ]
  },
  {
   "cell_type": "code",
   "execution_count": 5,
   "id": "a4d3a03b",
   "metadata": {},
   "outputs": [],
   "source": [
    "\n",
    "\n",
    "dist = norm(sample_mean, sample_standard_dev)\n",
    "\n"
   ]
  },
  {
   "cell_type": "markdown",
   "id": "29f74989",
   "metadata": {},
   "source": [
    "## Now sample probabilities from this distribution for a range of values"
   ]
  },
  {
   "cell_type": "code",
   "execution_count": 6,
   "id": "0d091253",
   "metadata": {},
   "outputs": [
    {
     "name": "stdout",
     "output_type": "stream",
     "text": [
      "[5.008085782237061e-05, 0.00010280412607912964, 0.00020334753832777772, 0.0003875760037352404, 0.0007118105637102862, 0.0012596838596325558, 0.002148069298635638, 0.003529592748960116, 0.0055884387647457045, 0.008526012829874799, 0.012534039370409016, 0.0177552059640121, 0.024235387161538585, 0.031875998431024434, 0.04039868408092595, 0.04933557888896836, 0.05805542722411076, 0.06582865922000446, 0.07192448836409857, 0.0757230573038249, 0.07681907732741912, 0.07509302858866249, 0.07073261940224543, 0.06419917539616117, 0.0561472830399103, 0.04731704654622378, 0.038423427199570405, 0.03006520416155995, 0.022668448810730296, 0.016469068475557076, 0.011529377394344498, 0.0077773610845521006, 0.005055315413325534, 0.0031663129675998675, 0.0019109486147713985, 0.001111306273294337, 0.0006227419326704625, 0.00033625754799715705, 0.00017495467857525762, 8.771394962215156e-05]\n"
     ]
    }
   ],
   "source": [
    "## sample probabilities for a range of values\n",
    "\n",
    "values = [value for value in range(30 ,70)]\n",
    "\n",
    "probabilities = [dist.pdf(value) for value in values]\n",
    "\n",
    "print(probabilities)\n"
   ]
  },
  {
   "cell_type": "code",
   "execution_count": 7,
   "id": "41e703fb",
   "metadata": {},
   "outputs": [
    {
     "data": {
      "image/png": "[encoded data removed]",
      "text/plain": [
       "<Figure size 432x288 with 1 Axes>"
      ]
     },
     "metadata": {
      "needs_background": "light"
     },
     "output_type": "display_data"
    }
   ],
   "source": [
    "\n",
    "## plot the histogram and PDF\n",
    "\n",
    "## plt.hist(sample, bins=10)                       ## shows the count\n",
    "plt.hist(sample, bins=10, density=True)      ## shows a normalized probability instead of counts\n",
    "plt.plot(values, probabilities)\n",
    "plt.show()\n",
    "\n"
   ]
  },
  {
   "cell_type": "markdown",
   "id": "ff6aa9bb",
   "metadata": {},
   "source": [
    "## Nonparametric Density Estimation\n",
    "\n",
    "This approach is useful when there is no clear distribution from observation but you can still create a pdf.\n",
    "\n",
    "Possibly, the most common non-parametric approach for estimating the PDF of a random variable is \"Kernel Smoothing\" or \"Kernel Density Estimation (KDE)\". In this case, a kernel is a mathematical function that returns a probability for a given value of a random variable. \n",
    "\n",
    "I think this is a sum of basis functions to approximate a new PDF function where the area equals to 1. \n",
    "\n",
    "## First generate the data with no clear known distribution"
   ]
  },
  {
   "cell_type": "code",
   "execution_count": 8,
   "id": "005699f9",
   "metadata": {},
   "outputs": [
    {
     "data": {
      "image/png": "[encoded data removed]",
      "text/plain": [
       "<Figure size 432x288 with 1 Axes>"
      ]
     },
     "metadata": {
      "needs_background": "light"
     },
     "output_type": "display_data"
    }
   ],
   "source": [
    "\n",
    "sample1 = normal(loc=20, scale=5, size=300)\n",
    "sample2 = normal(loc=40, scale=5, size=700)\n",
    "\n",
    "sample = hstack((sample1, sample2))\n",
    "plt.hist(sample, bins=50)\n",
    "plt.show()\n"
   ]
  },
  {
   "cell_type": "markdown",
   "id": "58694ab5",
   "metadata": {},
   "source": [
    "## Now perform Kernel Density Estimation on this data to find the PDF\n",
    "\n",
    "The data needs to have a 2D shape in the form (rows, columns)."
   ]
  },
  {
   "cell_type": "code",
   "execution_count": 9,
   "id": "7fa0b259",
   "metadata": {},
   "outputs": [
    {
     "data": {
      "text/html": [
       "<style>#sk-container-id-1 {color: black;background-color: white;}#sk-container-id-1 pre{padding: 0;}#sk-container-id-1 div.sk-toggleable {background-color: white;}#sk-container-id-1 label.sk-toggleable__label {cursor: pointer;display: block;width: 100%;margin-bottom: 0;padding: 0.3em;box-sizing: border-box;text-align: center;}#sk-container-id-1 label.sk-toggleable__label-arrow:before {content: \"▸\";float: left;margin-right: 0.25em;color: #696969;}#sk-container-id-1 label.sk-toggleable__label-arrow:hover:before {color: black;}#sk-container-id-1 div.sk-estimator:hover label.sk-toggleable__label-arrow:before {color: black;}#sk-container-id-1 div.sk-toggleable__content {max-height: 0;max-width: 0;overflow: hidden;text-align: left;background-color: #f0f8ff;}#sk-container-id-1 div.sk-toggleable__content pre {margin: 0.2em;color: black;border-radius: 0.25em;background-color: #f0f8ff;}#sk-container-id-1 input.sk-toggleable__control:checked~div.sk-toggleable__content {max-height: 200px;max-width: 100%;overflow: auto;}#sk-container-id-1 input.sk-toggleable__control:checked~label.sk-toggleable__label-arrow:before {content: \"▾\";}#sk-container-id-1 div.sk-estimator input.sk-toggleable__control:checked~label.sk-toggleable__label {background-color: #d4ebff;}#sk-container-id-1 div.sk-label input.sk-toggleable__control:checked~label.sk-toggleable__label {background-color: #d4ebff;}#sk-container-id-1 input.sk-hidden--visually {border: 0;clip: rect(1px 1px 1px 1px);clip: rect(1px, 1px, 1px, 1px);height: 1px;margin: -1px;overflow: hidden;padding: 0;position: absolute;width: 1px;}#sk-container-id-1 div.sk-estimator {font-family: monospace;background-color: #f0f8ff;border: 1px dotted black;border-radius: 0.25em;box-sizing: border-box;margin-bottom: 0.5em;}#sk-container-id-1 div.sk-estimator:hover {background-color: #d4ebff;}#sk-container-id-1 div.sk-parallel-item::after {content: \"\";width: 100%;border-bottom: 1px solid gray;flex-grow: 1;}#sk-container-id-1 div.sk-label:hover label.sk-toggleable__label {background-color: #d4ebff;}#sk-container-id-1 div.sk-serial::before {content: \"\";position: absolute;border-left: 1px solid gray;box-sizing: border-box;top: 0;bottom: 0;left: 50%;z-index: 0;}#sk-container-id-1 div.sk-serial {display: flex;flex-direction: column;align-items: center;background-color: white;padding-right: 0.2em;padding-left: 0.2em;position: relative;}#sk-container-id-1 div.sk-item {position: relative;z-index: 1;}#sk-container-id-1 div.sk-parallel {display: flex;align-items: stretch;justify-content: center;background-color: white;position: relative;}#sk-container-id-1 div.sk-item::before, #sk-container-id-1 div.sk-parallel-item::before {content: \"\";position: absolute;border-left: 1px solid gray;box-sizing: border-box;top: 0;bottom: 0;left: 50%;z-index: -1;}#sk-container-id-1 div.sk-parallel-item {display: flex;flex-direction: column;z-index: 1;position: relative;background-color: white;}#sk-container-id-1 div.sk-parallel-item:first-child::after {align-self: flex-end;width: 50%;}#sk-container-id-1 div.sk-parallel-item:last-child::after {align-self: flex-start;width: 50%;}#sk-container-id-1 div.sk-parallel-item:only-child::after {width: 0;}#sk-container-id-1 div.sk-dashed-wrapped {border: 1px dashed gray;margin: 0 0.4em 0.5em 0.4em;box-sizing: border-box;padding-bottom: 0.4em;background-color: white;}#sk-container-id-1 div.sk-label label {font-family: monospace;font-weight: bold;display: inline-block;line-height: 1.2em;}#sk-container-id-1 div.sk-label-container {text-align: center;}#sk-container-id-1 div.sk-container {/* jupyter's `normalize.less` sets `[hidden] { display: none; }` but bootstrap.min.css set `[hidden] { display: none !important; }` so we also need the `!important` here to be able to override the default hidden behavior on the sphinx rendered scikit-learn.org. See: https://github.com/scikit-learn/scikit-learn/issues/21755 */display: inline-block !important;position: relative;}#sk-container-id-1 div.sk-text-repr-fallback {display: none;}</style><div id=\"sk-container-id-1\" class=\"sk-top-container\"><div class=\"sk-text-repr-fallback\"><pre>KernelDensity(bandwidth=2)</pre><b>In a Jupyter environment, please rerun this cell to show the HTML representation or trust the notebook. <br />On GitHub, the HTML representation is unable to render, please try loading this page with nbviewer.org.</b></div><div class=\"sk-container\" hidden><div class=\"sk-item\"><div class=\"sk-estimator sk-toggleable\"><input class=\"sk-toggleable__control sk-hidden--visually\" id=\"sk-estimator-id-1\" type=\"checkbox\" checked><label for=\"sk-estimator-id-1\" class=\"sk-toggleable__label sk-toggleable__label-arrow\">KernelDensity</label><div class=\"sk-toggleable__content\"><pre>KernelDensity(bandwidth=2)</pre></div></div></div></div></div>"
      ],
      "text/plain": [
       "KernelDensity(bandwidth=2)"
      ]
     },
     "execution_count": 9,
     "metadata": {},
     "output_type": "execute_result"
    }
   ],
   "source": [
    "\n",
    "## Bandwidth (smoothing parameter) is a window size required by the algorithm that controls \n",
    "## the number of observations (samples) to look at per new point to estimate. \n",
    "## The kernel is the basis function. \n",
    "\n",
    "model = KernelDensity(bandwidth=2, kernel='gaussian')\n",
    "\n",
    "sample = sample.reshape((len(sample), 1))              ## 1000x1\n",
    "\n",
    "model.fit(sample)\n"
   ]
  },
  {
   "cell_type": "markdown",
   "id": "d5d2a225",
   "metadata": {},
   "source": [
    "## Now compare the estimated PDF to the histogram\n",
    "\n",
    "The model calculates the log probability for the input data with model.score_samples(). We then need to invert the log operation by calculating the exponent to return the values to the 0-1 range for normal probabilities. \n",
    "\n",
    "if\n",
    "\n",
    "$ \\large log_a b = c  $\n",
    "\n",
    "\n",
    "then\n",
    "\n",
    "$ \\large a^c = b $\n",
    "\n",
    "The irrational number $ e $ is also known as Euler’s number. It is approximately 2.718281, and is the base of the natural logarithm (ln). This means that, if \n",
    "\n",
    "$ \\large x = \\ln y = log_{e} y  $ \n",
    "\n",
    "\n",
    "then \n",
    "\n",
    "$  \\large e^x = y  $\n",
    "\n",
    "\n",
    "For real input, exp(x) is always positive."
   ]
  },
  {
   "cell_type": "code",
   "execution_count": 10,
   "id": "5c71fe83",
   "metadata": {},
   "outputs": [
    {
     "name": "stdout",
     "output_type": "stream",
     "text": [
      "[-8.31412601 -7.92050343 -7.70888621 -7.6336209  -7.61083328 -7.50880044\n",
      " -7.21391941 -6.74958432 -6.2304471  -5.74340408 -5.32696927 -4.98864587\n",
      " -4.71671765 -4.49077701 -4.29314516 -4.1151435  -3.95710946 -3.82702372\n",
      " -3.73798717 -3.7025383  -3.72650982 -3.80555661 -3.92366921 -4.05458246\n",
      " -4.17247515 -4.26755921 -4.34183166 -4.38509687 -4.37196356 -4.28981255\n",
      " -4.14910834 -3.96542132 -3.75625125 -3.54721293 -3.362365   -3.21298371\n",
      " -3.10101773 -3.02848285 -2.9989167  -3.01095815 -3.05483556 -3.11843762\n",
      " -3.19717106 -3.29557631 -3.41970005 -3.57152415 -3.751754   -3.96498636\n",
      " -4.21804319 -4.51223824 -4.84130069 -5.20312846 -5.61340339 -6.09933375\n",
      " -6.67757275 -7.34166609 -8.07549287 -8.88423592 -9.80593484]\n"
     ]
    }
   ],
   "source": [
    "values = asarray([value for value in range(1, 60)])\n",
    "values = values.reshape((len(values), 1))\n",
    "probabilities = model.score_samples(values)\n",
    "print(probabilities)"
   ]
  },
  {
   "cell_type": "code",
   "execution_count": 11,
   "id": "306127dc",
   "metadata": {},
   "outputs": [
    {
     "name": "stdout",
     "output_type": "stream",
     "text": [
      "[0.00024503 0.00036322 0.00044882 0.00048391 0.00049506 0.00054824\n",
      " 0.00073627 0.00117137 0.00196857 0.00320384 0.00485877 0.00681489\n",
      " 0.00894449 0.01121193 0.01366189 0.0163236  0.0191183  0.02177433\n",
      " 0.02380196 0.02466085 0.02407672 0.02224681 0.01976843 0.01734272\n",
      " 0.01541406 0.01401595 0.01301267 0.01246168 0.01262642 0.01370749\n",
      " 0.01577848 0.01896005 0.02337119 0.02880481 0.03465321 0.04023638\n",
      " 0.04500338 0.048389   0.04984103 0.04924447 0.04713047 0.04422621\n",
      " 0.04087768 0.03704669 0.03272225 0.02811297 0.02347653 0.0189683\n",
      " 0.01472744 0.01097387 0.00789678 0.00549933 0.00364863 0.00224436\n",
      " 0.00125883 0.00064797 0.00031107 0.00013856 0.00005512]\n"
     ]
    }
   ],
   "source": [
    "## now invert from log space to exponent space \n",
    "\n",
    "probabilities = exp(probabilities)\n",
    "print(probabilities)"
   ]
  },
  {
   "cell_type": "code",
   "execution_count": 12,
   "id": "8544bcb5",
   "metadata": {},
   "outputs": [
    {
     "data": {
      "image/png": "[encoded data removed]",
      "text/plain": [
       "<Figure size 432x288 with 1 Axes>"
      ]
     },
     "metadata": {
      "needs_background": "light"
     },
     "output_type": "display_data"
    }
   ],
   "source": [
    "\n",
    "plt.hist(sample, bins=50, density=True)     ## see probs instead of counts with density=True\n",
    "plt.plot(values[:], probabilities)          ## reshaped to 2D\n",
    "plt.show()\n"
   ]
  },
  {
   "cell_type": "code",
   "execution_count": null,
   "id": "eb6e71b6",
   "metadata": {},
   "outputs": [],
   "source": []
  }
 ],
 "metadata": {
  "kernelspec": {
   "display_name": "Python 3 (ipykernel)",
   "language": "python",
   "name": "python3"
  },
  "language_info": {
   "codemirror_mode": {
    "name": "ipython",
    "version": 3
   },
   "file_extension": ".py",
   "mimetype": "text/x-python",
   "name": "python",
   "nbconvert_exporter": "python",
   "pygments_lexer": "ipython3",
   "version": "3.8.13"
  }
 },
 "nbformat": 4,
 "nbformat_minor": 5
}
